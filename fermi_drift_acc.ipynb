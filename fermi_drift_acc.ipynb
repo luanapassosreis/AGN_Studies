{
 "cells": [
  {
   "cell_type": "markdown",
   "id": "cfb8c3b8-caeb-4ace-a08c-0dde719dfae0",
   "metadata": {},
   "source": [
    "This notebook was created for the study of a galaxy Seyfert Type II."
   ]
  },
  {
   "cell_type": "code",
   "execution_count": 1,
   "id": "bad6bf48-6a0d-4db1-ab21-87eb2e142992",
   "metadata": {},
   "outputs": [],
   "source": [
    "from astro_constants import *\n",
    "from source_parameters import *\n",
    "from rates import *"
   ]
  },
  {
   "cell_type": "code",
   "execution_count": 2,
   "id": "2b4287cd-f026-4d58-82cb-8924adda3da8",
   "metadata": {},
   "outputs": [],
   "source": [
    "import numpy as np\n",
    "import pandas as pd\n",
    "import seaborn as sns\n",
    "import matplotlib.pyplot as plt\n",
    "from scipy.integrate import quad\n",
    "from astropy import units as u\n",
    "from astropy import constants as const\n",
    "from scipy.stats import chisquare\n",
    "from scipy.optimize import curve_fit"
   ]
  },
  {
   "cell_type": "markdown",
   "id": "706cf604-a2ea-4f3d-8fef-b9159ab4cc99",
   "metadata": {},
   "source": [
    "## Coronal Parameters\n",
    "\n",
    "Defining our source"
   ]
  },
  {
   "cell_type": "code",
   "execution_count": 3,
   "id": "a201b8f5-06d1-4052-94e3-98bbb1e52398",
   "metadata": {},
   "outputs": [
    {
     "name": "stdout",
     "output_type": "stream",
     "text": [
      "\n",
      "Coronal Magnetic Field:\n",
      " B_c = 1.0478E+04 G\n",
      "\n",
      "Coronal Particle Number Density:\n",
      " n_c = 3.4392E+10 cm-3\n",
      "\n",
      "Coronal Temperature:\n",
      " T_c = 2.5282E+09 K\n",
      "\n",
      "Width of the current sheet:\n",
      " delta_RX = 1.6649E+11 cm\n",
      "\n",
      "Reconnection Power:\n",
      " wdot_B = 5.9912E+42 erg s-1\n"
     ]
    }
   ],
   "source": [
    "## Initialize the class\n",
    "coronal_data = Coronal_Description(r_x, l, l_x, mdot, m)\n",
    "\n",
    "## Calculate parameters for emission region\n",
    "B_c = coronal_data.coronal_mag_field()\n",
    "n_c = coronal_data.coronal_density()\n",
    "T_c = coronal_data.coronal_temperature()\n",
    "delta_RX = coronal_data.width_current_sheet()\n",
    "wdot_B = coronal_data.mag_rec_power()\n",
    "\n",
    "print(f'\\nCoronal Magnetic Field:\\n B_c = {B_c:.4E} G')\n",
    "print(f'\\nCoronal Particle Number Density:\\n n_c = {n_c:.4E} cm-3')\n",
    "print(f'\\nCoronal Temperature:\\n T_c = {T_c:.4E} K')\n",
    "print(f'\\nWidth of the current sheet:\\n delta_RX = {delta_RX:.4E} cm')\n",
    "print(f'\\nReconnection Power:\\n wdot_B = {wdot_B:.4E} erg s-1')"
   ]
  },
  {
   "cell_type": "code",
   "execution_count": null,
   "id": "4e8f77fb-fc75-4756-88dc-03777c762189",
   "metadata": {},
   "outputs": [],
   "source": []
  },
  {
   "cell_type": "markdown",
   "id": "4302724c-d9de-4902-afa0-506a0b7ac0e3",
   "metadata": {},
   "source": [
    "## Maximum Accelerating Energy:\n",
    "\n",
    "Larmor radius:\n",
    "\n",
    "$$ r_{L} = 33.36 \\text{km} \\left( \\frac{E}{\\text{GeV}} \\right) \\left( \\frac{1}{Z} \\right) \\left( \\frac{\\text{G}}{B} \\right) $$\n",
    "\n",
    "Energy:\n",
    "\n",
    "$$ E^{2} = (pc)^{2} + (m_{p} c^{2})^{2}, $$\n",
    "\n",
    "Maximum energy, the particle is able to escape our acceleration region only after the condition $r_{L} = \\Delta R_{X}$ is achieved.\n",
    "\n",
    "$$ \\Delta R_{X} = 33.36 km \\left( \\frac{E}{\\text{GeV}} \\right) \\left( \\frac{1}{Z} \\right) \\left( \\frac{\\text{G}}{B} \\right) $$\n",
    "\n",
    "Hence,\n",
    "\n",
    "$$ E = \\frac{\\Delta R_{X} \\cdot Z \\cdot B}{33.36 \\, \\text{km} \\cdot \\text{G}} $$\n",
    "\n",
    "And by this estimate, we can accelerate protons up to:"
   ]
  },
  {
   "cell_type": "code",
   "execution_count": 4,
   "id": "269316f7-3189-4788-8869-fbf7c52f2ebe",
   "metadata": {},
   "outputs": [
    {
     "name": "stdout",
     "output_type": "stream",
     "text": [
      "Maximum Energy for proton (E) = 5.23e+08 GeV\n",
      "Maximum Energy for proton (E) = 5.23e+17 eV\n",
      "Maximum Energy for proton (E) = 8.38e+05 erg\n"
     ]
    }
   ],
   "source": [
    "Z = 1.0 # proton case\n",
    "\n",
    "Emax_p = (delta_RX * Z * B_c) / (33.36 * km )\n",
    "\n",
    "print(f\"Maximum Energy for proton (E) = {Emax_p:.2e} GeV\")\n",
    "print(f\"Maximum Energy for proton (E) = {Emax_p * 1e9:.2e} eV\")\n",
    "print(f\"Maximum Energy for proton (E) = {Emax_p * GeV:.2e} erg\")"
   ]
  },
  {
   "cell_type": "code",
   "execution_count": 5,
   "id": "eb99faa4-77b5-4f4a-abde-41902aa78b47",
   "metadata": {},
   "outputs": [
    {
     "name": "stdout",
     "output_type": "stream",
     "text": [
      "Maximum Energy for electron (E) = 2.85e+05 GeV\n",
      "Maximum Energy for electron (E) = 2.85e+14 eV\n",
      "Maximum Energy for electron (E) = 4.56e+02 erg\n"
     ]
    }
   ],
   "source": [
    "Emax_e = Emax_p * me / mp\n",
    "\n",
    "print(f\"Maximum Energy for electron (E) = {Emax_e:.2e} GeV\")\n",
    "print(f\"Maximum Energy for electron (E) = {Emax_e * 1e9:.2e} eV\")\n",
    "print(f\"Maximum Energy for electron (E) = {Emax_e * GeV:.2e} erg\")"
   ]
  },
  {
   "cell_type": "code",
   "execution_count": 30,
   "id": "996d5c27-78b9-494c-8b07-fc3ac74af0d6",
   "metadata": {},
   "outputs": [
    {
     "data": {
      "text/plain": [
       "1836.1454776986157"
      ]
     },
     "execution_count": 30,
     "metadata": {},
     "output_type": "execute_result"
    }
   ],
   "source": [
    "mp / me"
   ]
  },
  {
   "cell_type": "markdown",
   "id": "4650167f-c3db-4601-b228-db6877540cc8",
   "metadata": {},
   "source": [
    "and then drift acceleration will act for energies at which the Larmor radius becomes larger than the thickness of the reconnection region"
   ]
  },
  {
   "cell_type": "code",
   "execution_count": null,
   "id": "547fb2d4-fe63-453d-a8c4-15b70fc30473",
   "metadata": {},
   "outputs": [],
   "source": []
  },
  {
   "cell_type": "code",
   "execution_count": null,
   "id": "8f72c1eb-b23c-4937-99c7-74f92c7d70a9",
   "metadata": {},
   "outputs": [],
   "source": []
  },
  {
   "cell_type": "code",
   "execution_count": 4,
   "id": "04be6c37-9150-416b-aa50-df4b5cce4393",
   "metadata": {},
   "outputs": [
    {
     "data": {
      "text/plain": [
       "5920000000000.0"
      ]
     },
     "execution_count": 4,
     "metadata": {},
     "output_type": "execute_result"
    }
   ],
   "source": [
    "R_s"
   ]
  },
  {
   "cell_type": "code",
   "execution_count": null,
   "id": "e5b78760-59a7-4dbc-a1f2-826a58f450c5",
   "metadata": {},
   "outputs": [],
   "source": []
  },
  {
   "cell_type": "code",
   "execution_count": null,
   "id": "a5dff8a2-0d57-4706-b5e1-5a6f402561a5",
   "metadata": {},
   "outputs": [],
   "source": []
  },
  {
   "cell_type": "code",
   "execution_count": 5,
   "id": "99d7f74f-fcce-48cb-a212-1d8c28fe0994",
   "metadata": {},
   "outputs": [
    {
     "data": {
      "text/plain": [
       "0.8200705800826866"
      ]
     },
     "execution_count": 5,
     "metadata": {},
     "output_type": "execute_result"
    }
   ],
   "source": [
    "coronal_data.q"
   ]
  },
  {
   "cell_type": "code",
   "execution_count": null,
   "id": "02251d17-b408-4deb-8fb7-181e1678df5c",
   "metadata": {},
   "outputs": [],
   "source": []
  },
  {
   "cell_type": "code",
   "execution_count": 6,
   "id": "7a336904-7a40-46ba-9bc1-a859681d44c0",
   "metadata": {},
   "outputs": [],
   "source": [
    "## Energy range for protons and electrons [erg]\n",
    "\n",
    "Ep = np.linspace(1e2, 1e20) * eV\n",
    "Ee = np.linspace(1e2, 1e15) * eV\n",
    "# Ep_drift = np.linspace(5.23e11, 1e20) * eV\n",
    "# Ee_drift = np.linspace(5.23e11, 1e15) * eV"
   ]
  },
  {
   "cell_type": "code",
   "execution_count": 7,
   "id": "5cfa0973-1bfb-4dbf-98c8-535ead9317b4",
   "metadata": {},
   "outputs": [
    {
     "data": {
      "text/plain": [
       "5.752425625949121e-14"
      ]
     },
     "execution_count": 7,
     "metadata": {},
     "output_type": "execute_result"
    }
   ],
   "source": [
    "## Fluid density\n",
    "\n",
    "rho = n_c * mp # [g cm-3]\n",
    "rho"
   ]
  },
  {
   "cell_type": "code",
   "execution_count": 8,
   "id": "9d9c23a9-60ff-462a-8b57-375c338adc3e",
   "metadata": {},
   "outputs": [
    {
     "data": {
      "text/plain": [
       "array([1.06582075e-07, 2.17514438e+09, 4.35028877e+09, 6.52543315e+09,\n",
       "       8.70057754e+09, 1.08757219e+10, 1.30508663e+10, 1.52260107e+10,\n",
       "       1.74011551e+10, 1.95762995e+10, 2.17514438e+10, 2.39265882e+10,\n",
       "       2.61017326e+10, 2.82768770e+10, 3.04520214e+10, 3.26271658e+10,\n",
       "       3.48023102e+10, 3.69774545e+10, 3.91525989e+10, 4.13277433e+10,\n",
       "       4.35028877e+10, 4.56780321e+10, 4.78531765e+10, 5.00283208e+10,\n",
       "       5.22034652e+10, 5.43786096e+10, 5.65537540e+10, 5.87288984e+10,\n",
       "       6.09040428e+10, 6.30791872e+10, 6.52543315e+10, 6.74294759e+10,\n",
       "       6.96046203e+10, 7.17797647e+10, 7.39549091e+10, 7.61300535e+10,\n",
       "       7.83051978e+10, 8.04803422e+10, 8.26554866e+10, 8.48306310e+10,\n",
       "       8.70057754e+10, 8.91809198e+10, 9.13560642e+10, 9.35312085e+10,\n",
       "       9.57063529e+10, 9.78814973e+10, 1.00056642e+11, 1.02231786e+11,\n",
       "       1.04406930e+11, 1.06582075e+11])"
      ]
     },
     "execution_count": 8,
     "metadata": {},
     "output_type": "execute_result"
    }
   ],
   "source": [
    "## Normalizing\n",
    "\n",
    "Ep_norm = Ep / (mp*c**2)\n",
    "Ep_norm"
   ]
  },
  {
   "cell_type": "code",
   "execution_count": 9,
   "id": "5188348d-9d45-4277-acaf-6d4850bbe0dd",
   "metadata": {},
   "outputs": [],
   "source": [
    "# Ep_drift/mpc2"
   ]
  },
  {
   "cell_type": "code",
   "execution_count": null,
   "id": "e92ff5e3-9eaf-42a2-af72-f4d60860bbb1",
   "metadata": {},
   "outputs": [],
   "source": []
  },
  {
   "cell_type": "code",
   "execution_count": 10,
   "id": "32522813-35cb-4c87-b567-2f839724a905",
   "metadata": {},
   "outputs": [
    {
     "data": {
      "text/plain": [
       "0.29069046222286127"
      ]
     },
     "execution_count": 10,
     "metadata": {},
     "output_type": "execute_result"
    }
   ],
   "source": [
    "## Alfvén Speed\n",
    "\n",
    "v_a0 = B_c / np.sqrt(4 * np.pi * rho)\n",
    "\n",
    "va = v_a0 * coronal_data.Gamma\n",
    "va/c"
   ]
  },
  {
   "cell_type": "code",
   "execution_count": 11,
   "id": "2e626b02-f10a-4157-aa11-182554eeed4f",
   "metadata": {},
   "outputs": [
    {
     "data": {
      "text/plain": [
       "0.4110983941280743"
      ]
     },
     "execution_count": 11,
     "metadata": {},
     "output_type": "execute_result"
    }
   ],
   "source": [
    "v_a0 / c"
   ]
  },
  {
   "cell_type": "code",
   "execution_count": 12,
   "id": "98a48ae8-ade8-45d2-b995-57b56ea6be22",
   "metadata": {},
   "outputs": [
    {
     "data": {
      "text/plain": [
       "8714609366.979158"
      ]
     },
     "execution_count": 12,
     "metadata": {},
     "output_type": "execute_result"
    }
   ],
   "source": [
    "va"
   ]
  },
  {
   "cell_type": "code",
   "execution_count": 13,
   "id": "e7a8d290-06e5-4898-bd24-10268e30bee8",
   "metadata": {},
   "outputs": [
    {
     "data": {
      "text/plain": [
       "29979000000.0"
      ]
     },
     "execution_count": 13,
     "metadata": {},
     "output_type": "execute_result"
    }
   ],
   "source": [
    "c"
   ]
  },
  {
   "cell_type": "code",
   "execution_count": null,
   "id": "d240e9d1-5943-4531-a2ee-4fdbb8404f2d",
   "metadata": {},
   "outputs": [],
   "source": []
  },
  {
   "cell_type": "code",
   "execution_count": 14,
   "id": "51ae052c-37f5-4e3d-a363-67f449e1a67e",
   "metadata": {},
   "outputs": [
    {
     "data": {
      "text/plain": [
       "0.01966916741367544"
      ]
     },
     "execution_count": 14,
     "metadata": {},
     "output_type": "execute_result"
    }
   ],
   "source": [
    "## Xu & Lazarian - 3rd Regime\n",
    "\n",
    "v_in = 0.05 * va\n",
    "beta_in = v_in / c\n",
    "d_ur = 2 * beta_in * ( 3 * beta_in**2 + 3*beta_in + 1 ) / ( 3 * (beta_in + 0.5) * (1 - beta_in**2) )\n",
    "\n",
    "d_ur # [adim.]"
   ]
  },
  {
   "cell_type": "code",
   "execution_count": 15,
   "id": "6e65c8ac-2df9-436f-920c-2884a349cc87",
   "metadata": {},
   "outputs": [
    {
     "data": {
      "text/plain": [
       "1129.4022114212746"
      ]
     },
     "execution_count": 15,
     "metadata": {},
     "output_type": "execute_result"
    }
   ],
   "source": [
    "t_acc = 4*delta_RX / (c*d_ur)\n",
    "t_acc # [s]"
   ]
  },
  {
   "cell_type": "code",
   "execution_count": null,
   "id": "d2d87870-9839-4260-8d16-bcef1d88d013",
   "metadata": {},
   "outputs": [],
   "source": []
  },
  {
   "cell_type": "code",
   "execution_count": null,
   "id": "d6a0faa6-cc54-40b4-90ac-8d970b8c7994",
   "metadata": {},
   "outputs": [],
   "source": []
  },
  {
   "cell_type": "code",
   "execution_count": 16,
   "id": "59426048-e456-40d7-94eb-6006b67da52d",
   "metadata": {},
   "outputs": [],
   "source": [
    "# def time_acc_fermi(E):\n",
    "#     '''Eq.(2.37) of Medina-Torrejon Thesis'''\n",
    "#     alpha = 0.1\n",
    "#     s = 1/alpha\n",
    "#     E0 = 10**(4)\n",
    "#     t0 = 700\n",
    "#     ## hours\n",
    "#     return s**(-1) * (E0/E)**(-1/s) * t0\n",
    "#     # return (E0/E)**(-1/s) * t0\n",
    "\n",
    "\n",
    "def time_acc_regime3(va, delta_RX):\n",
    "    v_in = 0.05 * va\n",
    "    beta_in = v_in / c\n",
    "    d_ur = 2 * beta_in * ( 3 * beta_in**2 + 3*beta_in + 1 ) / ( 3 * (beta_in + 0.5) * (1 - beta_in**2) )\n",
    "    \n",
    "    return 4 * delta_RX / (c * d_ur)\n",
    "\n",
    "\n",
    "def time_acc_drift(E, B, va):\n",
    "    '''Eq.(7) of Del Valle, de Gouveia Dal Pino & Kowal 2016 e de Gouveia Dal Pino & Kowal 2015'''\n",
    "    v_rec = 0.05 * va\n",
    "    \n",
    "    return E / (qe*B*v_rec)"
   ]
  },
  {
   "cell_type": "code",
   "execution_count": null,
   "id": "f3adc942-b2ed-4a02-84a8-9660eb036f61",
   "metadata": {},
   "outputs": [],
   "source": []
  },
  {
   "cell_type": "markdown",
   "id": "b2ef943e-4870-4ad7-b585-4192a691b525",
   "metadata": {},
   "source": [
    "Hadrons"
   ]
  },
  {
   "cell_type": "code",
   "execution_count": 17,
   "id": "0e61f4fb-a68b-406b-bca7-09fa59c13f75",
   "metadata": {},
   "outputs": [
    {
     "data": {
      "image/png": "[encoded data removed]",
      "text/plain": [
       "<Figure size 1000x600 with 1 Axes>"
      ]
     },
     "metadata": {},
     "output_type": "display_data"
    }
   ],
   "source": [
    "\n",
    "\n",
    "plt.figure(figsize=(10, 6))\n",
    "\n",
    "plt.loglog(Ep/eV,[time_acc_regime3(va, delta_RX)]*len(Ep),'--',label='Acceleration (Regime 3)',color='red')\n",
    "plt.loglog(Ep/eV,time_acc_drift(Ep, B_c, va),label='Acceleration (Drift)',color='green')\n",
    "\n",
    "# plt.xlim((1e0,Ep.max()))\n",
    "plt.legend(frameon=False)\n",
    "plt.xlabel('E [eV]')\n",
    "plt.ylabel('t [s]')\n",
    "# plt.ylim((1e-4,1e4))\n",
    "# plt.xticks([1e-2,1e-1,1e0,1e1,1e2,1e3],labels=['-2','-1','0','1','2','3'])\n",
    "plt.savefig('plots/acc_reconnection_drift.png',dpi=300)\n",
    "\n",
    "plt.show()"
   ]
  },
  {
   "cell_type": "code",
   "execution_count": 18,
   "id": "d79a7578-3d0c-4ef1-ac8e-0199e27d31a7",
   "metadata": {},
   "outputs": [],
   "source": [
    "# ## erg\n",
    "\n",
    "# plt.figure(figsize=(10, 6))\n",
    "\n",
    "# plt.loglog(Ep/eV,[time_acc_regime3(va, delta_RX)]*len(Ep),'--',label='Acceleration (Regime 3)',color='red')\n",
    "# plt.loglog(Ep/eV,time_acc_drift(Ep, B_c, va),label='Acceleration (Drift)',color='green')\n",
    "\n",
    "# # plt.xlim((1e0,Ep.max()))\n",
    "# plt.legend(frameon=False)\n",
    "# plt.xlabel('E [eV]')\n",
    "# plt.ylabel('t [s]')\n",
    "# # plt.ylim((1e-4,1e4))\n",
    "# # plt.xticks([1e-2,1e-1,1e0,1e1,1e2,1e3],labels=['-2','-1','0','1','2','3'])\n",
    "# plt.savefig('plots/acc_reconnection_drift.png',dpi=300)\n",
    "\n",
    "# plt.show()"
   ]
  },
  {
   "cell_type": "code",
   "execution_count": 19,
   "id": "9205358a-0fc2-47f8-a49c-7ca81b2122b0",
   "metadata": {},
   "outputs": [
    {
     "data": {
      "text/plain": [
       "15032.780057984"
      ]
     },
     "execution_count": 19,
     "metadata": {},
     "output_type": "execute_result"
    }
   ],
   "source": [
    "1e7*mpc2 ## tirar mpc2"
   ]
  },
  {
   "cell_type": "code",
   "execution_count": null,
   "id": "926c551e-e442-46a2-9239-4abab8755c22",
   "metadata": {},
   "outputs": [],
   "source": []
  },
  {
   "cell_type": "code",
   "execution_count": null,
   "id": "dc7e9577-959b-4e28-be95-1e6bd90e52e4",
   "metadata": {},
   "outputs": [],
   "source": []
  },
  {
   "cell_type": "code",
   "execution_count": null,
   "id": "73c774a3-1c29-46ba-a750-a203707cc7d3",
   "metadata": {},
   "outputs": [],
   "source": []
  },
  {
   "cell_type": "code",
   "execution_count": null,
   "id": "0e1466bd-de23-41aa-9316-9fa497b28be7",
   "metadata": {},
   "outputs": [],
   "source": []
  },
  {
   "cell_type": "markdown",
   "id": "606475fc-ef56-4408-84cd-6268fac71524",
   "metadata": {},
   "source": [
    "Testing Tania's curve"
   ]
  },
  {
   "cell_type": "code",
   "execution_count": 20,
   "id": "bf9ba815-bbda-4dd2-9038-9e3c91646437",
   "metadata": {},
   "outputs": [
    {
     "name": "stdout",
     "output_type": "stream",
     "text": [
      "Filename: ./partic_dedEdt_en.fits\n",
      "No.    Name      Ver    Type      Cards   Dimensions   Format\n",
      "  0  PRIMARY       1 PrimaryHDU       7   (3, 61)   float64   \n",
      "HDU 0:\n",
      "SIMPLE  =                    T / conforms to FITS standard                      \n",
      "BITPIX  =                  -64 / array data type                                \n",
      "NAXIS   =                    2 / number of array dimensions                     \n",
      "NAXIS1  =                    3                                                  \n",
      "NAXIS2  =                   61                                                  \n",
      "EXTEND  =                    T                                                  \n",
      "VAR     = 'Acceleration time'                                                   \n",
      "Data shape: (61, 3)\n"
     ]
    }
   ],
   "source": [
    "from astropy.io import fits\n",
    "\n",
    "# Function to inspect the FITS file structure\n",
    "def inspect_fits(file_path):\n",
    "    with fits.open(file_path) as hdul:\n",
    "        hdul.info()  # Print the structure of the FITS file\n",
    "        for i, hdu in enumerate(hdul):\n",
    "            print(f\"HDU {i}:\")\n",
    "            print(repr(hdu.header))\n",
    "            if hdu.data is not None:\n",
    "                print(f\"Data shape: {hdu.data.shape}\")\n",
    "\n",
    "# Inspect the FITS file structure\n",
    "inspect_fits('./partic_dedEdt_en.fits')"
   ]
  },
  {
   "cell_type": "code",
   "execution_count": 21,
   "id": "f07ca759-2a77-44f4-bb8d-773d4516ee9a",
   "metadata": {},
   "outputs": [],
   "source": [
    "from astropy.io import fits\n",
    "\n",
    "# Function to read the .fits file and extract the columns\n",
    "def readfits(file_path):\n",
    "    with fits.open(file_path) as hdul:\n",
    "        # Assuming the data is in the primary HDU\n",
    "        data = hdul[0].data\n",
    "    return data\n",
    "\n",
    "# Read the .fits file\n",
    "array = readfits('./partic_dedEdt_en.fits')  ## L / c\n",
    "\n",
    "# Extract columns\n",
    "tacc = array[:, 0]  # (Tempo de aceleração)\n",
    "Eacc = array[:, 1]  # (Energy kinetica)\n",
    "sdcc = array[:, 2]  # (desvio padrão, a observar)"
   ]
  },
  {
   "cell_type": "code",
   "execution_count": 22,
   "id": "028a4486-1677-4ec0-9355-318ac8933289",
   "metadata": {},
   "outputs": [],
   "source": [
    "# Print the extracted columns\n",
    "# print(\"Tempo de aceleração:\", tacc)\n",
    "# print(\"Energy kinetica:\", Eacc)\n",
    "# print(\"Desvio padrão:\", sdcc)"
   ]
  },
  {
   "cell_type": "code",
   "execution_count": 23,
   "id": "cc66b983-9db9-4780-b44a-2cfe41a58606",
   "metadata": {},
   "outputs": [],
   "source": [
    "# tacc"
   ]
  },
  {
   "cell_type": "code",
   "execution_count": 24,
   "id": "84342114-ba5f-4d10-bcb3-6e8043357f04",
   "metadata": {},
   "outputs": [],
   "source": [
    "# Eacc"
   ]
  },
  {
   "cell_type": "code",
   "execution_count": 25,
   "id": "8c785066-b835-499d-9a19-ffeac0d557df",
   "metadata": {},
   "outputs": [
    {
     "data": {
      "image/png": "[encoded data removed]",
      "text/plain": [
       "<Figure size 1000x600 with 1 Axes>"
      ]
     },
     "metadata": {},
     "output_type": "display_data"
    }
   ],
   "source": [
    "## Tanis\n",
    "\n",
    "plt.figure(figsize=(10, 6))\n",
    "\n",
    "plt.loglog(Eacc,tacc,label='Acceleration (Tania)',color='magenta')\n",
    "\n",
    "\n",
    "# plt.xlim((1e0,E_norm.max()))\n",
    "plt.legend(frameon=False)\n",
    "plt.xlabel('E / $m_p$ $c^2$')\n",
    "plt.ylabel('t [s]')\n",
    "\n",
    "# plt.savefig('plots/cooling_hadrons_erg.png',dpi=300)\n",
    "\n",
    "plt.show()"
   ]
  },
  {
   "cell_type": "code",
   "execution_count": null,
   "id": "7ea745e3-cc21-4d63-8453-d74b63044deb",
   "metadata": {},
   "outputs": [],
   "source": []
  },
  {
   "cell_type": "code",
   "execution_count": null,
   "id": "d9a74f65-36bf-4ff6-a6b7-cf105f2687ce",
   "metadata": {},
   "outputs": [],
   "source": []
  },
  {
   "cell_type": "code",
   "execution_count": 26,
   "id": "b71e6f75-97ae-4928-9708-d07ce0dddaac",
   "metadata": {},
   "outputs": [
    {
     "data": {
      "image/png": "[encoded data removed]",
      "text/plain": [
       "<Figure size 1000x600 with 1 Axes>"
      ]
     },
     "metadata": {},
     "output_type": "display_data"
    }
   ],
   "source": [
    "## erg\n",
    "\n",
    "plt.figure(figsize=(10, 6))\n",
    "\n",
    "plt.loglog(Ep_norm,[time_acc_regime3(va, delta_RX)]*len(Ep_norm),'--',label='Acceleration (Regime 3)',color='red')\n",
    "# plt.loglog(Ep_drift/mpc2,time_acc_drift(Ep_drift/mpc2, B_c, va),label='Acceleration (Drift)',color='green')\n",
    "plt.loglog(Eacc,tacc*(1e11/c),label='Acceleration (Tania)',color='magenta')\n",
    "##### Tania's has a normalization factor\n",
    "\n",
    "plt.xlim((1e0,Ep_norm.max()))\n",
    "plt.legend(frameon=False)\n",
    "plt.xlabel('E / $m_p$ $c^2$')\n",
    "plt.ylabel('t [s]')\n",
    "\n",
    "# plt.ylim((1e-4,1e4))\n",
    "# plt.xticks([1e-2,1e-1,1e0,1e1,1e2,1e3],labels=['-2','-1','0','1','2','3'])\n",
    "# plt.savefig('plots/cooling_hadrons_erg.png',dpi=300)\n",
    "\n",
    "plt.show()"
   ]
  },
  {
   "cell_type": "code",
   "execution_count": 27,
   "id": "9103df75-4546-4b66-9b6e-c089a4763f18",
   "metadata": {},
   "outputs": [
    {
     "data": {
      "text/plain": [
       "1503.2780057984"
      ]
     },
     "execution_count": 27,
     "metadata": {},
     "output_type": "execute_result"
    }
   ],
   "source": [
    "1e6 *mpc2"
   ]
  },
  {
   "cell_type": "code",
   "execution_count": null,
   "id": "cbcf9df0-c969-4a0d-96f5-f2dfe736e120",
   "metadata": {},
   "outputs": [],
   "source": []
  },
  {
   "cell_type": "code",
   "execution_count": null,
   "id": "bd479c79-81b6-491d-8122-84e471ce1d46",
   "metadata": {},
   "outputs": [],
   "source": []
  }
 ],
 "metadata": {
  "kernelspec": {
   "display_name": "Python 3 (ipykernel)",
   "language": "python",
   "name": "python3"
  },
  "language_info": {
   "codemirror_mode": {
    "name": "ipython",
    "version": 3
   },
   "file_extension": ".py",
   "mimetype": "text/x-python",
   "name": "python",
   "nbconvert_exporter": "python",
   "pygments_lexer": "ipython3",
   "version": "3.9.7"
  }
 },
 "nbformat": 4,
 "nbformat_minor": 5
}
