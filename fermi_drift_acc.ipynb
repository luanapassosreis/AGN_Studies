{
 "cells": [
  {
   "cell_type": "markdown",
   "id": "cfb8c3b8-caeb-4ace-a08c-0dde719dfae0",
   "metadata": {},
   "source": [
    "This notebook was created for the study of a galaxy Seyfert Type II."
   ]
  },
  {
   "cell_type": "code",
   "execution_count": 1,
   "id": "bad6bf48-6a0d-4db1-ab21-87eb2e142992",
   "metadata": {},
   "outputs": [],
   "source": [
    "from astro_constants import *\n",
    "from source_parameters import *\n",
    "from rates import *"
   ]
  },
  {
   "cell_type": "code",
   "execution_count": 2,
   "id": "2b4287cd-f026-4d58-82cb-8924adda3da8",
   "metadata": {},
   "outputs": [],
   "source": [
    "import numpy as np\n",
    "import pandas as pd\n",
    "import seaborn as sns\n",
    "import matplotlib.pyplot as plt\n",
    "from scipy.integrate import quad\n",
    "from astropy import units as u\n",
    "from astropy import constants as const\n",
    "from scipy.stats import chisquare\n",
    "from scipy.optimize import curve_fit"
   ]
  },
  {
   "cell_type": "markdown",
   "id": "706cf604-a2ea-4f3d-8fef-b9159ab4cc99",
   "metadata": {},
   "source": [
    "Defining our source"
   ]
  },
  {
   "cell_type": "code",
   "execution_count": 3,
   "id": "a201b8f5-06d1-4052-94e3-98bbb1e52398",
   "metadata": {},
   "outputs": [
    {
     "name": "stdout",
     "output_type": "stream",
     "text": [
      "\n",
      "Coronal Magnetic Field:\n",
      " B_c = 1.9843E+04 G\n",
      "\n",
      "Coronal Particle Number Density:\n",
      " n_c = 5.1761E+10 cm-3\n",
      "\n",
      "Coronal Temperature:\n",
      " T_c = 3.1016E+09 K\n",
      "\n",
      "Width of the current sheet:\n",
      " delta_RX = 4.2860E+10 cm\n",
      "\n",
      "Reconnection Power:\n",
      " wdot_B = 5.1226E+42 erg s-1\n"
     ]
    }
   ],
   "source": [
    "## Initialize the class\n",
    "coronal_data = Coronal_Description(r_x, l, l_x, mdot, m)\n",
    "\n",
    "## Calculate parameters for emission region\n",
    "B_c = coronal_data.coronal_mag_field()\n",
    "n_c = coronal_data.coronal_density()\n",
    "T_c = coronal_data.coronal_temperature()\n",
    "delta_RX = coronal_data.width_current_sheet()\n",
    "wdot_B = coronal_data.mag_rec_power()\n",
    "\n",
    "print(f'\\nCoronal Magnetic Field:\\n B_c = {B_c:.4E} G')\n",
    "print(f'\\nCoronal Particle Number Density:\\n n_c = {n_c:.4E} cm-3')\n",
    "print(f'\\nCoronal Temperature:\\n T_c = {T_c:.4E} K')\n",
    "print(f'\\nWidth of the current sheet:\\n delta_RX = {delta_RX:.4E} cm')\n",
    "print(f'\\nReconnection Power:\\n wdot_B = {wdot_B:.4E} erg s-1')"
   ]
  },
  {
   "cell_type": "code",
   "execution_count": null,
   "id": "04be6c37-9150-416b-aa50-df4b5cce4393",
   "metadata": {},
   "outputs": [],
   "source": []
  },
  {
   "cell_type": "code",
   "execution_count": 5,
   "id": "5cfa0973-1bfb-4dbf-98c8-535ead9317b4",
   "metadata": {},
   "outputs": [],
   "source": [
    "# erg = 1.602177e-12 # [1 eV = 1.6022e-12 erg]\n",
    "\n",
    "Ep = np.linspace(1e9, 1e16)*eV # Energy range [erg]\n",
    "\n",
    "rho = n_c * mp # [g cm-3] fluid density"
   ]
  },
  {
   "cell_type": "code",
   "execution_count": 6,
   "id": "9d9c23a9-60ff-462a-8b57-375c338adc3e",
   "metadata": {},
   "outputs": [],
   "source": [
    "E_norm = Ep / (mp*c**2)"
   ]
  },
  {
   "cell_type": "code",
   "execution_count": 7,
   "id": "e92ff5e3-9eaf-42a2-af72-f4d60860bbb1",
   "metadata": {},
   "outputs": [],
   "source": [
    "# E_norm"
   ]
  },
  {
   "cell_type": "code",
   "execution_count": 8,
   "id": "32522813-35cb-4c87-b567-2f839724a905",
   "metadata": {},
   "outputs": [
    {
     "data": {
      "text/plain": [
       "0.44871560804816396"
      ]
     },
     "execution_count": 8,
     "metadata": {},
     "output_type": "execute_result"
    }
   ],
   "source": [
    "v_a0 = B_c / np.sqrt(4 * np.pi * rho)\n",
    "\n",
    "va = v_a0 * coronal_data.Gamma\n",
    "\n",
    "va/c"
   ]
  },
  {
   "cell_type": "code",
   "execution_count": null,
   "id": "6e65c8ac-2df9-436f-920c-2884a349cc87",
   "metadata": {},
   "outputs": [],
   "source": []
  },
  {
   "cell_type": "code",
   "execution_count": 9,
   "id": "ae6d83fa-4048-47cd-9034-d7a3e6af4cb6",
   "metadata": {},
   "outputs": [],
   "source": [
    "r_c = 10 * R_s  # [cm] coronal size\n",
    "L_x = 7 * 10**43 # [erg s-1]\n",
    "epsilon_0 = 7*keV # [erg] compton hump energy\n",
    "\n",
    "U_x = L_x / (4 * np.pi * c * r_c**2)"
   ]
  },
  {
   "cell_type": "code",
   "execution_count": 10,
   "id": "763934ad-7402-46a2-be91-23571139f398",
   "metadata": {},
   "outputs": [],
   "source": [
    "n_x = U_x * ( epsilon_0**(-2) * (20*keV - 1*keV) + ( -(200*keV)**(-1) + (20*keV)**(-1) ) )"
   ]
  },
  {
   "cell_type": "code",
   "execution_count": 11,
   "id": "d6a0faa6-cc54-40b4-90ac-8d970b8c7994",
   "metadata": {},
   "outputs": [
    {
     "name": "stdout",
     "output_type": "stream",
     "text": [
      "\n",
      "Photon field Energy Density for X-rays = 1.43205E+13 cm-3\n"
     ]
    }
   ],
   "source": [
    "print(f'\\nPhoton field Energy Density for X-rays = {n_x:.5E} cm-3')"
   ]
  },
  {
   "cell_type": "code",
   "execution_count": null,
   "id": "98a48ae8-ade8-45d2-b995-57b56ea6be22",
   "metadata": {},
   "outputs": [],
   "source": []
  },
  {
   "cell_type": "code",
   "execution_count": 36,
   "id": "59426048-e456-40d7-94eb-6006b67da52d",
   "metadata": {},
   "outputs": [],
   "source": [
    "def timeacc_fermi(E):\n",
    "    '''Eq.(2.37) of Medina-Torrejon Thesis'''\n",
    "    alpha = 0.1\n",
    "    s = 1/alpha\n",
    "    E0 = 10**(4)\n",
    "    t0 = 700\n",
    "    ## hours\n",
    "    return s**(-1) * (E0/E)**(-1/s) * t0\n",
    "    # return (E0/E)**(-1/s) * t0\n",
    "\n",
    "\n",
    "def time_acc_regime3(va, delta_RX):\n",
    "    v_in = 0.05 * va\n",
    "    beta_in = v_in / c\n",
    "    d_ur = 2 * beta_in * ( 3 * beta_in**2 + 3*beta_in + 1 ) / ( 3 * (beta_in + 0.5) * (1 - beta_in**2) )\n",
    "    \n",
    "    return 4 * delta_RX / (c * d_ur)\n",
    "\n",
    "\n",
    "def timeacc_drift(E, B, va):\n",
    "    '''Eq.(7) of Del Valle, de Gouveia Dal Pino & Kowal 2016 e de Gouveia Dal Pino & Kowal 2015'''\n",
    "    v_rec = 0.05 * va\n",
    "    \n",
    "    return E / (qe*B*v_rec)"
   ]
  },
  {
   "cell_type": "code",
   "execution_count": 37,
   "id": "bf9ba815-bbda-4dd2-9038-9e3c91646437",
   "metadata": {},
   "outputs": [
    {
     "name": "stdout",
     "output_type": "stream",
     "text": [
      "Filename: ./partic_dedEdt_en.fits\n",
      "No.    Name      Ver    Type      Cards   Dimensions   Format\n",
      "  0  PRIMARY       1 PrimaryHDU       7   (3, 61)   float64   \n",
      "HDU 0:\n",
      "SIMPLE  =                    T / conforms to FITS standard                      \n",
      "BITPIX  =                  -64 / array data type                                \n",
      "NAXIS   =                    2 / number of array dimensions                     \n",
      "NAXIS1  =                    3                                                  \n",
      "NAXIS2  =                   61                                                  \n",
      "EXTEND  =                    T                                                  \n",
      "VAR     = 'Acceleration time'                                                   \n",
      "Data shape: (61, 3)\n"
     ]
    }
   ],
   "source": [
    "from astropy.io import fits\n",
    "\n",
    "# Function to inspect the FITS file structure\n",
    "def inspect_fits(file_path):\n",
    "    with fits.open(file_path) as hdul:\n",
    "        hdul.info()  # Print the structure of the FITS file\n",
    "        for i, hdu in enumerate(hdul):\n",
    "            print(f\"HDU {i}:\")\n",
    "            print(repr(hdu.header))\n",
    "            if hdu.data is not None:\n",
    "                print(f\"Data shape: {hdu.data.shape}\")\n",
    "\n",
    "# Inspect the FITS file structure\n",
    "inspect_fits('./partic_dedEdt_en.fits')"
   ]
  },
  {
   "cell_type": "code",
   "execution_count": 38,
   "id": "f07ca759-2a77-44f4-bb8d-773d4516ee9a",
   "metadata": {},
   "outputs": [],
   "source": [
    "from astropy.io import fits\n",
    "\n",
    "# Function to read the .fits file and extract the columns\n",
    "def readfits(file_path):\n",
    "    with fits.open(file_path) as hdul:\n",
    "        # Assuming the data is in the primary HDU\n",
    "        data = hdul[0].data\n",
    "    return data\n",
    "\n",
    "# Read the .fits file\n",
    "array = readfits('./partic_dedEdt_en.fits')\n",
    "\n",
    "# Extract columns\n",
    "tacc = array[:, 0]  # (Tempo de aceleração)\n",
    "Eacc = array[:, 1]  # (Energy kinetica)\n",
    "sdcc = array[:, 2]  # (desvio padrão, a observar)"
   ]
  },
  {
   "cell_type": "code",
   "execution_count": 39,
   "id": "028a4486-1677-4ec0-9355-318ac8933289",
   "metadata": {},
   "outputs": [
    {
     "name": "stdout",
     "output_type": "stream",
     "text": [
      "Tempo de aceleração: [1.57278126e+00 1.92081680e-01 9.68101471e-02 4.18405958e-02\n",
      " 4.82631035e-02 2.59210448e-02 1.94902241e-02 2.54867376e-02\n",
      " 2.65059726e-02 2.97549446e-02 2.78677815e-02 2.70323307e-02\n",
      " 2.79001615e-02 6.57658516e-02 6.28513684e-01 1.47837034e+01\n",
      " 2.57641970e+01 2.55035892e+01 2.60871002e+01 2.63455966e+01\n",
      " 2.67689573e+01 2.81118550e+01 2.77992187e+01 2.81347284e+01\n",
      " 2.77512141e+01 2.86145022e+01 2.85908210e+01 2.79243764e+01\n",
      " 2.81275122e+01 2.85865717e+01 2.66752760e+01 2.82209250e+01\n",
      " 2.85702788e+01 2.62930503e+01 2.36876866e+01 2.33409821e+01\n",
      " 2.45956898e+01 2.36685740e+01 3.47742241e+01 3.57462685e+01\n",
      " 4.09534186e+01 4.44254226e+01 4.90378872e+01 5.69581519e+01\n",
      " 6.27164750e+01 6.39989871e+01 6.40983391e+01 7.07441466e+01\n",
      " 8.86264866e+01 1.32328258e+02 2.17832218e+02 3.71287576e+02\n",
      " 6.68928932e+02 1.27787461e+03 2.12529010e+03 2.80027186e+03\n",
      " 3.44086702e+03 4.06101073e+03 5.14116889e+03 6.84604138e+03\n",
      " 8.58663734e+03]\n",
      "Energy kinetica: [4.60694701e-03 8.74051328e-03 9.70412582e-03 1.26645344e-02\n",
      " 1.41073474e-02 1.86785238e-02 2.61666960e-02 3.76082004e-02\n",
      " 5.64110477e-02 8.46191139e-02 1.26239614e-01 1.85747801e-01\n",
      " 2.75639258e-01 4.26114760e-01 6.56276518e-01 9.98481752e-01\n",
      " 1.51053242e+00 2.29317333e+00 3.49367072e+00 5.33739947e+00\n",
      " 8.11773262e+00 1.23024475e+01 1.86409148e+01 2.83887417e+01\n",
      " 4.29299002e+01 6.53621683e+01 9.90358175e+01 1.50690098e+02\n",
      " 2.27828742e+02 3.46496279e+02 5.27326154e+02 8.00891096e+02\n",
      " 1.20909767e+03 1.84338432e+03 2.80829457e+03 4.36806602e+03\n",
      " 6.70217541e+03 9.97247309e+03 1.53824712e+04 2.30305536e+04\n",
      " 3.50368950e+04 5.36866364e+04 8.15774426e+04 1.23270545e+05\n",
      " 1.83898615e+05 2.85237264e+05 4.32814589e+05 6.50963001e+05\n",
      " 9.92529503e+05 1.51637151e+06 2.30128249e+06 3.52097181e+06\n",
      " 5.32741377e+06 8.16635648e+06 1.21573424e+07 1.86429356e+07\n",
      " 2.78062195e+07 4.33748662e+07 6.58035246e+07 9.51458254e+07\n",
      " 1.26948229e+08]\n",
      "Desvio padrão: [1.54100308e+01 1.07512302e+00 5.52730258e-01 2.14010859e-01\n",
      " 2.67537671e-01 1.25961629e-01 8.11325032e-02 1.15891000e-01\n",
      " 1.13948280e-01 1.23951155e-01 1.05585623e-01 1.03073461e-01\n",
      " 1.21811394e-01 4.93324496e-01 1.29127452e+01 1.30744021e+02\n",
      " 5.95075501e+01 5.89128248e+01 5.91245037e+01 5.85782198e+01\n",
      " 6.08219817e+01 6.27588095e+01 6.10572994e+01 6.13166002e+01\n",
      " 6.15848963e+01 6.25991463e+01 6.30053824e+01 6.07185913e+01\n",
      " 6.13940511e+01 6.23850155e+01 5.69242523e+01 6.14394522e+01\n",
      " 6.31737646e+01 5.53390402e+01 4.76810953e+01 4.74516128e+01\n",
      " 4.98037168e+01 4.65326007e+01 6.96531607e+01 6.79959283e+01\n",
      " 7.61450508e+01 7.77917898e+01 8.38636789e+01 9.65524741e+01\n",
      " 1.02593373e+02 1.00004934e+02 9.33714874e+01 9.68031534e+01\n",
      " 1.15920938e+02 1.66675037e+02 2.70737941e+02 4.53091333e+02\n",
      " 8.07514081e+02 1.51245807e+03 2.49853192e+03 2.84364527e+03\n",
      " 2.99960374e+03 2.60990307e+03 2.30814665e+03 2.35718683e+03\n",
      " 2.81508736e+03]\n"
     ]
    }
   ],
   "source": [
    "# Print the extracted columns\n",
    "print(\"Tempo de aceleração:\", tacc)\n",
    "print(\"Energy kinetica:\", Eacc)\n",
    "print(\"Desvio padrão:\", sdcc)"
   ]
  },
  {
   "cell_type": "code",
   "execution_count": 40,
   "id": "cc66b983-9db9-4780-b44a-2cfe41a58606",
   "metadata": {},
   "outputs": [
    {
     "data": {
      "text/plain": [
       "array([1.57278126e+00, 1.92081680e-01, 9.68101471e-02, 4.18405958e-02,\n",
       "       4.82631035e-02, 2.59210448e-02, 1.94902241e-02, 2.54867376e-02,\n",
       "       2.65059726e-02, 2.97549446e-02, 2.78677815e-02, 2.70323307e-02,\n",
       "       2.79001615e-02, 6.57658516e-02, 6.28513684e-01, 1.47837034e+01,\n",
       "       2.57641970e+01, 2.55035892e+01, 2.60871002e+01, 2.63455966e+01,\n",
       "       2.67689573e+01, 2.81118550e+01, 2.77992187e+01, 2.81347284e+01,\n",
       "       2.77512141e+01, 2.86145022e+01, 2.85908210e+01, 2.79243764e+01,\n",
       "       2.81275122e+01, 2.85865717e+01, 2.66752760e+01, 2.82209250e+01,\n",
       "       2.85702788e+01, 2.62930503e+01, 2.36876866e+01, 2.33409821e+01,\n",
       "       2.45956898e+01, 2.36685740e+01, 3.47742241e+01, 3.57462685e+01,\n",
       "       4.09534186e+01, 4.44254226e+01, 4.90378872e+01, 5.69581519e+01,\n",
       "       6.27164750e+01, 6.39989871e+01, 6.40983391e+01, 7.07441466e+01,\n",
       "       8.86264866e+01, 1.32328258e+02, 2.17832218e+02, 3.71287576e+02,\n",
       "       6.68928932e+02, 1.27787461e+03, 2.12529010e+03, 2.80027186e+03,\n",
       "       3.44086702e+03, 4.06101073e+03, 5.14116889e+03, 6.84604138e+03,\n",
       "       8.58663734e+03])"
      ]
     },
     "execution_count": 40,
     "metadata": {},
     "output_type": "execute_result"
    }
   ],
   "source": [
    "tacc"
   ]
  },
  {
   "cell_type": "code",
   "execution_count": 41,
   "id": "84342114-ba5f-4d10-bcb3-6e8043357f04",
   "metadata": {},
   "outputs": [
    {
     "data": {
      "text/plain": [
       "array([4.60694701e-03, 8.74051328e-03, 9.70412582e-03, 1.26645344e-02,\n",
       "       1.41073474e-02, 1.86785238e-02, 2.61666960e-02, 3.76082004e-02,\n",
       "       5.64110477e-02, 8.46191139e-02, 1.26239614e-01, 1.85747801e-01,\n",
       "       2.75639258e-01, 4.26114760e-01, 6.56276518e-01, 9.98481752e-01,\n",
       "       1.51053242e+00, 2.29317333e+00, 3.49367072e+00, 5.33739947e+00,\n",
       "       8.11773262e+00, 1.23024475e+01, 1.86409148e+01, 2.83887417e+01,\n",
       "       4.29299002e+01, 6.53621683e+01, 9.90358175e+01, 1.50690098e+02,\n",
       "       2.27828742e+02, 3.46496279e+02, 5.27326154e+02, 8.00891096e+02,\n",
       "       1.20909767e+03, 1.84338432e+03, 2.80829457e+03, 4.36806602e+03,\n",
       "       6.70217541e+03, 9.97247309e+03, 1.53824712e+04, 2.30305536e+04,\n",
       "       3.50368950e+04, 5.36866364e+04, 8.15774426e+04, 1.23270545e+05,\n",
       "       1.83898615e+05, 2.85237264e+05, 4.32814589e+05, 6.50963001e+05,\n",
       "       9.92529503e+05, 1.51637151e+06, 2.30128249e+06, 3.52097181e+06,\n",
       "       5.32741377e+06, 8.16635648e+06, 1.21573424e+07, 1.86429356e+07,\n",
       "       2.78062195e+07, 4.33748662e+07, 6.58035246e+07, 9.51458254e+07,\n",
       "       1.26948229e+08])"
      ]
     },
     "execution_count": 41,
     "metadata": {},
     "output_type": "execute_result"
    }
   ],
   "source": [
    "Eacc"
   ]
  },
  {
   "cell_type": "code",
   "execution_count": null,
   "id": "8c785066-b835-499d-9a19-ffeac0d557df",
   "metadata": {},
   "outputs": [],
   "source": []
  },
  {
   "cell_type": "code",
   "execution_count": null,
   "id": "9103df75-4546-4b66-9b6e-c089a4763f18",
   "metadata": {},
   "outputs": [],
   "source": []
  },
  {
   "cell_type": "markdown",
   "id": "b2ef943e-4870-4ad7-b585-4192a691b525",
   "metadata": {},
   "source": [
    "Hadrons"
   ]
  },
  {
   "cell_type": "code",
   "execution_count": 42,
   "id": "0e61f4fb-a68b-406b-bca7-09fa59c13f75",
   "metadata": {},
   "outputs": [
    {
     "data": {
      "image/png": "[encoded data removed]",
      "text/plain": [
       "<Figure size 1000x600 with 1 Axes>"
      ]
     },
     "metadata": {},
     "output_type": "display_data"
    }
   ],
   "source": [
    "## erg\n",
    "\n",
    "plt.figure(figsize=(10, 6))\n",
    "\n",
    "plt.loglog(E_norm,timeacc_fermi(E_norm),'--',label='Acceleration (Fermi)',color='blue')\n",
    "# plt.loglog(E_norm,time_acc_regime3(va, delta_RX),'--',label='Acceleration (Regime 3)',color='green')\n",
    "plt.loglog(Eacc,tacc,label='Acceleration (Tania)',color='magenta')\n",
    "plt.loglog(E_norm,timeacc_drift(E_norm, B_c, va),label='Acceleration (Drift)',color='purple')\n",
    "\n",
    "plt.xlim((E_norm.min(),E_norm.max()))\n",
    "plt.legend(frameon=False)\n",
    "plt.xlabel('E / $m_p$ $c^2$')\n",
    "plt.ylabel('t')\n",
    "# plt.ylim((1e-4,1e4))\n",
    "# plt.xticks([1e-2,1e-1,1e0,1e1,1e2,1e3],labels=['-2','-1','0','1','2','3'])\n",
    "# plt.savefig('plots/cooling_hadrons_erg.png',dpi=300)\n",
    "\n",
    "plt.show()"
   ]
  },
  {
   "cell_type": "code",
   "execution_count": null,
   "id": "d8973c8c-27c6-4df3-be86-aa1436a5440c",
   "metadata": {},
   "outputs": [],
   "source": []
  },
  {
   "cell_type": "code",
   "execution_count": null,
   "id": "03ea0f10-f757-44cd-bf8d-d53142e6a3cb",
   "metadata": {},
   "outputs": [],
   "source": []
  },
  {
   "cell_type": "code",
   "execution_count": null,
   "id": "abf47b11-c7ce-408c-9442-5a2451ca5956",
   "metadata": {},
   "outputs": [],
   "source": []
  }
 ],
 "metadata": {
  "kernelspec": {
   "display_name": "Python 3 (ipykernel)",
   "language": "python",
   "name": "python3"
  },
  "language_info": {
   "codemirror_mode": {
    "name": "ipython",
    "version": 3
   },
   "file_extension": ".py",
   "mimetype": "text/x-python",
   "name": "python",
   "nbconvert_exporter": "python",
   "pygments_lexer": "ipython3",
   "version": "3.9.7"
  }
 },
 "nbformat": 4,
 "nbformat_minor": 5
}
