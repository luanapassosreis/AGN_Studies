{
 "cells": [
  {
   "cell_type": "markdown",
   "id": "cfb8c3b8-caeb-4ace-a08c-0dde719dfae0",
   "metadata": {},
   "source": [
    "This notebook was created for the study of a galaxy Seyfert Type II."
   ]
  },
  {
   "cell_type": "code",
   "execution_count": 1,
   "id": "bad6bf48-6a0d-4db1-ab21-87eb2e142992",
   "metadata": {},
   "outputs": [],
   "source": [
    "from astro_constants import *\n",
    "from source_parameters import *\n",
    "from rates import *"
   ]
  },
  {
   "cell_type": "code",
   "execution_count": 2,
   "id": "18bc15cd-ba42-4f67-9445-a34d222f8788",
   "metadata": {},
   "outputs": [],
   "source": [
    "import numpy as np\n",
    "import pandas as pd\n",
    "import seaborn as sns\n",
    "import matplotlib.pyplot as plt\n",
    "from scipy.integrate import quad\n",
    "from astropy import units as u\n",
    "from astropy import constants as const\n",
    "from scipy.stats import chisquare\n",
    "from scipy.optimize import curve_fit"
   ]
  },
  {
   "cell_type": "markdown",
   "id": "706cf604-a2ea-4f3d-8fef-b9159ab4cc99",
   "metadata": {},
   "source": [
    "Defining our source"
   ]
  },
  {
   "cell_type": "code",
   "execution_count": 3,
   "id": "a201b8f5-06d1-4052-94e3-98bbb1e52398",
   "metadata": {},
   "outputs": [
    {
     "name": "stdout",
     "output_type": "stream",
     "text": [
      "\n",
      "Coronal Magnetic Field:\n",
      " B_c = 1.9843E+04 G\n",
      "\n",
      "Coronal Particle Number Density:\n",
      " n_c = 5.1761E+10 cm-3\n",
      "\n",
      "Coronal Temperature:\n",
      " T_c = 3.1016E+09 K\n",
      "\n",
      "Width of the current sheet:\n",
      " delta_RX = 4.2860E+10 cm\n",
      "\n",
      "Reconnection Power:\n",
      " wdot_B = 5.1226E+42 erg s-1\n"
     ]
    }
   ],
   "source": [
    "## Initialize the class\n",
    "coronal_data = Coronal_Description(r_x, l, l_x, mdot, m)\n",
    "\n",
    "## Calculate parameters for emission region\n",
    "B_c = coronal_data.coronal_mag_field()\n",
    "n_c = coronal_data.coronal_density()\n",
    "T_c = coronal_data.coronal_temperature()\n",
    "delta_RX = coronal_data.width_current_sheet()\n",
    "wdot_B = coronal_data.mag_rec_power()\n",
    "\n",
    "print(f'\\nCoronal Magnetic Field:\\n B_c = {B_c:.4E} G')\n",
    "print(f'\\nCoronal Particle Number Density:\\n n_c = {n_c:.4E} cm-3')\n",
    "print(f'\\nCoronal Temperature:\\n T_c = {T_c:.4E} K')\n",
    "print(f'\\nWidth of the current sheet:\\n delta_RX = {delta_RX:.4E} cm')\n",
    "print(f'\\nReconnection Power:\\n wdot_B = {wdot_B:.4E} erg s-1')"
   ]
  },
  {
   "cell_type": "code",
   "execution_count": null,
   "id": "f80d0526-3699-4d22-ab11-1e904288df8c",
   "metadata": {},
   "outputs": [],
   "source": []
  },
  {
   "cell_type": "code",
   "execution_count": null,
   "id": "3277ee60-ec49-4ac7-aab3-278a7ead6da5",
   "metadata": {},
   "outputs": [],
   "source": []
  },
  {
   "cell_type": "code",
   "execution_count": null,
   "id": "d8973c8c-27c6-4df3-be86-aa1436a5440c",
   "metadata": {},
   "outputs": [],
   "source": []
  }
 ],
 "metadata": {
  "kernelspec": {
   "display_name": "Python 3 (ipykernel)",
   "language": "python",
   "name": "python3"
  },
  "language_info": {
   "codemirror_mode": {
    "name": "ipython",
    "version": 3
   },
   "file_extension": ".py",
   "mimetype": "text/x-python",
   "name": "python",
   "nbconvert_exporter": "python",
   "pygments_lexer": "ipython3",
   "version": "3.9.7"
  }
 },
 "nbformat": 4,
 "nbformat_minor": 5
}
