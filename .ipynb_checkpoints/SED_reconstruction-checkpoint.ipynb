{
 "cells": [
  {
   "cell_type": "markdown",
   "id": "cfb8c3b8-caeb-4ace-a08c-0dde719dfae0",
   "metadata": {},
   "source": [
    "This notebook was created for the study of a galaxy Seyfert Type II."
   ]
  },
  {
   "cell_type": "code",
   "execution_count": 1,
   "id": "bad6bf48-6a0d-4db1-ab21-87eb2e142992",
   "metadata": {},
   "outputs": [],
   "source": [
    "from astro_constants import *\n",
    "from source_parameters import *\n",
    "from rates import *"
   ]
  },
  {
   "cell_type": "code",
   "execution_count": 2,
   "id": "18bc15cd-ba42-4f67-9445-a34d222f8788",
   "metadata": {},
   "outputs": [],
   "source": [
    "import numpy as np\n",
    "import pandas as pd\n",
    "import seaborn as sns\n",
    "import matplotlib.pyplot as plt\n",
    "from scipy.integrate import quad\n",
    "from astropy import units as u\n",
    "from astropy import constants as const\n",
    "from scipy.stats import chisquare\n",
    "from scipy.optimize import curve_fit"
   ]
  },
  {
   "cell_type": "markdown",
   "id": "706cf604-a2ea-4f3d-8fef-b9159ab4cc99",
   "metadata": {},
   "source": [
    "Defining our source"
   ]
  },
  {
   "cell_type": "code",
   "execution_count": 3,
   "id": "a201b8f5-06d1-4052-94e3-98bbb1e52398",
   "metadata": {},
   "outputs": [
    {
     "name": "stdout",
     "output_type": "stream",
     "text": [
      "\n",
      "Coronal Magnetic Field:\n",
      " B_c = 1.0478E+04 G\n",
      "\n",
      "Coronal Particle Number Density:\n",
      " n_c = 3.4392E+10 cm-3\n",
      "\n",
      "Coronal Temperature:\n",
      " T_c = 2.5282E+09 K\n",
      "\n",
      "Width of the current sheet:\n",
      " delta_RX = 1.6649E+11 cm\n",
      "\n",
      "Reconnection Power:\n",
      " wdot_B = 5.9912E+42 erg s-1\n"
     ]
    }
   ],
   "source": [
    "## Initialize the class\n",
    "coronal_data = Coronal_Description(r_x, l, l_x, mdot, m)\n",
    "\n",
    "## Calculate parameters for emission region\n",
    "B_c = coronal_data.coronal_mag_field()\n",
    "n_c = coronal_data.coronal_density()\n",
    "T_c = coronal_data.coronal_temperature()\n",
    "delta_RX = coronal_data.width_current_sheet()\n",
    "wdot_B = coronal_data.mag_rec_power()\n",
    "\n",
    "print(f'\\nCoronal Magnetic Field:\\n B_c = {B_c:.4E} G')\n",
    "print(f'\\nCoronal Particle Number Density:\\n n_c = {n_c:.4E} cm-3')\n",
    "print(f'\\nCoronal Temperature:\\n T_c = {T_c:.4E} K')\n",
    "print(f'\\nWidth of the current sheet:\\n delta_RX = {delta_RX:.4E} cm')\n",
    "print(f'\\nReconnection Power:\\n wdot_B = {wdot_B:.4E} erg s-1')"
   ]
  },
  {
   "cell_type": "code",
   "execution_count": null,
   "id": "68940264-df45-4e93-bc74-a86dbfafa78f",
   "metadata": {},
   "outputs": [],
   "source": []
  },
  {
   "cell_type": "code",
   "execution_count": 4,
   "id": "c23c7372-5ffd-4c3c-80a6-75051d22ece0",
   "metadata": {},
   "outputs": [],
   "source": [
    "# Load the data from the CSV files\n",
    "archival_data = pd.read_csv('observed_SED/archival_data.csv', header=None)\n",
    "magic_data = pd.read_csv('observed_SED/4FGL_MAGIC_data.csv', header=None)\n",
    "icecube_data = pd.read_csv('observed_SED/IceCube_neutrinos_data.csv', header=None)"
   ]
  },
  {
   "cell_type": "code",
   "execution_count": 5,
   "id": "2b052108-1a08-4d05-880d-27ff54fcb961",
   "metadata": {},
   "outputs": [
    {
     "data": {
      "text/html": [
       "<div>\n",
       "<style scoped>\n",
       "    .dataframe tbody tr th:only-of-type {\n",
       "        vertical-align: middle;\n",
       "    }\n",
       "\n",
       "    .dataframe tbody tr th {\n",
       "        vertical-align: top;\n",
       "    }\n",
       "\n",
       "    .dataframe thead th {\n",
       "        text-align: right;\n",
       "    }\n",
       "</style>\n",
       "<table border=\"1\" class=\"dataframe\">\n",
       "  <thead>\n",
       "    <tr style=\"text-align: right;\">\n",
       "      <th></th>\n",
       "      <th>0</th>\n",
       "      <th>1</th>\n",
       "    </tr>\n",
       "  </thead>\n",
       "  <tbody>\n",
       "    <tr>\n",
       "      <th>0</th>\n",
       "      <td>0.070006</td>\n",
       "      <td>6.951928e-13</td>\n",
       "    </tr>\n",
       "    <tr>\n",
       "      <th>1</th>\n",
       "      <td>0.176924</td>\n",
       "      <td>9.131168e-13</td>\n",
       "    </tr>\n",
       "    <tr>\n",
       "      <th>2</th>\n",
       "      <td>0.553813</td>\n",
       "      <td>9.701572e-13</td>\n",
       "    </tr>\n",
       "    <tr>\n",
       "      <th>3</th>\n",
       "      <td>1.733557</td>\n",
       "      <td>5.292784e-13</td>\n",
       "    </tr>\n",
       "    <tr>\n",
       "      <th>4</th>\n",
       "      <td>5.426418</td>\n",
       "      <td>2.717756e-13</td>\n",
       "    </tr>\n",
       "    <tr>\n",
       "      <th>5</th>\n",
       "      <td>16.985897</td>\n",
       "      <td>5.292784e-13</td>\n",
       "    </tr>\n",
       "    <tr>\n",
       "      <th>6</th>\n",
       "      <td>94.070040</td>\n",
       "      <td>4.029611e-13</td>\n",
       "    </tr>\n",
       "    <tr>\n",
       "      <th>7</th>\n",
       "      <td>94.070040</td>\n",
       "      <td>2.266017e-13</td>\n",
       "    </tr>\n",
       "    <tr>\n",
       "      <th>8</th>\n",
       "      <td>316.227766</td>\n",
       "      <td>1.095150e-12</td>\n",
       "    </tr>\n",
       "    <tr>\n",
       "      <th>9</th>\n",
       "      <td>316.227766</td>\n",
       "      <td>6.158482e-13</td>\n",
       "    </tr>\n",
       "    <tr>\n",
       "      <th>10</th>\n",
       "      <td>989.863297</td>\n",
       "      <td>2.801357e-13</td>\n",
       "    </tr>\n",
       "    <tr>\n",
       "      <th>11</th>\n",
       "      <td>989.863297</td>\n",
       "      <td>1.575319e-13</td>\n",
       "    </tr>\n",
       "    <tr>\n",
       "      <th>12</th>\n",
       "      <td>3098.492452</td>\n",
       "      <td>1.095150e-13</td>\n",
       "    </tr>\n",
       "    <tr>\n",
       "      <th>13</th>\n",
       "      <td>3098.492452</td>\n",
       "      <td>6.347922e-14</td>\n",
       "    </tr>\n",
       "    <tr>\n",
       "      <th>14</th>\n",
       "      <td>9698.971065</td>\n",
       "      <td>2.887529e-13</td>\n",
       "    </tr>\n",
       "    <tr>\n",
       "      <th>15</th>\n",
       "      <td>9698.971065</td>\n",
       "      <td>1.623777e-13</td>\n",
       "    </tr>\n",
       "  </tbody>\n",
       "</table>\n",
       "</div>"
      ],
      "text/plain": [
       "              0             1\n",
       "0      0.070006  6.951928e-13\n",
       "1      0.176924  9.131168e-13\n",
       "2      0.553813  9.701572e-13\n",
       "3      1.733557  5.292784e-13\n",
       "4      5.426418  2.717756e-13\n",
       "5     16.985897  5.292784e-13\n",
       "6     94.070040  4.029611e-13\n",
       "7     94.070040  2.266017e-13\n",
       "8    316.227766  1.095150e-12\n",
       "9    316.227766  6.158482e-13\n",
       "10   989.863297  2.801357e-13\n",
       "11   989.863297  1.575319e-13\n",
       "12  3098.492452  1.095150e-13\n",
       "13  3098.492452  6.347922e-14\n",
       "14  9698.971065  2.887529e-13\n",
       "15  9698.971065  1.623777e-13"
      ]
     },
     "execution_count": 5,
     "metadata": {},
     "output_type": "execute_result"
    }
   ],
   "source": [
    "magic_data"
   ]
  },
  {
   "cell_type": "code",
   "execution_count": 6,
   "id": "2740733f-e755-43f7-8354-cebab4205d3f",
   "metadata": {},
   "outputs": [],
   "source": [
    "# Remove the rows with indices 7, 9, 11, 13, and 15\n",
    "indices_to_remove = [7, 9, 11, 13, 15]\n",
    "magic_data_cleaned = magic_data.drop(indices_to_remove, axis=0).reset_index(drop=True)\n",
    "\n",
    "# Use .iloc for positional indexing\n",
    "data_4FGL_DR2 = magic_data_cleaned.iloc[:7]  # First 7 points\n",
    "data_MAGIC = magic_data_cleaned.iloc[7:]     # Remaining points"
   ]
  },
  {
   "cell_type": "code",
   "execution_count": null,
   "id": "f80d0526-3699-4d22-ab11-1e904288df8c",
   "metadata": {},
   "outputs": [],
   "source": []
  },
  {
   "cell_type": "code",
   "execution_count": 7,
   "id": "3277ee60-ec49-4ac7-aab3-278a7ead6da5",
   "metadata": {},
   "outputs": [
    {
     "data": {
      "image/png": "[encoded data removed]",
      "text/plain": [
       "<Figure size 1000x500 with 1 Axes>"
      ]
     },
     "metadata": {},
     "output_type": "display_data"
    }
   ],
   "source": [
    "plt.figure(figsize=(10, 5))\n",
    "\n",
    "## Archival data\n",
    "plt.plot(archival_data[0], archival_data[1], 'o', label='Observed Archival Data', color='gray')\n",
    "\n",
    "## 4FGL & MAGIC data\n",
    "# plt.plot(magic_data[0], magic_data[1], 's', label='4FGL & MAGIC Data', color='green')\n",
    "\n",
    "## Plot the first 6 points with '+'\n",
    "plt.plot(data_4FGL_DR2.iloc[:6, 0], data_4FGL_DR2.iloc[:6, 1], '+', label='4FGL-DR2', color='blue')\n",
    "\n",
    "## Plot the 7th point with 'v'\n",
    "plt.plot(data_4FGL_DR2.iloc[6, 0], data_4FGL_DR2.iloc[6, 1], 'v', color='blue')\n",
    "\n",
    "## Plot the remaining points with 'v' in a different color\n",
    "plt.plot(data_MAGIC.iloc[:, 0], data_MAGIC.iloc[:, 1], 'v', label='MAGIC', color='green')\n",
    "\n",
    "## IceCube Neutrino data\n",
    "plt.plot(icecube_data[0], icecube_data[1], 'x', label='IceCube Neutrino Data', color='red')\n",
    "plt.plot(icecube_data[0][0:2], icecube_data[1][0:2], '--', color='red')\n",
    "plt.plot(icecube_data[0][2:4], icecube_data[1][2:4], '-', color='magenta')\n",
    "plt.plot(icecube_data[0][4:7], icecube_data[1][4:7], '--', color='red')\n",
    "\n",
    "plt.xscale('log')\n",
    "plt.yscale('log')\n",
    "plt.xlim(1e-17, 1e8)\n",
    "plt.ylim(1e-14, 1e-8)\n",
    "plt.xlabel('Energy [GeV]')\n",
    "plt.ylabel(r'E$^2 \\phi$ [TeV cm$^{-2}$ s$^{-1}$]')\n",
    "plt.title('NGC1068 Preliminary SED')\n",
    "\n",
    "plt.legend()\n",
    "\n",
    "plt.savefig('plots/preliminary_SED.png',dpi=300)\n",
    "\n",
    "plt.show()\n"
   ]
  },
  {
   "cell_type": "code",
   "execution_count": null,
   "id": "73c98094-3569-43b7-8eda-a397a7f66a60",
   "metadata": {},
   "outputs": [],
   "source": []
  },
  {
   "cell_type": "code",
   "execution_count": null,
   "id": "5ee34d9b-37d2-4540-b934-d1ab02ff4ba3",
   "metadata": {},
   "outputs": [],
   "source": []
  },
  {
   "cell_type": "code",
   "execution_count": null,
   "id": "048d3682-9b51-4270-9b07-d9682e506be8",
   "metadata": {},
   "outputs": [],
   "source": []
  }
 ],
 "metadata": {
  "kernelspec": {
   "display_name": "Python 3 (ipykernel)",
   "language": "python",
   "name": "python3"
  },
  "language_info": {
   "codemirror_mode": {
    "name": "ipython",
    "version": 3
   },
   "file_extension": ".py",
   "mimetype": "text/x-python",
   "name": "python",
   "nbconvert_exporter": "python",
   "pygments_lexer": "ipython3",
   "version": "3.9.7"
  }
 },
 "nbformat": 4,
 "nbformat_minor": 5
}
