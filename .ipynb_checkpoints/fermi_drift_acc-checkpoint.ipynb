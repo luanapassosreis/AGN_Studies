{
 "cells": [
  {
   "cell_type": "markdown",
   "id": "cfb8c3b8-caeb-4ace-a08c-0dde719dfae0",
   "metadata": {},
   "source": [
    "This notebook was created for the study of a galaxy Seyfert Type II."
   ]
  },
  {
   "cell_type": "code",
   "execution_count": 1,
   "id": "bad6bf48-6a0d-4db1-ab21-87eb2e142992",
   "metadata": {},
   "outputs": [],
   "source": [
    "from astro_constants import *\n",
    "from source_parameters import *\n",
    "from rates import *"
   ]
  },
  {
   "cell_type": "code",
   "execution_count": 2,
   "id": "2b4287cd-f026-4d58-82cb-8924adda3da8",
   "metadata": {},
   "outputs": [],
   "source": [
    "import numpy as np\n",
    "import pandas as pd\n",
    "import seaborn as sns\n",
    "import matplotlib.pyplot as plt\n",
    "from scipy.integrate import quad\n",
    "from astropy import units as u\n",
    "from astropy import constants as const\n",
    "from scipy.stats import chisquare\n",
    "from scipy.optimize import curve_fit"
   ]
  },
  {
   "cell_type": "markdown",
   "id": "706cf604-a2ea-4f3d-8fef-b9159ab4cc99",
   "metadata": {},
   "source": [
    "## Coronal Parameters\n",
    "\n",
    "Defining our source"
   ]
  },
  {
   "cell_type": "code",
   "execution_count": 3,
   "id": "a201b8f5-06d1-4052-94e3-98bbb1e52398",
   "metadata": {},
   "outputs": [
    {
     "name": "stdout",
     "output_type": "stream",
     "text": [
      "\n",
      "Coronal Magnetic Field:\n",
      " B_c = 1.0478E+04 G\n",
      "\n",
      "Coronal Particle Number Density:\n",
      " n_c = 3.4392E+10 cm-3\n",
      "\n",
      "Coronal Temperature:\n",
      " T_c = 2.5282E+09 K\n",
      "\n",
      "Width of the current sheet:\n",
      " delta_RX = 1.6649E+11 cm\n",
      "\n",
      "Reconnection Power:\n",
      " wdot_B = 5.9912E+42 erg s-1\n"
     ]
    }
   ],
   "source": [
    "## Initialize the class\n",
    "coronal_data = Coronal_Description(r_x, l, l_x, mdot, m)\n",
    "\n",
    "## Calculate parameters for emission region\n",
    "B_c = coronal_data.coronal_mag_field()\n",
    "n_c = coronal_data.coronal_density()\n",
    "T_c = coronal_data.coronal_temperature()\n",
    "delta_RX = coronal_data.width_current_sheet()\n",
    "wdot_B = coronal_data.mag_rec_power()\n",
    "\n",
    "print(f'\\nCoronal Magnetic Field:\\n B_c = {B_c:.4E} G')\n",
    "print(f'\\nCoronal Particle Number Density:\\n n_c = {n_c:.4E} cm-3')\n",
    "print(f'\\nCoronal Temperature:\\n T_c = {T_c:.4E} K')\n",
    "print(f'\\nWidth of the current sheet:\\n delta_RX = {delta_RX:.4E} cm')\n",
    "print(f'\\nReconnection Power:\\n wdot_B = {wdot_B:.4E} erg s-1')"
   ]
  },
  {
   "cell_type": "code",
   "execution_count": null,
   "id": "4e8f77fb-fc75-4756-88dc-03777c762189",
   "metadata": {},
   "outputs": [],
   "source": []
  },
  {
   "cell_type": "markdown",
   "id": "4302724c-d9de-4902-afa0-506a0b7ac0e3",
   "metadata": {},
   "source": [
    "## Maximum Accelerating Energy:\n",
    "\n",
    "Larmor radius:\n",
    "\n",
    "$$ r_{L} = 33.36 \\text{km} \\left( \\frac{E}{\\text{GeV}} \\right) \\left( \\frac{1}{Z} \\right) \\left( \\frac{\\text{G}}{B} \\right) $$\n",
    "\n",
    "Maximum energy, in which the particle is able to escape our acceleration region only after the condition $r_{L} = \\Delta R_{X}$ is achieved.\n",
    "\n",
    "$$ \\Delta R_{X} = 33.36 km \\left( \\frac{E}{\\text{GeV}} \\right) \\left( \\frac{1}{Z} \\right) \\left( \\frac{\\text{G}}{B} \\right) $$\n",
    "\n",
    "Hence, the energy (in GeV) will be\n",
    "\n",
    "$$ E = \\frac{\\Delta R_{X} \\cdot Z \\cdot B}{33.36 \\, \\text{km} \\cdot \\text{G}} $$\n",
    "\n",
    "And by this estimate, we can accelerate protons up to:"
   ]
  },
  {
   "cell_type": "code",
   "execution_count": 4,
   "id": "269316f7-3189-4788-8869-fbf7c52f2ebe",
   "metadata": {},
   "outputs": [
    {
     "name": "stdout",
     "output_type": "stream",
     "text": [
      "Maximum Energy for proton (Emax_p) = 5.23e+08 GeV\n",
      "Maximum Energy for proton (Emax_p) = 5.23e+17 eV\n",
      "Maximum Energy for proton (Emax_p) = 8.38e+05 erg\n"
     ]
    }
   ],
   "source": [
    "Z = 1.0 # proton case\n",
    "\n",
    "Emax_p = (delta_RX * Z * B_c) / (33.36 * km )\n",
    "\n",
    "print(f\"Maximum Energy for proton (Emax_p) = {Emax_p:.2e} GeV\")\n",
    "print(f\"Maximum Energy for proton (Emax_p) = {Emax_p * 1e9:.2e} eV\")\n",
    "print(f\"Maximum Energy for proton (Emax_p) = {Emax_p * GeV:.2e} erg\")"
   ]
  },
  {
   "cell_type": "markdown",
   "id": "cf167762-74b4-4b89-81c6-b7b34024f2a9",
   "metadata": {},
   "source": [
    "and then drift acceleration will act for energies at which the Larmor radius becomes larger than the thickness of the reconnection region.\n",
    "\n",
    "The electrons may escape before the protons, given their difference in mass, therefore, we should use the mass ratio between them:\n",
    "\n",
    "$$ \\text{Emax_electron} = \\text{Emax_proton} \\times \\left( \\frac{\\text{mass_e}}{\\text{mass_p}} \\right)  $$"
   ]
  },
  {
   "cell_type": "code",
   "execution_count": 5,
   "id": "eb99faa4-77b5-4f4a-abde-41902aa78b47",
   "metadata": {},
   "outputs": [
    {
     "name": "stdout",
     "output_type": "stream",
     "text": [
      "Maximum Energy for electron (Emax_e) = 2.85e+05 GeV\n",
      "Maximum Energy for electron (Emax_e) = 2.85e+14 eV\n",
      "Maximum Energy for electron (Emax_e) = 4.56e+02 erg\n"
     ]
    }
   ],
   "source": [
    "Emax_e = Emax_p * me / mp\n",
    "\n",
    "print(f\"Maximum Energy for electron (Emax_e) = {Emax_e:.2e} GeV\")\n",
    "print(f\"Maximum Energy for electron (Emax_e) = {Emax_e * 1e9:.2e} eV\")\n",
    "print(f\"Maximum Energy for electron (Emax_e) = {Emax_e * GeV:.2e} erg\")"
   ]
  },
  {
   "cell_type": "code",
   "execution_count": null,
   "id": "547fb2d4-fe63-453d-a8c4-15b70fc30473",
   "metadata": {},
   "outputs": [],
   "source": []
  },
  {
   "cell_type": "code",
   "execution_count": 6,
   "id": "996d5c27-78b9-494c-8b07-fc3ac74af0d6",
   "metadata": {},
   "outputs": [
    {
     "data": {
      "text/plain": [
       "1836.1454776986157"
      ]
     },
     "execution_count": 6,
     "metadata": {},
     "output_type": "execute_result"
    }
   ],
   "source": [
    "mp / me"
   ]
  },
  {
   "cell_type": "code",
   "execution_count": 7,
   "id": "5eabea87-4976-48a2-8bff-22a83f035dd5",
   "metadata": {},
   "outputs": [
    {
     "data": {
      "text/plain": [
       "0.000544619155805333"
      ]
     },
     "execution_count": 7,
     "metadata": {},
     "output_type": "execute_result"
    }
   ],
   "source": [
    "me / mp"
   ]
  },
  {
   "cell_type": "code",
   "execution_count": null,
   "id": "8f72c1eb-b23c-4937-99c7-74f92c7d70a9",
   "metadata": {},
   "outputs": [],
   "source": []
  },
  {
   "cell_type": "code",
   "execution_count": 8,
   "id": "04be6c37-9150-416b-aa50-df4b5cce4393",
   "metadata": {},
   "outputs": [
    {
     "data": {
      "text/plain": [
       "5920000000000.0"
      ]
     },
     "execution_count": 8,
     "metadata": {},
     "output_type": "execute_result"
    }
   ],
   "source": [
    "R_s"
   ]
  },
  {
   "cell_type": "code",
   "execution_count": 15,
   "id": "55f49ac8-1f62-4148-82fe-052404fbc3e5",
   "metadata": {},
   "outputs": [
    {
     "name": "stdout",
     "output_type": "stream",
     "text": [
      "R_s = 5.92e+12 cm\n",
      "R_s = 1.92e-06 pc\n",
      "100 * R_s = 1.92e-04 pc\n"
     ]
    }
   ],
   "source": [
    "print(f\"R_s = {R_s:.2e} cm\")\n",
    "print(f\"R_s = {R_s/pc:.2e} pc\")\n",
    "\n",
    "print(f\"100 * R_s = {100*R_s/pc:.2e} pc\")"
   ]
  },
  {
   "cell_type": "code",
   "execution_count": null,
   "id": "24613d2d-b7c9-4b48-9b9c-4ac912feb6f4",
   "metadata": {},
   "outputs": [],
   "source": []
  },
  {
   "cell_type": "code",
   "execution_count": null,
   "id": "65dda578-a4ad-4df7-997f-5120f294b292",
   "metadata": {},
   "outputs": [],
   "source": []
  },
  {
   "cell_type": "code",
   "execution_count": null,
   "id": "bb401293-9634-4ea0-99d5-46f7cd5943be",
   "metadata": {},
   "outputs": [],
   "source": []
  },
  {
   "cell_type": "code",
   "execution_count": null,
   "id": "997e5c21-69b4-4cd1-bd2e-bb48e2dcb210",
   "metadata": {},
   "outputs": [],
   "source": []
  },
  {
   "cell_type": "code",
   "execution_count": null,
   "id": "99d7f74f-fcce-48cb-a212-1d8c28fe0994",
   "metadata": {},
   "outputs": [],
   "source": [
    "coronal_data.q"
   ]
  },
  {
   "cell_type": "code",
   "execution_count": null,
   "id": "02251d17-b408-4deb-8fb7-181e1678df5c",
   "metadata": {},
   "outputs": [],
   "source": []
  },
  {
   "cell_type": "code",
   "execution_count": null,
   "id": "7a336904-7a40-46ba-9bc1-a859681d44c0",
   "metadata": {},
   "outputs": [],
   "source": [
    "## Energy range for protons and electrons [erg]\n",
    "\n",
    "Ep = np.linspace(1e6, 1e20) * eV\n",
    "Ee = np.linspace(1e6, 1e20) * eV"
   ]
  },
  {
   "cell_type": "code",
   "execution_count": null,
   "id": "d240e9d1-5943-4531-a2ee-4fdbb8404f2d",
   "metadata": {},
   "outputs": [],
   "source": []
  },
  {
   "cell_type": "code",
   "execution_count": null,
   "id": "51ae052c-37f5-4e3d-a363-67f449e1a67e",
   "metadata": {},
   "outputs": [],
   "source": [
    "## Xu & Lazarian - 3rd Regime\n",
    "\n",
    "v_in = 0.05 * va\n",
    "beta_in = v_in / c\n",
    "d_ur = 2 * beta_in * ( 3 * beta_in**2 + 3*beta_in + 1 ) / ( 3 * (beta_in + 0.5) * (1 - beta_in**2) )\n",
    "\n",
    "d_ur # [adim.]"
   ]
  },
  {
   "cell_type": "code",
   "execution_count": null,
   "id": "6e65c8ac-2df9-436f-920c-2884a349cc87",
   "metadata": {},
   "outputs": [],
   "source": [
    "t_acc = 4*delta_RX / (c*d_ur)\n",
    "t_acc # [s]"
   ]
  },
  {
   "cell_type": "code",
   "execution_count": null,
   "id": "d2d87870-9839-4260-8d16-bcef1d88d013",
   "metadata": {},
   "outputs": [],
   "source": []
  },
  {
   "cell_type": "code",
   "execution_count": null,
   "id": "d6a0faa6-cc54-40b4-90ac-8d970b8c7994",
   "metadata": {},
   "outputs": [],
   "source": []
  },
  {
   "cell_type": "code",
   "execution_count": null,
   "id": "59426048-e456-40d7-94eb-6006b67da52d",
   "metadata": {},
   "outputs": [],
   "source": [
    "# def time_acc_fermi(E):\n",
    "#     '''Eq.(2.37) of Medina-Torrejon Thesis'''\n",
    "#     alpha = 0.1\n",
    "#     s = 1/alpha\n",
    "#     E0 = 10**(4)\n",
    "#     t0 = 700\n",
    "#     ## hours\n",
    "#     return s**(-1) * (E0/E)**(-1/s) * t0\n",
    "#     # return (E0/E)**(-1/s) * t0\n",
    "\n",
    "\n",
    "def time_acc_regime3(va, delta_RX):\n",
    "    v_in = 0.05 * va\n",
    "    beta_in = v_in / c\n",
    "    d_ur = 2 * beta_in * ( 3 * beta_in**2 + 3*beta_in + 1 ) / ( 3 * (beta_in + 0.5) * (1 - beta_in**2) )\n",
    "    \n",
    "    return 4 * delta_RX / (c * d_ur)\n",
    "\n",
    "\n",
    "def time_acc_drift(E, B, va):\n",
    "    '''Eq.(7) of Del Valle, de Gouveia Dal Pino & Kowal 2016 e de Gouveia Dal Pino & Kowal 2015'''\n",
    "    v_rec = 0.05 * va\n",
    "    \n",
    "    return E / (qe*B*v_rec)"
   ]
  },
  {
   "cell_type": "code",
   "execution_count": null,
   "id": "f3adc942-b2ed-4a02-84a8-9660eb036f61",
   "metadata": {},
   "outputs": [],
   "source": []
  },
  {
   "cell_type": "code",
   "execution_count": null,
   "id": "0e61f4fb-a68b-406b-bca7-09fa59c13f75",
   "metadata": {},
   "outputs": [],
   "source": [
    "plt.figure(figsize=(10, 6))\n",
    "\n",
    "plt.loglog(Ep/eV,[time_acc_regime3(va, delta_RX)]*len(Ep),'--',label='Acceleration (Regime 3)',color='red')\n",
    "plt.loglog(Ep/eV,time_acc_drift(Ep, B_c, va),label='Acceleration (Drift)',color='green')\n",
    "\n",
    "# plt.xlim()\n",
    "# plt.ylim((1e-4,1e4))\n",
    "\n",
    "# plt.title('Hadrons')\n",
    "plt.xlabel('E [eV]')\n",
    "plt.ylabel('t [s]')\n",
    "\n",
    "# plt.xticks([1e-2,1e-1,1e0,1e1,1e2,1e3],labels=['-2','-1','0','1','2','3'])\n",
    "plt.savefig('plots/acc_reconnection_drift.png',dpi=300)\n",
    "\n",
    "plt.legend(frameon=False)\n",
    "plt.show()"
   ]
  },
  {
   "cell_type": "code",
   "execution_count": null,
   "id": "b6a22139-ad5d-4032-b961-3a6d5de53718",
   "metadata": {},
   "outputs": [],
   "source": [
    "# plt.figure(figsize=(10, 6))\n",
    "\n",
    "# plt.loglog(Ee/eV,[time_acc_regime3(va, delta_RX)]*len(Ee),'--',label='Acceleration (Regime 3)',color='red')\n",
    "# plt.loglog(Ee/eV,time_acc_drift(Ee, B_c, va),label='Acceleration (Drift)',color='green')\n",
    "\n",
    "# # plt.xlim()\n",
    "# # plt.ylim((1e-4,1e4))\n",
    "\n",
    "# plt.title('Leptons')\n",
    "# plt.xlabel('E [eV]')\n",
    "# plt.ylabel('t [s]')\n",
    "\n",
    "# # plt.xticks([1e-2,1e-1,1e0,1e1,1e2,1e3],labels=['-2','-1','0','1','2','3'])\n",
    "# plt.savefig('plots/acc_reconnection_drift.png',dpi=300)\n",
    "\n",
    "# plt.legend(frameon=False)\n",
    "# plt.show()"
   ]
  },
  {
   "cell_type": "code",
   "execution_count": null,
   "id": "9d9c23a9-60ff-462a-8b57-375c338adc3e",
   "metadata": {},
   "outputs": [],
   "source": [
    "## Normalizing\n",
    "\n",
    "Ep_norm = Ep / (mpc2)\n",
    "Ep_norm"
   ]
  },
  {
   "cell_type": "code",
   "execution_count": null,
   "id": "841ecf00-fdc7-47f2-b56f-c106784bfe86",
   "metadata": {},
   "outputs": [],
   "source": [
    "plt.figure(figsize=(10, 6))\n",
    "\n",
    "plt.loglog(Ep_norm,[time_acc_regime3(va, delta_RX)]*len(Ep),'--',label='Acceleration (Regime 3)',color='red')\n",
    "plt.loglog(Ep_norm,time_acc_drift(Ep, B_c, va),label='Acceleration (Drift)',color='green')\n",
    "\n",
    "# plt.xlim()\n",
    "# plt.ylim((1e-4,1e4))\n",
    "\n",
    "# plt.title('Hadrons')\n",
    "plt.xlabel(r'$E_p / m_p c^2$')\n",
    "plt.ylabel('t [s]')\n",
    "\n",
    "# plt.xticks([1e-2,1e-1,1e0,1e1,1e2,1e3],labels=['-2','-1','0','1','2','3'])\n",
    "plt.savefig('plots/acc_reconnection_drift_norm.png',dpi=300)\n",
    "\n",
    "plt.legend(frameon=False)\n",
    "plt.show()"
   ]
  },
  {
   "cell_type": "code",
   "execution_count": null,
   "id": "9b8dde4d-7184-4fc2-8d97-a83ef16b0493",
   "metadata": {},
   "outputs": [],
   "source": []
  },
  {
   "cell_type": "markdown",
   "id": "606475fc-ef56-4408-84cd-6268fac71524",
   "metadata": {},
   "source": [
    "## Testing Tania's curve"
   ]
  },
  {
   "cell_type": "code",
   "execution_count": null,
   "id": "bf9ba815-bbda-4dd2-9038-9e3c91646437",
   "metadata": {},
   "outputs": [],
   "source": [
    "from astropy.io import fits\n",
    "\n",
    "# Function to inspect the FITS file structure\n",
    "def inspect_fits(file_path):\n",
    "    with fits.open(file_path) as hdul:\n",
    "        hdul.info()  # Print the structure of the FITS file\n",
    "        for i, hdu in enumerate(hdul):\n",
    "            print(f\"HDU {i}:\")\n",
    "            print(repr(hdu.header))\n",
    "            if hdu.data is not None:\n",
    "                print(f\"Data shape: {hdu.data.shape}\")\n",
    "\n",
    "# Inspect the FITS file structure\n",
    "inspect_fits('./partic_dedEdt_en.fits')"
   ]
  },
  {
   "cell_type": "code",
   "execution_count": null,
   "id": "f07ca759-2a77-44f4-bb8d-773d4516ee9a",
   "metadata": {},
   "outputs": [],
   "source": [
    "from astropy.io import fits\n",
    "\n",
    "# Function to read the .fits file and extract the columns\n",
    "def readfits(file_path):\n",
    "    with fits.open(file_path) as hdul:\n",
    "        # Assuming the data is in the primary HDU\n",
    "        data = hdul[0].data\n",
    "    return data\n",
    "\n",
    "# Read the .fits file\n",
    "array = readfits('./partic_dedEdt_en.fits')  ## L / c\n",
    "\n",
    "# Extract columns\n",
    "tacc = array[:, 0]  # (Tempo de aceleração)\n",
    "Eacc = array[:, 1]  # (Energy kinetica)\n",
    "sdcc = array[:, 2]  # (desvio padrão, a observar)"
   ]
  },
  {
   "cell_type": "code",
   "execution_count": null,
   "id": "028a4486-1677-4ec0-9355-318ac8933289",
   "metadata": {},
   "outputs": [],
   "source": [
    "# Print the extracted columns\n",
    "# print(\"Tempo de aceleração:\", tacc)\n",
    "# print(\"Energy kinetica:\", Eacc)\n",
    "# print(\"Desvio padrão:\", sdcc)"
   ]
  },
  {
   "cell_type": "code",
   "execution_count": null,
   "id": "cc66b983-9db9-4780-b44a-2cfe41a58606",
   "metadata": {},
   "outputs": [],
   "source": [
    "# tacc"
   ]
  },
  {
   "cell_type": "code",
   "execution_count": null,
   "id": "84342114-ba5f-4d10-bcb3-6e8043357f04",
   "metadata": {},
   "outputs": [],
   "source": [
    "# Eacc"
   ]
  },
  {
   "cell_type": "code",
   "execution_count": null,
   "id": "8c785066-b835-499d-9a19-ffeac0d557df",
   "metadata": {},
   "outputs": [],
   "source": [
    "## Tania\n",
    "\n",
    "plt.figure(figsize=(10, 6))\n",
    "\n",
    "plt.loglog(Eacc,tacc,label='Acceleration (Tania)',color='magenta')\n",
    "\n",
    "plt.legend(frameon=False)\n",
    "plt.xlabel('E / $m_p$ $c^2$')\n",
    "plt.ylabel('t [s]')\n",
    "\n",
    "plt.show()"
   ]
  },
  {
   "cell_type": "code",
   "execution_count": null,
   "id": "b71e6f75-97ae-4928-9708-d07ce0dddaac",
   "metadata": {},
   "outputs": [],
   "source": [
    "## erg\n",
    "\n",
    "plt.figure(figsize=(10, 6))\n",
    "\n",
    "plt.loglog(Ep_norm,[time_acc_regime3(va, delta_RX)]*len(Ep_norm),'--',label='Acceleration (Regime 3)',color='red')\n",
    "plt.loglog(Ep_norm,time_acc_drift(Ep, B_c, va),label='Acceleration (Drift)',color='green')\n",
    "plt.loglog(Eacc,tacc,label='Acceleration (Tania)',color='magenta')\n",
    "\n",
    "plt.loglog(Ep_norm,time_acc_drift(Ep_norm, B_c, va),label='Acceleration (Drift for E/mc2)',color='gray')\n",
    "plt.loglog(Eacc,tacc*(1e11/c),label='Acceleration (Tania x factor)',color='blue')\n",
    "##### Tania's has a normalization factor\n",
    "\n",
    "plt.xlim((1e0,Ep_norm.max()))\n",
    "plt.legend(frameon=False)\n",
    "plt.xlabel('E / $m_p$ $c^2$')\n",
    "plt.ylabel('t [s]')\n",
    "\n",
    "plt.show()"
   ]
  },
  {
   "cell_type": "code",
   "execution_count": null,
   "id": "cbcf9df0-c969-4a0d-96f5-f2dfe736e120",
   "metadata": {},
   "outputs": [],
   "source": []
  },
  {
   "cell_type": "code",
   "execution_count": null,
   "id": "bd479c79-81b6-491d-8122-84e471ce1d46",
   "metadata": {},
   "outputs": [],
   "source": []
  }
 ],
 "metadata": {
  "kernelspec": {
   "display_name": "Python 3 (ipykernel)",
   "language": "python",
   "name": "python3"
  },
  "language_info": {
   "codemirror_mode": {
    "name": "ipython",
    "version": 3
   },
   "file_extension": ".py",
   "mimetype": "text/x-python",
   "name": "python",
   "nbconvert_exporter": "python",
   "pygments_lexer": "ipython3",
   "version": "3.9.7"
  }
 },
 "nbformat": 4,
 "nbformat_minor": 5
}
