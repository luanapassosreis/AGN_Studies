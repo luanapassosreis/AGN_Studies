{
 "cells": [
  {
   "cell_type": "markdown",
   "id": "cfb8c3b8-caeb-4ace-a08c-0dde719dfae0",
   "metadata": {},
   "source": [
    "This notebook was created for the study of a galaxy Seyfert Type II."
   ]
  },
  {
   "cell_type": "code",
   "execution_count": 1,
   "id": "bad6bf48-6a0d-4db1-ab21-87eb2e142992",
   "metadata": {},
   "outputs": [],
   "source": [
    "from astro_constants import *\n",
    "from source_parameters import *\n",
    "from rates import *"
   ]
  },
  {
   "cell_type": "code",
   "execution_count": 2,
   "id": "2b4287cd-f026-4d58-82cb-8924adda3da8",
   "metadata": {},
   "outputs": [],
   "source": [
    "import numpy as np\n",
    "import pandas as pd\n",
    "import seaborn as sns\n",
    "import matplotlib.pyplot as plt\n",
    "from scipy.integrate import quad\n",
    "from astropy import units as u\n",
    "from astropy import constants as const\n",
    "from scipy.stats import chisquare\n",
    "from scipy.optimize import curve_fit"
   ]
  },
  {
   "cell_type": "markdown",
   "id": "706cf604-a2ea-4f3d-8fef-b9159ab4cc99",
   "metadata": {},
   "source": [
    "Defining our source"
   ]
  },
  {
   "cell_type": "code",
   "execution_count": 3,
   "id": "a201b8f5-06d1-4052-94e3-98bbb1e52398",
   "metadata": {},
   "outputs": [
    {
     "name": "stdout",
     "output_type": "stream",
     "text": [
      "\n",
      "Coronal Magnetic Field:\n",
      " B_c = 1.0478E+04 G\n",
      "\n",
      "Coronal Particle Number Density:\n",
      " n_c = 3.4392E+10 cm-3\n",
      "\n",
      "Coronal Temperature:\n",
      " T_c = 2.5282E+09 K\n",
      "\n",
      "Width of the current sheet:\n",
      " delta_RX = 1.6649E+11 cm\n",
      "\n",
      "Reconnection Power:\n",
      " wdot_B = 5.9912E+42 erg s-1\n"
     ]
    }
   ],
   "source": [
    "## Initialize the class\n",
    "coronal_data = Coronal_Description(r_x, l, l_x, mdot, m)\n",
    "\n",
    "## Calculate parameters for emission region\n",
    "B_c = coronal_data.coronal_mag_field()\n",
    "n_c = coronal_data.coronal_density()\n",
    "T_c = coronal_data.coronal_temperature()\n",
    "delta_RX = coronal_data.width_current_sheet()\n",
    "wdot_B = coronal_data.mag_rec_power()\n",
    "\n",
    "print(f'\\nCoronal Magnetic Field:\\n B_c = {B_c:.4E} G')\n",
    "print(f'\\nCoronal Particle Number Density:\\n n_c = {n_c:.4E} cm-3')\n",
    "print(f'\\nCoronal Temperature:\\n T_c = {T_c:.4E} K')\n",
    "print(f'\\nWidth of the current sheet:\\n delta_RX = {delta_RX:.4E} cm')\n",
    "print(f'\\nReconnection Power:\\n wdot_B = {wdot_B:.4E} erg s-1')"
   ]
  },
  {
   "cell_type": "code",
   "execution_count": null,
   "id": "4e8f77fb-fc75-4756-88dc-03777c762189",
   "metadata": {},
   "outputs": [],
   "source": []
  },
  {
   "cell_type": "code",
   "execution_count": 4,
   "id": "04be6c37-9150-416b-aa50-df4b5cce4393",
   "metadata": {},
   "outputs": [
    {
     "data": {
      "text/plain": [
       "5920000000000.0"
      ]
     },
     "execution_count": 4,
     "metadata": {},
     "output_type": "execute_result"
    }
   ],
   "source": [
    "R_s"
   ]
  },
  {
   "cell_type": "code",
   "execution_count": 5,
   "id": "99d7f74f-fcce-48cb-a212-1d8c28fe0994",
   "metadata": {},
   "outputs": [
    {
     "data": {
      "text/plain": [
       "0.8200705800826866"
      ]
     },
     "execution_count": 5,
     "metadata": {},
     "output_type": "execute_result"
    }
   ],
   "source": [
    "coronal_data.q"
   ]
  },
  {
   "cell_type": "code",
   "execution_count": null,
   "id": "02251d17-b408-4deb-8fb7-181e1678df5c",
   "metadata": {},
   "outputs": [],
   "source": []
  },
  {
   "cell_type": "code",
   "execution_count": 6,
   "id": "7a336904-7a40-46ba-9bc1-a859681d44c0",
   "metadata": {},
   "outputs": [],
   "source": [
    "## Energy range for protons and electrons [erg]\n",
    "\n",
    "Ep = np.linspace(1e9, 1e16)*eV\n",
    "Ee = np.linspace(1e9, 1e16)*eV"
   ]
  },
  {
   "cell_type": "code",
   "execution_count": 7,
   "id": "5cfa0973-1bfb-4dbf-98c8-535ead9317b4",
   "metadata": {},
   "outputs": [
    {
     "data": {
      "text/plain": [
       "5.752425625949121e-14"
      ]
     },
     "execution_count": 7,
     "metadata": {},
     "output_type": "execute_result"
    }
   ],
   "source": [
    "## Fluid density\n",
    "\n",
    "rho = n_c * mp # [g cm-3]\n",
    "rho"
   ]
  },
  {
   "cell_type": "code",
   "execution_count": 8,
   "id": "9d9c23a9-60ff-462a-8b57-375c338adc3e",
   "metadata": {},
   "outputs": [
    {
     "data": {
      "text/plain": [
       "array([1.06582075e+00, 2.17515483e+05, 4.35029899e+05, 6.52544316e+05,\n",
       "       8.70058733e+05, 1.08757315e+06, 1.30508757e+06, 1.52260198e+06,\n",
       "       1.74011640e+06, 1.95763082e+06, 2.17514523e+06, 2.39265965e+06,\n",
       "       2.61017407e+06, 2.82768848e+06, 3.04520290e+06, 3.26271732e+06,\n",
       "       3.48023173e+06, 3.69774615e+06, 3.91526057e+06, 4.13277498e+06,\n",
       "       4.35028940e+06, 4.56780382e+06, 4.78531823e+06, 5.00283265e+06,\n",
       "       5.22034707e+06, 5.43786148e+06, 5.65537590e+06, 5.87289032e+06,\n",
       "       6.09040473e+06, 6.30791915e+06, 6.52543357e+06, 6.74294798e+06,\n",
       "       6.96046240e+06, 7.17797682e+06, 7.39549123e+06, 7.61300565e+06,\n",
       "       7.83052007e+06, 8.04803448e+06, 8.26554890e+06, 8.48306332e+06,\n",
       "       8.70057773e+06, 8.91809215e+06, 9.13560657e+06, 9.35312098e+06,\n",
       "       9.57063540e+06, 9.78814982e+06, 1.00056642e+07, 1.02231787e+07,\n",
       "       1.04406931e+07, 1.06582075e+07])"
      ]
     },
     "execution_count": 8,
     "metadata": {},
     "output_type": "execute_result"
    }
   ],
   "source": [
    "## Normalizing\n",
    "\n",
    "Ep_norm = Ep / (mp*c**2)\n",
    "Ep_norm"
   ]
  },
  {
   "cell_type": "code",
   "execution_count": null,
   "id": "e92ff5e3-9eaf-42a2-af72-f4d60860bbb1",
   "metadata": {},
   "outputs": [],
   "source": []
  },
  {
   "cell_type": "code",
   "execution_count": 9,
   "id": "32522813-35cb-4c87-b567-2f839724a905",
   "metadata": {},
   "outputs": [
    {
     "data": {
      "text/plain": [
       "0.29069046222286127"
      ]
     },
     "execution_count": 9,
     "metadata": {},
     "output_type": "execute_result"
    }
   ],
   "source": [
    "## Alfvén Speed\n",
    "\n",
    "v_a0 = B_c / np.sqrt(4 * np.pi * rho)\n",
    "\n",
    "va = v_a0 * coronal_data.Gamma\n",
    "va/c"
   ]
  },
  {
   "cell_type": "code",
   "execution_count": 10,
   "id": "2e626b02-f10a-4157-aa11-182554eeed4f",
   "metadata": {},
   "outputs": [
    {
     "data": {
      "text/plain": [
       "0.4110983941280743"
      ]
     },
     "execution_count": 10,
     "metadata": {},
     "output_type": "execute_result"
    }
   ],
   "source": [
    "v_a0 / c"
   ]
  },
  {
   "cell_type": "code",
   "execution_count": 11,
   "id": "98a48ae8-ade8-45d2-b995-57b56ea6be22",
   "metadata": {},
   "outputs": [
    {
     "data": {
      "text/plain": [
       "8714609366.979158"
      ]
     },
     "execution_count": 11,
     "metadata": {},
     "output_type": "execute_result"
    }
   ],
   "source": [
    "va"
   ]
  },
  {
   "cell_type": "code",
   "execution_count": 12,
   "id": "e7a8d290-06e5-4898-bd24-10268e30bee8",
   "metadata": {},
   "outputs": [
    {
     "data": {
      "text/plain": [
       "29979000000.0"
      ]
     },
     "execution_count": 12,
     "metadata": {},
     "output_type": "execute_result"
    }
   ],
   "source": [
    "c"
   ]
  },
  {
   "cell_type": "code",
   "execution_count": null,
   "id": "d240e9d1-5943-4531-a2ee-4fdbb8404f2d",
   "metadata": {},
   "outputs": [],
   "source": []
  },
  {
   "cell_type": "code",
   "execution_count": 13,
   "id": "51ae052c-37f5-4e3d-a363-67f449e1a67e",
   "metadata": {},
   "outputs": [
    {
     "data": {
      "text/plain": [
       "0.01966916741367544"
      ]
     },
     "execution_count": 13,
     "metadata": {},
     "output_type": "execute_result"
    }
   ],
   "source": [
    "## Xu & Lazarian - 3rd Regime\n",
    "\n",
    "v_in = 0.05 * va\n",
    "beta_in = v_in / c\n",
    "d_ur = 2 * beta_in * ( 3 * beta_in**2 + 3*beta_in + 1 ) / ( 3 * (beta_in + 0.5) * (1 - beta_in**2) )\n",
    "\n",
    "d_ur # [adim.]"
   ]
  },
  {
   "cell_type": "code",
   "execution_count": null,
   "id": "8daab628-e3f9-47d3-9151-3c3f23e3b348",
   "metadata": {},
   "outputs": [],
   "source": []
  },
  {
   "cell_type": "code",
   "execution_count": 14,
   "id": "6e65c8ac-2df9-436f-920c-2884a349cc87",
   "metadata": {},
   "outputs": [
    {
     "data": {
      "text/plain": [
       "1129.4022114212746"
      ]
     },
     "execution_count": 14,
     "metadata": {},
     "output_type": "execute_result"
    }
   ],
   "source": [
    "t_acc = 4*delta_RX / (c*d_ur)\n",
    "t_acc # [s]"
   ]
  },
  {
   "cell_type": "code",
   "execution_count": null,
   "id": "d2d87870-9839-4260-8d16-bcef1d88d013",
   "metadata": {},
   "outputs": [],
   "source": []
  },
  {
   "cell_type": "code",
   "execution_count": 15,
   "id": "ae6d83fa-4048-47cd-9034-d7a3e6af4cb6",
   "metadata": {},
   "outputs": [],
   "source": [
    "r_c = 10 * R_s  # [cm] coronal size\n",
    "L_x = 7 * 10**43 # [erg s-1]\n",
    "epsilon_0 = 7*keV # [erg] compton hump energy\n",
    "\n",
    "U_x = L_x / (4 * np.pi * c * r_c**2)"
   ]
  },
  {
   "cell_type": "code",
   "execution_count": 16,
   "id": "763934ad-7402-46a2-be91-23571139f398",
   "metadata": {},
   "outputs": [
    {
     "name": "stdout",
     "output_type": "stream",
     "text": [
      "\n",
      "Photon field Energy Density for X-rays = 1.43205E+13 cm-3\n"
     ]
    }
   ],
   "source": [
    "n_x = U_x * ( epsilon_0**(-2) * (20*keV - 1*keV) + ( -(200*keV)**(-1) + (20*keV)**(-1) ) )\n",
    "\n",
    "print(f'\\nPhoton field Energy Density for X-rays = {n_x:.5E} cm-3')"
   ]
  },
  {
   "cell_type": "code",
   "execution_count": null,
   "id": "d6a0faa6-cc54-40b4-90ac-8d970b8c7994",
   "metadata": {},
   "outputs": [],
   "source": []
  },
  {
   "cell_type": "code",
   "execution_count": 17,
   "id": "59426048-e456-40d7-94eb-6006b67da52d",
   "metadata": {},
   "outputs": [],
   "source": [
    "def time_acc_fermi(E):\n",
    "    '''Eq.(2.37) of Medina-Torrejon Thesis'''\n",
    "    alpha = 0.1\n",
    "    s = 1/alpha\n",
    "    E0 = 10**(4)\n",
    "    t0 = 700\n",
    "    ## hours\n",
    "    return s**(-1) * (E0/E)**(-1/s) * t0\n",
    "    # return (E0/E)**(-1/s) * t0\n",
    "\n",
    "\n",
    "def time_acc_regime3(va, delta_RX):\n",
    "    v_in = 0.05 * va\n",
    "    beta_in = v_in / c\n",
    "    d_ur = 2 * beta_in * ( 3 * beta_in**2 + 3*beta_in + 1 ) / ( 3 * (beta_in + 0.5) * (1 - beta_in**2) )\n",
    "    \n",
    "    return 4 * delta_RX / (c * d_ur)\n",
    "\n",
    "\n",
    "def time_acc_drift(E, B, va):\n",
    "    '''Eq.(7) of Del Valle, de Gouveia Dal Pino & Kowal 2016 e de Gouveia Dal Pino & Kowal 2015'''\n",
    "    v_rec = 0.05 * va\n",
    "    \n",
    "    return E / (qe*B*v_rec)"
   ]
  },
  {
   "cell_type": "code",
   "execution_count": null,
   "id": "8e7e97d2-a1f5-413b-a2d7-c3bac754851a",
   "metadata": {},
   "outputs": [],
   "source": []
  },
  {
   "cell_type": "code",
   "execution_count": null,
   "id": "5188348d-9d45-4277-acaf-6d4850bbe0dd",
   "metadata": {},
   "outputs": [],
   "source": []
  },
  {
   "cell_type": "code",
   "execution_count": null,
   "id": "f3adc942-b2ed-4a02-84a8-9660eb036f61",
   "metadata": {},
   "outputs": [],
   "source": []
  },
  {
   "cell_type": "markdown",
   "id": "b2ef943e-4870-4ad7-b585-4192a691b525",
   "metadata": {},
   "source": [
    "Hadrons"
   ]
  },
  {
   "cell_type": "code",
   "execution_count": 19,
   "id": "0e61f4fb-a68b-406b-bca7-09fa59c13f75",
   "metadata": {},
   "outputs": [
    {
     "data": {
      "image/png": "[encoded data removed]",
      "text/plain": [
       "<Figure size 1000x600 with 1 Axes>"
      ]
     },
     "metadata": {},
     "output_type": "display_data"
    }
   ],
   "source": [
    "## erg\n",
    "\n",
    "plt.figure(figsize=(10, 6))\n",
    "\n",
    "plt.loglog(Ep_norm,[time_acc_regime3(va, delta_RX)]*len(Ep_norm),'--',label='Acceleration (Regime 3)',color='blue')\n",
    "plt.loglog(Ep_norm,time_acc_drift(Ep_norm, B_c, va),label='Acceleration (Drift)',color='green')\n",
    "\n",
    "plt.xlim((1e0,Ep_norm.max()))\n",
    "plt.legend(frameon=False)\n",
    "plt.xlabel('E / $m_p$ $c^2$')\n",
    "plt.ylabel('t [s]')\n",
    "# plt.ylim((1e-4,1e4))\n",
    "# plt.xticks([1e-2,1e-1,1e0,1e1,1e2,1e3],labels=['-2','-1','0','1','2','3'])\n",
    "# plt.savefig('plots/cooling_hadrons_erg.png',dpi=300)\n",
    "\n",
    "plt.show()"
   ]
  },
  {
   "cell_type": "code",
   "execution_count": null,
   "id": "73c774a3-1c29-46ba-a750-a203707cc7d3",
   "metadata": {},
   "outputs": [],
   "source": []
  },
  {
   "cell_type": "code",
   "execution_count": null,
   "id": "0e1466bd-de23-41aa-9316-9fa497b28be7",
   "metadata": {},
   "outputs": [],
   "source": []
  },
  {
   "cell_type": "code",
   "execution_count": null,
   "id": "64d1ca08-e56d-4dcc-b25d-ac46514a5f4b",
   "metadata": {},
   "outputs": [],
   "source": []
  },
  {
   "cell_type": "code",
   "execution_count": 20,
   "id": "bf9ba815-bbda-4dd2-9038-9e3c91646437",
   "metadata": {},
   "outputs": [
    {
     "name": "stdout",
     "output_type": "stream",
     "text": [
      "Filename: ./partic_dedEdt_en.fits\n",
      "No.    Name      Ver    Type      Cards   Dimensions   Format\n",
      "  0  PRIMARY       1 PrimaryHDU       7   (3, 61)   float64   \n",
      "HDU 0:\n",
      "SIMPLE  =                    T / conforms to FITS standard                      \n",
      "BITPIX  =                  -64 / array data type                                \n",
      "NAXIS   =                    2 / number of array dimensions                     \n",
      "NAXIS1  =                    3                                                  \n",
      "NAXIS2  =                   61                                                  \n",
      "EXTEND  =                    T                                                  \n",
      "VAR     = 'Acceleration time'                                                   \n",
      "Data shape: (61, 3)\n"
     ]
    }
   ],
   "source": [
    "from astropy.io import fits\n",
    "\n",
    "# Function to inspect the FITS file structure\n",
    "def inspect_fits(file_path):\n",
    "    with fits.open(file_path) as hdul:\n",
    "        hdul.info()  # Print the structure of the FITS file\n",
    "        for i, hdu in enumerate(hdul):\n",
    "            print(f\"HDU {i}:\")\n",
    "            print(repr(hdu.header))\n",
    "            if hdu.data is not None:\n",
    "                print(f\"Data shape: {hdu.data.shape}\")\n",
    "\n",
    "# Inspect the FITS file structure\n",
    "inspect_fits('./partic_dedEdt_en.fits')"
   ]
  },
  {
   "cell_type": "code",
   "execution_count": 21,
   "id": "f07ca759-2a77-44f4-bb8d-773d4516ee9a",
   "metadata": {},
   "outputs": [],
   "source": [
    "from astropy.io import fits\n",
    "\n",
    "# Function to read the .fits file and extract the columns\n",
    "def readfits(file_path):\n",
    "    with fits.open(file_path) as hdul:\n",
    "        # Assuming the data is in the primary HDU\n",
    "        data = hdul[0].data\n",
    "    return data\n",
    "\n",
    "# Read the .fits file\n",
    "array = readfits('./partic_dedEdt_en.fits')  ## L / c\n",
    "\n",
    "# Extract columns\n",
    "tacc = array[:, 0]  # (Tempo de aceleração)\n",
    "Eacc = array[:, 1]  # (Energy kinetica)\n",
    "sdcc = array[:, 2]  # (desvio padrão, a observar)"
   ]
  },
  {
   "cell_type": "code",
   "execution_count": 22,
   "id": "028a4486-1677-4ec0-9355-318ac8933289",
   "metadata": {},
   "outputs": [
    {
     "name": "stdout",
     "output_type": "stream",
     "text": [
      "Tempo de aceleração: [1.57278126e+00 1.92081680e-01 9.68101471e-02 4.18405958e-02\n",
      " 4.82631035e-02 2.59210448e-02 1.94902241e-02 2.54867376e-02\n",
      " 2.65059726e-02 2.97549446e-02 2.78677815e-02 2.70323307e-02\n",
      " 2.79001615e-02 6.57658516e-02 6.28513684e-01 1.47837034e+01\n",
      " 2.57641970e+01 2.55035892e+01 2.60871002e+01 2.63455966e+01\n",
      " 2.67689573e+01 2.81118550e+01 2.77992187e+01 2.81347284e+01\n",
      " 2.77512141e+01 2.86145022e+01 2.85908210e+01 2.79243764e+01\n",
      " 2.81275122e+01 2.85865717e+01 2.66752760e+01 2.82209250e+01\n",
      " 2.85702788e+01 2.62930503e+01 2.36876866e+01 2.33409821e+01\n",
      " 2.45956898e+01 2.36685740e+01 3.47742241e+01 3.57462685e+01\n",
      " 4.09534186e+01 4.44254226e+01 4.90378872e+01 5.69581519e+01\n",
      " 6.27164750e+01 6.39989871e+01 6.40983391e+01 7.07441466e+01\n",
      " 8.86264866e+01 1.32328258e+02 2.17832218e+02 3.71287576e+02\n",
      " 6.68928932e+02 1.27787461e+03 2.12529010e+03 2.80027186e+03\n",
      " 3.44086702e+03 4.06101073e+03 5.14116889e+03 6.84604138e+03\n",
      " 8.58663734e+03]\n",
      "Energy kinetica: [4.60694701e-03 8.74051328e-03 9.70412582e-03 1.26645344e-02\n",
      " 1.41073474e-02 1.86785238e-02 2.61666960e-02 3.76082004e-02\n",
      " 5.64110477e-02 8.46191139e-02 1.26239614e-01 1.85747801e-01\n",
      " 2.75639258e-01 4.26114760e-01 6.56276518e-01 9.98481752e-01\n",
      " 1.51053242e+00 2.29317333e+00 3.49367072e+00 5.33739947e+00\n",
      " 8.11773262e+00 1.23024475e+01 1.86409148e+01 2.83887417e+01\n",
      " 4.29299002e+01 6.53621683e+01 9.90358175e+01 1.50690098e+02\n",
      " 2.27828742e+02 3.46496279e+02 5.27326154e+02 8.00891096e+02\n",
      " 1.20909767e+03 1.84338432e+03 2.80829457e+03 4.36806602e+03\n",
      " 6.70217541e+03 9.97247309e+03 1.53824712e+04 2.30305536e+04\n",
      " 3.50368950e+04 5.36866364e+04 8.15774426e+04 1.23270545e+05\n",
      " 1.83898615e+05 2.85237264e+05 4.32814589e+05 6.50963001e+05\n",
      " 9.92529503e+05 1.51637151e+06 2.30128249e+06 3.52097181e+06\n",
      " 5.32741377e+06 8.16635648e+06 1.21573424e+07 1.86429356e+07\n",
      " 2.78062195e+07 4.33748662e+07 6.58035246e+07 9.51458254e+07\n",
      " 1.26948229e+08]\n",
      "Desvio padrão: [1.54100308e+01 1.07512302e+00 5.52730258e-01 2.14010859e-01\n",
      " 2.67537671e-01 1.25961629e-01 8.11325032e-02 1.15891000e-01\n",
      " 1.13948280e-01 1.23951155e-01 1.05585623e-01 1.03073461e-01\n",
      " 1.21811394e-01 4.93324496e-01 1.29127452e+01 1.30744021e+02\n",
      " 5.95075501e+01 5.89128248e+01 5.91245037e+01 5.85782198e+01\n",
      " 6.08219817e+01 6.27588095e+01 6.10572994e+01 6.13166002e+01\n",
      " 6.15848963e+01 6.25991463e+01 6.30053824e+01 6.07185913e+01\n",
      " 6.13940511e+01 6.23850155e+01 5.69242523e+01 6.14394522e+01\n",
      " 6.31737646e+01 5.53390402e+01 4.76810953e+01 4.74516128e+01\n",
      " 4.98037168e+01 4.65326007e+01 6.96531607e+01 6.79959283e+01\n",
      " 7.61450508e+01 7.77917898e+01 8.38636789e+01 9.65524741e+01\n",
      " 1.02593373e+02 1.00004934e+02 9.33714874e+01 9.68031534e+01\n",
      " 1.15920938e+02 1.66675037e+02 2.70737941e+02 4.53091333e+02\n",
      " 8.07514081e+02 1.51245807e+03 2.49853192e+03 2.84364527e+03\n",
      " 2.99960374e+03 2.60990307e+03 2.30814665e+03 2.35718683e+03\n",
      " 2.81508736e+03]\n"
     ]
    }
   ],
   "source": [
    "# Print the extracted columns\n",
    "print(\"Tempo de aceleração:\", tacc)\n",
    "print(\"Energy kinetica:\", Eacc)\n",
    "print(\"Desvio padrão:\", sdcc)"
   ]
  },
  {
   "cell_type": "code",
   "execution_count": 23,
   "id": "cc66b983-9db9-4780-b44a-2cfe41a58606",
   "metadata": {},
   "outputs": [],
   "source": [
    "# tacc"
   ]
  },
  {
   "cell_type": "code",
   "execution_count": 24,
   "id": "84342114-ba5f-4d10-bcb3-6e8043357f04",
   "metadata": {},
   "outputs": [],
   "source": [
    "# Eacc"
   ]
  },
  {
   "cell_type": "code",
   "execution_count": 25,
   "id": "8c785066-b835-499d-9a19-ffeac0d557df",
   "metadata": {},
   "outputs": [
    {
     "data": {
      "image/png": "[encoded data removed]",
      "text/plain": [
       "<Figure size 1000x600 with 1 Axes>"
      ]
     },
     "metadata": {},
     "output_type": "display_data"
    }
   ],
   "source": [
    "## Tanis\n",
    "\n",
    "plt.figure(figsize=(10, 6))\n",
    "\n",
    "plt.loglog(Eacc,tacc,label='Acceleration (Tania)',color='magenta')\n",
    "\n",
    "\n",
    "# plt.xlim((1e0,E_norm.max()))\n",
    "plt.legend(frameon=False)\n",
    "plt.xlabel('E / $m_p$ $c^2$')\n",
    "plt.ylabel('t [s]')\n",
    "\n",
    "# plt.savefig('plots/cooling_hadrons_erg.png',dpi=300)\n",
    "\n",
    "plt.show()"
   ]
  },
  {
   "cell_type": "code",
   "execution_count": null,
   "id": "7ea745e3-cc21-4d63-8453-d74b63044deb",
   "metadata": {},
   "outputs": [],
   "source": []
  },
  {
   "cell_type": "code",
   "execution_count": null,
   "id": "d9a74f65-36bf-4ff6-a6b7-cf105f2687ce",
   "metadata": {},
   "outputs": [],
   "source": []
  },
  {
   "cell_type": "code",
   "execution_count": 27,
   "id": "b71e6f75-97ae-4928-9708-d07ce0dddaac",
   "metadata": {},
   "outputs": [
    {
     "data": {
      "image/png": "[encoded data removed]",
      "text/plain": [
       "<Figure size 1000x600 with 1 Axes>"
      ]
     },
     "metadata": {},
     "output_type": "display_data"
    }
   ],
   "source": [
    "## erg\n",
    "\n",
    "plt.figure(figsize=(10, 6))\n",
    "\n",
    "plt.loglog(Ep_norm,[time_acc_regime3(va, delta_RX)]*len(Ep_norm),'--',label='Acceleration (Regime 3)',color='blue')\n",
    "plt.loglog(Ep_norm,time_acc_drift(Ep_norm, B_c, va),label='Acceleration (Drift)',color='green')\n",
    "plt.loglog(Eacc,tacc*(1e11/c),label='Acceleration (Tania)',color='magenta')\n",
    "\n",
    "plt.xlim((1e0,Ep_norm.max()))\n",
    "plt.legend(frameon=False)\n",
    "plt.xlabel('E / $m_p$ $c^2$')\n",
    "plt.ylabel('t [s]')\n",
    "\n",
    "# plt.ylim((1e-4,1e4))\n",
    "# plt.xticks([1e-2,1e-1,1e0,1e1,1e2,1e3],labels=['-2','-1','0','1','2','3'])\n",
    "# plt.savefig('plots/cooling_hadrons_erg.png',dpi=300)\n",
    "\n",
    "plt.show()"
   ]
  },
  {
   "cell_type": "code",
   "execution_count": null,
   "id": "9103df75-4546-4b66-9b6e-c089a4763f18",
   "metadata": {},
   "outputs": [],
   "source": []
  },
  {
   "cell_type": "code",
   "execution_count": null,
   "id": "cbcf9df0-c969-4a0d-96f5-f2dfe736e120",
   "metadata": {},
   "outputs": [],
   "source": []
  },
  {
   "cell_type": "markdown",
   "id": "4302724c-d9de-4902-afa0-506a0b7ac0e3",
   "metadata": {},
   "source": [
    "We want to estimate the maximum energy that we can accelerate our particles,\n",
    "\n",
    "$$ E^{2} = (pc)^{2} + (m_{p} c^{2})^{2}, $$\n",
    "\n",
    "given that the particle is able to escape our acceleration region when $R_{Larmor} = \\Delta_{R_X}$.\n",
    "\n",
    "$$ R_{Larmor} = \\frac{p_{\\perp}}{|q| B} = \\frac{\\gamma m v_{\\perp}}{|q| B} $$\n",
    "\n",
    "when\n",
    "\n",
    "$$ \\Delta_{R_X} = R_{Larmor} = \\frac{p_{\\perp}}{|q| B} $$\n",
    "\n",
    "$$ \\Rightarrow p_{\\perp} = \\Delta_{R_X} |q| B $$\n",
    "\n",
    "$$ E = \\sqrt{ (\\Delta_{R_X} |q| B c)^{2} + (m_{p} c^{2})^{2} } $$"
   ]
  },
  {
   "cell_type": "code",
   "execution_count": 28,
   "id": "abf47b11-c7ce-408c-9442-5a2451ca5956",
   "metadata": {},
   "outputs": [],
   "source": [
    "p = delta_RX * (-qe) * B_c\n",
    "E_max = np.sqrt( (pc)**2 + (mpc2)**2 )"
   ]
  },
  {
   "cell_type": "code",
   "execution_count": 29,
   "id": "813665ad-bdc9-499e-92ff-e127c54dfa84",
   "metadata": {},
   "outputs": [
    {
     "data": {
      "text/plain": [
       "3.086e+18"
      ]
     },
     "execution_count": 29,
     "metadata": {},
     "output_type": "execute_result"
    }
   ],
   "source": [
    "E_max # [erg]"
   ]
  },
  {
   "cell_type": "code",
   "execution_count": 32,
   "id": "04d2d634-42a4-4265-8c3c-ce2f4cad7156",
   "metadata": {},
   "outputs": [
    {
     "data": {
      "text/plain": [
       "1.926129019936122e+30"
      ]
     },
     "execution_count": 32,
     "metadata": {},
     "output_type": "execute_result"
    }
   ],
   "source": [
    "E_max/eV"
   ]
  },
  {
   "cell_type": "code",
   "execution_count": null,
   "id": "bd479c79-81b6-491d-8122-84e471ce1d46",
   "metadata": {},
   "outputs": [],
   "source": []
  },
  {
   "cell_type": "code",
   "execution_count": null,
   "id": "0de0a78f-0145-471d-9e69-b72fbf51ad5d",
   "metadata": {},
   "outputs": [],
   "source": []
  },
  {
   "cell_type": "code",
   "execution_count": null,
   "id": "206c4d34-97b1-4a87-b634-9034127a4d46",
   "metadata": {},
   "outputs": [],
   "source": []
  },
  {
   "cell_type": "code",
   "execution_count": null,
   "id": "dedf732a-37a4-4934-a5b8-0715c827b06a",
   "metadata": {},
   "outputs": [],
   "source": []
  },
  {
   "cell_type": "code",
   "execution_count": null,
   "id": "ca5acdc8-a445-4805-8415-221e7984121f",
   "metadata": {},
   "outputs": [],
   "source": []
  }
 ],
 "metadata": {
  "kernelspec": {
   "display_name": "Python 3 (ipykernel)",
   "language": "python",
   "name": "python3"
  },
  "language_info": {
   "codemirror_mode": {
    "name": "ipython",
    "version": 3
   },
   "file_extension": ".py",
   "mimetype": "text/x-python",
   "name": "python",
   "nbconvert_exporter": "python",
   "pygments_lexer": "ipython3",
   "version": "3.9.7"
  }
 },
 "nbformat": 4,
 "nbformat_minor": 5
}
