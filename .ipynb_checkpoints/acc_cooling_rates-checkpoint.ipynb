{
 "cells": [
  {
   "cell_type": "code",
   "execution_count": 1,
   "metadata": {
    "id": "9yx0O2aG5COo"
   },
   "outputs": [],
   "source": [
    "from astro_constants import *\n",
    "from source_parameters import *\n",
    "from rates import *"
   ]
  },
  {
   "cell_type": "code",
   "execution_count": 2,
   "metadata": {},
   "outputs": [],
   "source": [
    "import numpy as np\n",
    "import pandas as pd\n",
    "import seaborn as sns\n",
    "import matplotlib.pyplot as plt\n",
    "from scipy.integrate import quad\n",
    "from astropy import units as u\n",
    "from astropy import constants as const\n",
    "from scipy.stats import chisquare\n",
    "from scipy.optimize import curve_fit"
   ]
  },
  {
   "cell_type": "code",
   "execution_count": 3,
   "metadata": {},
   "outputs": [
    {
     "name": "stdout",
     "output_type": "stream",
     "text": [
      "\n",
      "Coronal Magnetic Field:\n",
      " B_c = 1.0478E+04 G\n",
      "\n",
      "Coronal Particle Number Density:\n",
      " n_c = 3.4392E+10 cm-3\n",
      "\n",
      "Coronal Temperature:\n",
      " T_c = 2.5282E+09 K\n",
      "\n",
      "Width of the current sheet:\n",
      " delta_RX = 1.6649E+11 cm\n",
      "\n",
      "Reconnection Power:\n",
      " wdot_B = 5.9912E+42 erg s-1\n"
     ]
    }
   ],
   "source": [
    "## Initialize the class\n",
    "coronal_data = Coronal_Description(r_x, l, l_x, mdot, m)\n",
    "\n",
    "## Calculate parameters for emission region\n",
    "B_c = coronal_data.coronal_mag_field()\n",
    "n_c = coronal_data.coronal_density()\n",
    "T_c = coronal_data.coronal_temperature()\n",
    "delta_RX = coronal_data.width_current_sheet()\n",
    "wdot_B = coronal_data.mag_rec_power()\n",
    "\n",
    "print(f'\\nCoronal Magnetic Field:\\n B_c = {B_c:.4E} G')\n",
    "print(f'\\nCoronal Particle Number Density:\\n n_c = {n_c:.4E} cm-3')\n",
    "print(f'\\nCoronal Temperature:\\n T_c = {T_c:.4E} K')\n",
    "print(f'\\nWidth of the current sheet:\\n delta_RX = {delta_RX:.4E} cm')\n",
    "print(f'\\nReconnection Power:\\n wdot_B = {wdot_B:.4E} erg s-1')"
   ]
  },
  {
   "cell_type": "code",
   "execution_count": null,
   "metadata": {
    "id": "BuQx8D2R69Si"
   },
   "outputs": [],
   "source": []
  },
  {
   "cell_type": "code",
   "execution_count": 4,
   "metadata": {},
   "outputs": [],
   "source": [
    "# # Energy range for protons and electrons [erg]\n",
    "\n",
    "# Ep = np.linspace(1e6, 1e20) * eV  # (1e2, 1e20)\n",
    "# Ee = np.linspace(1e2, 1e20) * eV  # (1e2, 1e15)\n",
    "\n",
    "# Ep_drift = np.linspace(5.23e+17, 1e20) * eV\n",
    "# Ee_drift = np.linspace(2.85e+14, 1e20) * eV"
   ]
  },
  {
   "cell_type": "code",
   "execution_count": 5,
   "metadata": {},
   "outputs": [],
   "source": [
    "Ep = np.logspace(2, 20, num=100) * eV  # [2,20]\n",
    "Ee = np.logspace(2, 20, num=100) * eV  # [2,15]\n",
    "\n",
    "Ep_drift = np.logspace(17.72, 20) * eV  # 5.23e+17 = 10^17.72\n",
    "Ee_drift = np.logspace(14.46, 20) * eV  # 2.85e+14 = 10^14.46"
   ]
  },
  {
   "cell_type": "code",
   "execution_count": 6,
   "metadata": {},
   "outputs": [
    {
     "data": {
      "text/plain": [
       "5.752425625949121e-14"
      ]
     },
     "execution_count": 6,
     "metadata": {},
     "output_type": "execute_result"
    }
   ],
   "source": [
    "## Fluid density\n",
    "\n",
    "rho = n_c * mp # [g cm-3]\n",
    "rho"
   ]
  },
  {
   "cell_type": "code",
   "execution_count": 7,
   "metadata": {},
   "outputs": [
    {
     "data": {
      "text/plain": [
       "8714609366.979158"
      ]
     },
     "execution_count": 7,
     "metadata": {},
     "output_type": "execute_result"
    }
   ],
   "source": [
    "## Alfvén Speed\n",
    "\n",
    "v_a0 = B_c / np.sqrt(4 * np.pi * rho)\n",
    "\n",
    "va = v_a0 * coronal_data.Gamma\n",
    "va"
   ]
  },
  {
   "cell_type": "code",
   "execution_count": 8,
   "metadata": {},
   "outputs": [
    {
     "data": {
      "text/plain": [
       "0.29069046222286127"
      ]
     },
     "execution_count": 8,
     "metadata": {},
     "output_type": "execute_result"
    }
   ],
   "source": [
    "va/c"
   ]
  },
  {
   "cell_type": "code",
   "execution_count": 9,
   "metadata": {},
   "outputs": [
    {
     "data": {
      "text/plain": [
       "0.4110983941280743"
      ]
     },
     "execution_count": 9,
     "metadata": {},
     "output_type": "execute_result"
    }
   ],
   "source": [
    "v_a0 / c"
   ]
  },
  {
   "cell_type": "code",
   "execution_count": 10,
   "metadata": {},
   "outputs": [
    {
     "data": {
      "text/plain": [
       "29979000000.0"
      ]
     },
     "execution_count": 10,
     "metadata": {},
     "output_type": "execute_result"
    }
   ],
   "source": [
    "c"
   ]
  },
  {
   "cell_type": "code",
   "execution_count": null,
   "metadata": {},
   "outputs": [],
   "source": []
  },
  {
   "cell_type": "code",
   "execution_count": 11,
   "metadata": {
    "id": "kU0djgFW6FrJ"
   },
   "outputs": [
    {
     "data": {
      "text/plain": [
       "1.0657890249309368e-09"
      ]
     },
     "execution_count": 11,
     "metadata": {},
     "output_type": "execute_result"
    }
   ],
   "source": [
    "eV / mpc2"
   ]
  },
  {
   "cell_type": "code",
   "execution_count": null,
   "metadata": {},
   "outputs": [],
   "source": []
  },
  {
   "cell_type": "code",
   "execution_count": 12,
   "metadata": {},
   "outputs": [
    {
     "data": {
      "image/png": "[encoded data removed]",
      "text/plain": [
       "<Figure size 1000x600 with 1 Axes>"
      ]
     },
     "metadata": {},
     "output_type": "display_data"
    }
   ],
   "source": [
    "## hadrons\n",
    "\n",
    "plt.figure(figsize=(10, 6))\n",
    "\n",
    "## acceleration\n",
    "plt.loglog(Ep/eV,[1/time_acc_regime3(va, delta_RX)]*len(Ep),'--',label='Acceleration (Regime 3)',color='red')\n",
    "plt.loglog(Ep_drift/eV,1/timeacc_drift(Ep_drift, B_c, va),label='Acceleration (Drift)',color='green')\n",
    "\n",
    "## losses\n",
    "plt.loglog(Ep/eV,rate_synch_p(B_c, Ep),label='Synchrotron-p',color='blue')\n",
    "plt.loglog(Ep/eV,rate_p_p(n_c, Ep),label='P-P',color='magenta')\n",
    "\n",
    "# plt.loglog(Ep/eV,cooling_rate,label='P-gamma (X)',color='cyan')\n",
    "# plt.loglog(Ep/eV,cooling_rate_OUV,label='P-gamma (OUV)',color='darkblue')\n",
    "# plt.loglog(Ep/eV,cooling_rate_bth_isotropic,label='B-H (X)',color='orange')\n",
    "# plt.loglog(Ep/eV,cooling_rate_bth_ou,label='B-H (OUV)',color='purple')\n",
    "\n",
    "plt.xlim((1e7,1e19))\n",
    "plt.ylim((1e-7,1))\n",
    "\n",
    "plt.xlabel('E [eV]')\n",
    "plt.ylabel('$t^{-1}$ [s$^{-1}$]')\n",
    "plt.title('Hadrons')\n",
    "\n",
    "plt.legend(frameon=False,loc='upper right')\n",
    "# plt.xticks([1e9,1e10,1e11,1e12,1e13,1e14,1e15],labels=['9','10','11','12','13','14','15'])\n",
    "plt.savefig('plots/cooling_hadrons_eV.png',dpi=300)\n",
    "\n",
    "plt.show()"
   ]
  },
  {
   "cell_type": "code",
   "execution_count": 13,
   "metadata": {},
   "outputs": [
    {
     "data": {
      "image/png": "[encoded data removed]",
      "text/plain": [
       "<Figure size 1000x600 with 1 Axes>"
      ]
     },
     "metadata": {},
     "output_type": "display_data"
    }
   ],
   "source": [
    "## leptons\n",
    "\n",
    "plt.figure(figsize=(10, 6))\n",
    "\n",
    "## acceleration\n",
    "plt.loglog(Ee/eV,[(mp/me)*1/time_acc_regime3(va, delta_RX)]*len(Ee),'--',label='Acceleration (Regime 3)',color='red')\n",
    "plt.loglog(Ee_drift/eV,1/timeacc_drift(Ee_drift, B_c, va),label='Acceleration (Drift)',color='green')\n",
    "\n",
    "## losses\n",
    "plt.loglog(Ee/eV,rate_synch_e(B_c, Ee),label='Synchrotron-e',color='blue')\n",
    "## implement SSC\n",
    "plt.loglog(Ee/eV,rate_bremss_e(n_c, 1, Ee),label='Bremsstrahlung-e',color='purple')\n",
    "\n",
    "\n",
    "# plt.xlim((1e9,Ep.max()/eV))\n",
    "plt.ylim((1e-11,1e6))\n",
    "\n",
    "plt.xlabel('E [eV]')\n",
    "plt.ylabel('$t^{-1}$ [s$^{-1}$]')\n",
    "plt.title('Leptons')\n",
    "\n",
    "plt.legend(frameon=False,loc='upper right')\n",
    "plt.savefig('plots/cooling_leptons_eV.png',dpi=300)\n",
    "\n",
    "plt.show()"
   ]
  },
  {
   "cell_type": "code",
   "execution_count": null,
   "metadata": {},
   "outputs": [],
   "source": []
  },
  {
   "cell_type": "code",
   "execution_count": null,
   "metadata": {},
   "outputs": [],
   "source": []
  },
  {
   "cell_type": "code",
   "execution_count": 14,
   "metadata": {},
   "outputs": [],
   "source": [
    "# rate_pg_cool(Ep, eps, nph):\n",
    "#     '''\n",
    "#     This function returns the coooling rate [s^[-1]] of protons of energy \n",
    "#     Ep, due to the photo-pion process.\n",
    "#     The calculation is done folowing the formulation of\n",
    "#     Atoyan A. M., Dermer C. D., 2003, ApJ, 586, 79\n",
    "#     Arguments:\n",
    "#     Ep  : [erg] energy of protons  (vector).\n",
    "#     eps : [erg] energy of the target photons (vector).\n",
    "#     nph : [cm^{-3} erg^{-1}] number density of photons at the energy eps (vector).\n",
    "\n",
    "#     '''"
   ]
  },
  {
   "cell_type": "code",
   "execution_count": null,
   "metadata": {},
   "outputs": [],
   "source": []
  },
  {
   "cell_type": "code",
   "execution_count": 15,
   "metadata": {},
   "outputs": [],
   "source": [
    "eps_min = 1050 * 12398 * eV # [erg] 1 angstrom = 12398 eV\n",
    "eps_max = 2500 * 12398 * eV # [erg] \n",
    "    \n",
    "eps_OUV = np.logspace(np.log10(eps_min), np.log10(eps_max), num=100)\n",
    "\n",
    "def n_OUV(eps):\n",
    "    \"\"\"Isotropic OUV photon field density.\"\"\"\n",
    "    r_OUV = 100 * R_s  # OUV radius [cm]\n",
    "\n",
    "    ## Energy density\n",
    "    L_2keV = 7e43  # Luminosity at 2 keV [erg/s] (Lx)\n",
    "    log_L_2500A = (1 / 0.760) * (np.log10(L_2keV) - 3.508)\n",
    "    L_2500A = 10**log_L_2500A  # Luminosity at 2500 Angstroms [erg/s]\n",
    "    U_OUV = L_2500A / (4 * np.pi * c * r_OUV**2)  # Energy density [erg/cm^3]\n",
    "\n",
    "    dnOUVde = np.zeros_like(eps)  # Initialize the array to store the results\n",
    "    \n",
    "    dnOUVde = U_OUV * eps**(-1)\n",
    "\n",
    "    return dnOUVde"
   ]
  },
  {
   "cell_type": "code",
   "execution_count": null,
   "metadata": {},
   "outputs": [],
   "source": []
  },
  {
   "cell_type": "code",
   "execution_count": null,
   "metadata": {},
   "outputs": [],
   "source": []
  },
  {
   "cell_type": "code",
   "execution_count": null,
   "metadata": {
    "id": "zZr8iBvf6ipr"
   },
   "outputs": [],
   "source": []
  },
  {
   "cell_type": "markdown",
   "metadata": {},
   "source": [
    "Trying to integrate photon density"
   ]
  },
  {
   "cell_type": "code",
   "execution_count": 16,
   "metadata": {},
   "outputs": [],
   "source": [
    "r_c = 10 * R_s  # [cm] coronal size\n",
    "L_x = 7 * 10**43 # [erg s-1]\n",
    "epsilon_0 = 7 * keV # [erg] 7 keV = 7e3 * erg to eV compton hump energy\n",
    "\n",
    "U_x = L_x / (4 * np.pi * c * r_c**2)"
   ]
  },
  {
   "cell_type": "code",
   "execution_count": 17,
   "metadata": {},
   "outputs": [],
   "source": [
    "n_x = U_x * ( epsilon_0**(-2) * (20*keV - 1*keV) + ( -(200*keV)**(-1) + (20*keV)**(-1) ) )"
   ]
  },
  {
   "cell_type": "code",
   "execution_count": 18,
   "metadata": {},
   "outputs": [
    {
     "name": "stdout",
     "output_type": "stream",
     "text": [
      "\n",
      "Photon field Energy Density for X-rays = 1.43205E+13 cm-3\n"
     ]
    }
   ],
   "source": [
    "print(f'\\nPhoton field Energy Density for X-rays = {n_x:.5E} cm-3')"
   ]
  },
  {
   "cell_type": "code",
   "execution_count": null,
   "metadata": {
    "id": "NHsqP87mBLJs"
   },
   "outputs": [],
   "source": []
  },
  {
   "cell_type": "code",
   "execution_count": null,
   "metadata": {},
   "outputs": [],
   "source": []
  },
  {
   "cell_type": "code",
   "execution_count": 19,
   "metadata": {},
   "outputs": [],
   "source": [
    "eps_x = np.logspace(np.log10(2 * keV), np.log10(200 * keV), num=100)  # [eV to MeV]"
   ]
  },
  {
   "cell_type": "code",
   "execution_count": 20,
   "metadata": {},
   "outputs": [],
   "source": [
    "def n_ph(eps):\n",
    "    \"\"\"Isotropic photon field density.\n",
    "    Eq. (4) from Mbarek et al. 2023.\"\"\"\n",
    "    r_c = 10 * R_s  # [cm] coronal size\n",
    "    L_x = 7 * 10**43  # [erg s^-1]\n",
    "    epsilon_0 = 7 * keV  # [erg] (compton hump energy)\n",
    "    \n",
    "    U_x = L_x / (4 * np.pi * c * r_c**2)  # [erg cm^-3]\n",
    "    \n",
    "    dnxde = np.zeros_like(eps)  # Initialize the array to store the results\n",
    "    \n",
    "    for i in range(len(eps)):\n",
    "        if eps[i] < (20 * keV):\n",
    "            dnxde[i] = U_x * epsilon_0**(-2)\n",
    "        elif (20 * keV) <= eps[i] <= (200 * keV):\n",
    "            dnxde[i] = U_x * eps[i]**(-2)\n",
    "        else:\n",
    "            0.\n",
    "    \n",
    "    return dnxde"
   ]
  },
  {
   "cell_type": "code",
   "execution_count": 21,
   "metadata": {},
   "outputs": [],
   "source": [
    "nph_x = n_ph(eps_x)  # [cm^{-3} erg^{-1}]\n",
    "nph_OUV = n_OUV(eps_OUV) # [cm^{-3} erg^{-1}]"
   ]
  },
  {
   "cell_type": "code",
   "execution_count": null,
   "metadata": {},
   "outputs": [],
   "source": []
  },
  {
   "cell_type": "code",
   "execution_count": 33,
   "metadata": {},
   "outputs": [
    {
     "data": {
      "image/png": "[encoded data removed]",
      "text/plain": [
       "<Figure size 1000x600 with 1 Axes>"
      ]
     },
     "metadata": {},
     "output_type": "display_data"
    }
   ],
   "source": [
    "## hadrons\n",
    "\n",
    "plt.figure(figsize=(10, 6))\n",
    "\n",
    "## acceleration\n",
    "plt.loglog(Ep/eV,[1/time_acc_regime3(va, delta_RX)]*len(Ep),'--',label='Acceleration (Regime 3)',color='red')\n",
    "plt.loglog(Ep_drift/eV,1/timeacc_drift(Ep_drift, B_c, va),label='Acceleration (Drift)',color='green')\n",
    "\n",
    "## losses\n",
    "plt.loglog(Ep/eV,rate_synch_p(B_c, Ep),label='Synchrotron-p',color='blue')\n",
    "plt.loglog(Ep/eV,rate_p_p(n_c, Ep),label='P-P',color='magenta')\n",
    "\n",
    "plt.loglog(Ep/eV,rate_p_gamma(Ep, eps_x, nph_x),label='P-gamma (X)',color='orange')\n",
    "plt.loglog(Ep/eV,rate_p_gamma(Ep, eps_OUV, nph_OUV),label='P-gamma (OUV)',color='cyan')\n",
    "# plt.loglog(Ep/eV,rate_pg_cool(Ep, eps_x, nph_x),label='P-gamma (X)', color='red')\n",
    "# plt.loglog(Ep/eV,rate_pg_cool(Ep, eps_OUV, nph_OUV),label='P-gamma (OUV)',color='blue')\n",
    "rate_pg_cool\n",
    "\n",
    "# plt.loglog(Ep/eV,cooling_rate_bth_isotropic,label='B-H (X)',color='orange')\n",
    "# plt.loglog(Ep/eV,cooling_rate_bth_ou,label='B-H (OUV)',color='purple')\n",
    "\n",
    "plt.xlim((1e7,1e20))\n",
    "plt.ylim((1e-14,2))\n",
    "\n",
    "plt.xlabel('E [eV]')\n",
    "plt.ylabel('$t^{-1}$ [s$^{-1}$]')\n",
    "plt.title('Hadrons')\n",
    "\n",
    "plt.legend(frameon=False,loc='lower right')\n",
    "# plt.xticks([1e9,1e10,1e11,1e12,1e13,1e14,1e15],labels=['9','10','11','12','13','14','15'])\n",
    "plt.savefig('plots/cooling_hadrons_eV.png',dpi=300)\n",
    "\n",
    "plt.show()"
   ]
  },
  {
   "cell_type": "code",
   "execution_count": 23,
   "metadata": {},
   "outputs": [
    {
     "data": {
      "text/plain": [
       "0.028123544459035435"
      ]
     },
     "execution_count": 23,
     "metadata": {},
     "output_type": "execute_result"
    }
   ],
   "source": [
    "delta_RX / R_s"
   ]
  },
  {
   "cell_type": "code",
   "execution_count": null,
   "metadata": {},
   "outputs": [],
   "source": []
  },
  {
   "cell_type": "code",
   "execution_count": null,
   "metadata": {},
   "outputs": [],
   "source": []
  },
  {
   "cell_type": "code",
   "execution_count": 24,
   "metadata": {},
   "outputs": [],
   "source": [
    "# ## X-rays\n",
    "# def n_ph(eps):\n",
    "#     \"\"\"Isotropic photon field density.\n",
    "#     Eq. (4) from Mbarek et al. 2023.\"\"\"\n",
    "#     r_c = 10 * R_s  # [cm] coronal size\n",
    "#     L_x = 7 * 10**43  # [erg s^-1]\n",
    "#     epsilon_0 = 7*keV  # [erg] (compton hump energy)\n",
    "    \n",
    "#     U_x = L_x / (4 * np.pi * c * r_c**2)  # [erg cm^-3]\n",
    "#     # n_x = U_x * ( epsilon_0**(-2) * (20*keV - 1*keV) + ( -(200*keV)**(-1) + (20*keV)**(-1) ) )\n",
    "#     # print(f'\\nPhoton field Energy Density for X-rays = {n_x:.5E} cm^-3')\n",
    "#     # [cm-3]\n",
    "    \n",
    "#     if eps < (20*keV):\n",
    "#         dnxde = U_x * epsilon_0**(-2)\n",
    "#     elif (20*keV) <= eps <= (200*keV):\n",
    "#         dnxde = U_x * eps**(-2)\n",
    "#     else:\n",
    "#         dnxde = 0.\n",
    "    \n",
    "#     return dnxde\n",
    "\n",
    "\n",
    "\n",
    "\n",
    "# def Uphf(eps,nph):\n",
    "#     deps = np.diff(eps)\n",
    "#     val=0.\n",
    "#     for i in range(len(deps)):\n",
    "#         val = val + nph[i] * eps[i] *deps[i]\n",
    "#     return val\n",
    "\n",
    "\n",
    "\n",
    "\n",
    "# def nph_bb(eps,T): \n",
    "#     '''  erg^-1 cm^-3  '''\n",
    "#     return np.pi / (c*h*eps) * Bnu(eps,T)\n",
    "\n",
    "\n",
    "\n",
    "\n",
    "# def rate_pg(Ep, eps, nph):\n",
    "    \n",
    "#     Eth_pg = 145 * 1e6 * eV\n",
    "#     k1 = 0.2\n",
    "#     s1 = 340 * 1e-6 * barn\n",
    "#     k2 = 0.6\n",
    "#     s2 = 120 * 1e-6 * barn\n",
    "#     C1 = -.5*k1*s1*(200*MeV)**2\n",
    "#     C2 = -.5*k2*s2*(500*MeV)**2 + .5*k1*s1*(500*MeV)**2 - .5*k1*s1*(200*MeV)**2\n",
    "    \n",
    "#     def II(eps,Ep):\n",
    "        \n",
    "#         if( (2*eps*Ep /mpc2) < (200*MeV) ):\n",
    "#             return 0.\n",
    "        \n",
    "#         elif( ( (200*MeV)<=(2*eps*Ep /mpc2) ) & ( (2*eps*Ep /mpc2)<(500*MeV) ) ):\n",
    "#             return k1*s1/2 *(2*eps*Ep/mpc2)**2 + C1\n",
    "        \n",
    "#         elif( (2*eps*Ep/mpc2) > 500*MeV ):\n",
    "#             return k2*s2/2 *(2*eps*Ep/mpc2)**2 + C2\n",
    "    \n",
    "#     SSum = np.zeros(np.size(Ep))\n",
    "#     deps = np.diff(eps)\n",
    "\n",
    "#     for j in range(np.size(Ep)):\n",
    "#         for i in range(np.size(deps)):\n",
    "#             if(eps[i] > (Eth_pg * mpc2 / 2 / Ep[j]) ):\n",
    "#                 SSum[j] = SSum[j] + mp**2 * c**5 / 2 / Ep[j]**2 * deps[i] * nph[i] / eps[i]**2 * II(eps[i], Ep[j])                    \n",
    "#     return  SSum"
   ]
  },
  {
   "cell_type": "code",
   "execution_count": null,
   "metadata": {},
   "outputs": [],
   "source": []
  },
  {
   "cell_type": "code",
   "execution_count": 25,
   "metadata": {},
   "outputs": [
    {
     "name": "stdout",
     "output_type": "stream",
     "text": [
      "[0. 0. 0. 0. 0. 0. 0. 0. 0. 0. 0. 0. 0. 0. 0. 0. 0. 0. 0. 0. 0. 0. 0. 0.\n",
      " 0. 0. 0. 0. 0. 0. 0. 0. 0. 0. 0. 0. 0. 0. 0. 0. 0. 0. 0. 0. 0. 0. 0. 0.\n",
      " 0. 0. 0. 0. 0. 0. 0. 0. 0. 0. 0. 0. 0. 0. 0. 0. 0. 0. 0. 0. 0. 0. 0. 0.\n",
      " 0. 0. 0. 0. 0. 0. 0. 0. 0. 0. 0. 0. 0. 0. 0. 0. 0. 0. 0. 0. 0. 0. 0. 0.\n",
      " 0. 0. 0. 0.]\n"
     ]
    }
   ],
   "source": [
    "eps_th = 0.15 * GeV  # [erg]\n",
    "\n",
    "def rate_pgamma_cool(Ep, eps, nph):\n",
    "    \"\"\"\n",
    "    Cooling rate [s^-1] of protons of energy Ep due to the photo-pion process.\n",
    "    Arguments:\n",
    "    Ep  : [erg] energy of protons (vector).\n",
    "    eps : [erg] energy of the target photons (vector).\n",
    "    nph : [cm-3 erg-1] number density of photons at the energy eps (vector).\n",
    "    \"\"\"\n",
    "    gamma_p = Ep / mpc2  # Lorentz factor of the protons\n",
    "    Ieps = np.zeros_like(gamma_p)  # Array to store the integral results for each proton energy\n",
    "\n",
    "    sigma1 = 340 * 1e-6 * barn  # [microbarn in cm^2]\n",
    "    K1 = 0.2\n",
    "    sigma2 = 120 * 1e-6 * barn  # [microbarn in cm^2]\n",
    "    K2 = 0.6\n",
    "\n",
    "    def fI(eps, gamma_p):\n",
    "        x = 2 * eps * gamma_p  # Higher limit of the inside integral\n",
    "        def I1(x):\n",
    "            return sigma1 * K1 * 0.5 * x**2\n",
    "        def I2(x):\n",
    "            return sigma2 * K2 * 0.5 * x**2\n",
    "\n",
    "        if x < 200 * MeV:\n",
    "            return 0.\n",
    "        elif 200 * MeV <= x < 500 * MeV:\n",
    "            return I1(x) - I1(200 * MeV)\n",
    "        else:  # x >= 500 * MeV\n",
    "            return I1(500 * MeV) - I1(200 * MeV) + I2(x) - I2(500 * MeV)\n",
    "    \n",
    "    for i in range(len(gamma_p)):\n",
    "        eps_inf = eps_th / (2 * gamma_p[i])  # Lower limit of outer integral\n",
    "\n",
    "        if eps[0] <= eps_inf < eps[-1]:\n",
    "            # Start index ensuring it starts from the next higher bin\n",
    "            j0 = np.searchsorted(eps, eps_inf)\n",
    "            \n",
    "            for j in range(j0, len(eps) - 1):\n",
    "                Ieps[i] += (eps[j+1] - eps[j]) * nph[j] / (eps[j]**2) * fI(eps[j], gamma_p[i])\n",
    "    \n",
    "    return c / (2 * gamma_p**2) * Ieps\n",
    "\n",
    "eps = np.linspace(1, 1e15) * keV  # Photon energy range [erg]\n",
    "# Ep = np.linspace(1e9, 1e15) * eV  # Energy range [erg]\n",
    "nph = n_ph(eps)  # Photon field density\n",
    "\n",
    "cooling_rate = rate_pgamma_cool(Ep, eps, nph)\n",
    "print(cooling_rate)\n"
   ]
  },
  {
   "cell_type": "code",
   "execution_count": null,
   "metadata": {},
   "outputs": [],
   "source": []
  },
  {
   "cell_type": "code",
   "execution_count": null,
   "metadata": {},
   "outputs": [],
   "source": []
  },
  {
   "cell_type": "code",
   "execution_count": null,
   "metadata": {},
   "outputs": [],
   "source": []
  },
  {
   "cell_type": "code",
   "execution_count": null,
   "metadata": {},
   "outputs": [],
   "source": []
  },
  {
   "cell_type": "code",
   "execution_count": null,
   "metadata": {},
   "outputs": [],
   "source": []
  },
  {
   "cell_type": "code",
   "execution_count": null,
   "metadata": {},
   "outputs": [],
   "source": []
  },
  {
   "cell_type": "code",
   "execution_count": null,
   "metadata": {},
   "outputs": [],
   "source": []
  },
  {
   "cell_type": "code",
   "execution_count": 26,
   "metadata": {},
   "outputs": [
    {
     "data": {
      "text/plain": [
       "30995000"
      ]
     },
     "execution_count": 26,
     "metadata": {},
     "output_type": "execute_result"
    }
   ],
   "source": [
    "2500 * 12398"
   ]
  },
  {
   "cell_type": "code",
   "execution_count": null,
   "metadata": {},
   "outputs": [],
   "source": []
  },
  {
   "cell_type": "code",
   "execution_count": 27,
   "metadata": {},
   "outputs": [
    {
     "name": "stdout",
     "output_type": "stream",
     "text": [
      "[1.10443369e+09 4.78082981e+08 2.06950710e+08 8.95840219e+07\n",
      " 3.87787845e+07 1.67864101e+07 7.26643621e+06 3.14546677e+06\n",
      " 1.36159748e+06 5.89403044e+05 2.55138508e+05 1.10443369e+05\n",
      " 4.78082981e+04 2.06950709e+04 8.95840217e+03 3.87787843e+03\n",
      " 1.67864099e+03 7.26643604e+02 3.14546661e+02 1.36159732e+02\n",
      " 5.89402893e+01 2.55138363e+01 1.10443231e+01 4.78081668e+00\n",
      " 2.06949464e+00 8.95828426e-01 3.87776719e-01 1.67853642e-01\n",
      " 7.26545695e-02 3.14455418e-02 1.36075155e-02 5.88623785e-03\n",
      " 2.54425915e-03 1.09797443e-03 4.72290387e-04 2.01824781e-04\n",
      " 8.51247577e-05 3.49861850e-05 1.36604753e-05 4.80716612e-06\n",
      " 1.35286140e-06 2.35656814e-07 1.30127093e-07 4.62527269e-07\n",
      " 9.84496843e-07 1.58852648e-06 2.22807797e-06 2.88300601e-06\n",
      " 3.54459020e-06 4.20905568e-06 4.87476839e-06 5.54102101e-06\n",
      " 6.20750733e-06 6.87409482e-06 7.54072611e-06 8.20737635e-06\n",
      " 8.87403480e-06 9.54069680e-06 1.02073603e-05 1.08740245e-05\n",
      " 1.15406890e-05 1.22073537e-05 1.28740183e-05 1.35406830e-05\n",
      " 1.42073477e-05 1.48740124e-05 1.55406771e-05 1.62073419e-05\n",
      " 1.68740066e-05 1.75406713e-05 1.82073360e-05 1.88740007e-05\n",
      " 1.95406654e-05 2.02073301e-05 2.08739948e-05 2.15406596e-05\n",
      " 2.22073243e-05 2.28739890e-05 2.35406537e-05 2.42073184e-05\n",
      " 2.48739831e-05 2.55406478e-05 2.62073125e-05 2.68739773e-05\n",
      " 2.75406420e-05 2.82073067e-05 2.88739714e-05 2.95406361e-05\n",
      " 3.02073008e-05 3.08739655e-05 3.15406302e-05 3.22072950e-05\n",
      " 3.28739597e-05 3.35406244e-05 3.42072891e-05 3.48739538e-05\n",
      " 3.55406185e-05 3.62072832e-05 3.68739479e-05 3.75406127e-05]\n"
     ]
    }
   ],
   "source": [
    "## OUV\n",
    "r_OUV = 100 * R_s  # OUV radius [cm]\n",
    "\n",
    "# Parameters for the OUV photon field\n",
    "eps_min = 1050 * 12398 * eV # [erg] 1 angstrom = 12398 eV - Lower energy limit\n",
    "eps_max = 2500 * 12398 * eV # [erg] Upper energy limit \n",
    "\n",
    "# Energy density U_OUV\n",
    "L_2keV = 7e43  # Luminosity at 2 keV [erg/s] (Lx)\n",
    "log_L_2500A = (1 / 0.760) * (np.log10(L_2keV) - 3.508)\n",
    "L_2500A = 10**log_L_2500A  # Luminosity at 2500 Angstroms [erg/s]\n",
    "U_OUV = L_2500A / (4 * np.pi * c * r_OUV**2)  # Energy density [erg/cm^3]\n",
    "\n",
    "# Photo-pion interaction parameters\n",
    "sigma_pg = 340 * 1e-6 * barn  # Cross-section for p-gamma interaction [cm^2]\n",
    "K_pg = 0.2  # Inelasticity\n",
    "\n",
    "# Threshold photon energy\n",
    "eps_th = 0.15 * GeV  # [erg]\n",
    "\n",
    "def n_OUV(eps):\n",
    "    \"\"\"Isotropic OUV photon field density.\"\"\"\n",
    "    if eps_min <= eps <= eps_max:\n",
    "        return U_OUV * eps**(-1)\n",
    "    else:\n",
    "        return 0.\n",
    "\n",
    "# Cooling rate function\n",
    "def rate_pgamma_OUV(Ep):\n",
    "    \"\"\"\n",
    "    Cooling rate [s^-1] of protons due to the photo-pion process in the OUV photon field.\n",
    "    Arguments:\n",
    "    Ep  : [erg] energy of protons (vector).\n",
    "    \"\"\"\n",
    "    gamma_p = Ep / mpc2  # Lorentz factor of the protons\n",
    "    gamma_c = eps_th / (2 * eps_min)  # Critical Lorentz factor\n",
    "\n",
    "    # Define photon energy range for integration\n",
    "    eps = np.linspace(eps_min, eps_max, num=1000)  # Photon energy range [erg]\n",
    "    \n",
    "    # Initialize the cooling rate array\n",
    "    t_pg_inv = np.zeros_like(gamma_p)\n",
    "    \n",
    "    # Integrate over the photon energy range\n",
    "    for i in range(len(gamma_p)):\n",
    "        integrand = np.array([n_OUV(e) * (np.log(gamma_p[i] / (eps_th / (2 * e))) + (eps_th / (2 * e))**2 / (2 * gamma_p[i]**2) - 0.5) \n",
    "                              for e in eps])\n",
    "        t_pg_inv[i] = c * K_pg * sigma_pg * np.trapz(integrand, eps)\n",
    "    \n",
    "    return t_pg_inv\n",
    "\n",
    "# Calculate the cooling rate\n",
    "cooling_rate_OUV = rate_pgamma_OUV(Ep)\n",
    "\n",
    "# Print or plot the cooling rate\n",
    "print(cooling_rate_OUV)"
   ]
  },
  {
   "cell_type": "code",
   "execution_count": null,
   "metadata": {},
   "outputs": [],
   "source": []
  },
  {
   "cell_type": "code",
   "execution_count": 28,
   "metadata": {},
   "outputs": [],
   "source": [
    "# sigma1 = 340 * 1e-6 * barn  # Cross-section for Bethe-Heitler process [cm^2]\n",
    "# bar_eps_bth = 2 * MeV  # Threshold photon energy for Bethe-Heitler process [erg]\n",
    "\n",
    "\n",
    "# def sigma_pgamma_bth(eps_prime):\n",
    "#     \"\"\"Bethe-Heitler cross-section.\"\"\"\n",
    "#     return sigma1  # Simplified cross-section model [cm^2]\n",
    "\n",
    "# def n_OUV2(eps):\n",
    "#     \"\"\"Isotropic OUV photon field density.\"\"\"\n",
    "#     r_OUV = 100 * R_s  # [cm]\n",
    "#     eps_min = 4.95937 * eV  # Lower energy limit [erg]\n",
    "#     eps_max = 11.808023 * eV  # Upper energy limit [erg]\n",
    "    \n",
    "#     # Energy density U_OUV\n",
    "#     L_2keV = 7e43  # Luminosity at 2 keV [erg/s]\n",
    "#     log_L_2500A = (1 / 0.760) * (np.log10(L_2keV) - 3.508)\n",
    "#     L_2500A = 10**log_L_2500A  # Luminosity at 2500 Angstroms [erg/s]\n",
    "#     U_OUV = L_2500A / (4 * np.pi * c * r_OUV**2)  # Energy density [erg/cm^3]\n",
    "    \n",
    "#     dnxde = np.zeros_like(eps)  # Initialize the array to store the results\n",
    "#     dnxde[(eps >= eps_min) & (eps <= eps_max)] = U_OUV * eps[(eps >= eps_min) & (eps <= eps_max)]**(-1)\n",
    "    \n",
    "#     return dnxde\n",
    "\n",
    "# def rate_bethe_heitler(Ep, eps, nph):\n",
    "#     \"\"\"\n",
    "#     Cooling rate [s^-1] of protons of energy Ep due to the Bethe-Heitler process.\n",
    "#     Arguments:\n",
    "#     Ep  : [erg] energy of protons (vector).\n",
    "#     eps : [erg] energy of the target photons (vector).\n",
    "#     nph : [cm-3 erg-1] number density of photons at the energy eps (vector).\n",
    "#     \"\"\"\n",
    "#     gamma_p = Ep / mpc2  # Lorentz factor of the protons\n",
    "#     t_bth_inv = np.zeros_like(gamma_p)  # Array to store the cooling rate results\n",
    "\n",
    "#     for i in range(len(gamma_p)):\n",
    "#         eps_inf = bar_eps_bth / (2 * gamma_p[i])  # Lower limit of the outer integral\n",
    "#         eps_inf = max(eps_inf, eps[0])  # Ensure eps_inf is within bounds\n",
    "\n",
    "#         # Find indices for the range of photon energies\n",
    "#         j0 = np.searchsorted(eps, eps_inf)\n",
    "#         if j0 >= len(eps):\n",
    "#             j0 = len(eps) - 1\n",
    "\n",
    "#         integral_outer = 0.0\n",
    "#         for j in range(j0, len(eps) - 1):\n",
    "#             # Inner integral\n",
    "#             eps_prime_min = bar_eps_bth\n",
    "#             eps_prime_max = 2 * gamma_p[i] * eps[j]\n",
    "#             k0 = np.searchsorted(eps, eps_prime_min)\n",
    "#             k1 = np.searchsorted(eps, eps_prime_max, side='right')\n",
    "#             k1 = min(k1, len(eps))  # Ensure k1 is within bounds\n",
    "\n",
    "#             integral_inner = 0.0\n",
    "#             for k in range(k0, k1):\n",
    "#                 if k + 1 < len(eps):\n",
    "#                     integral_inner += (eps[k+1] - eps[k]) * sigma_pgamma_bth(eps[k]) * eps[k]\n",
    "            \n",
    "#             # Outer integral contribution\n",
    "#             if j + 1 < len(eps):\n",
    "#                 integral_outer += (eps[j+1] - eps[j]) * nph[j] / (eps[j]**2) * integral_inner\n",
    "\n",
    "#         t_bth_inv[i] = c / (gamma_p[i]**2) * integral_outer\n",
    "\n",
    "#     return t_bth_inv\n",
    "\n",
    "# # Example parameters\n",
    "# eps = np.linspace(1, 1e9, num=1000) * keV  # Photon energy range [erg]\n",
    "# Ep = np.logspace(9, 1e20, num=100) * eV  # Proton energy range [erg]\n",
    "# nph_isotropic = n_ph(eps)  # Photon field density for isotropic\n",
    "# nph_ou = n_OUV2(eps)  # Photon field density for OUV\n",
    "\n",
    "# # Calculate cooling rates\n",
    "# cooling_rate_bth_isotropic = rate_bethe_heitler(Ep, eps, nph_isotropic)\n",
    "# cooling_rate_bth_ou = rate_bethe_heitler(Ep, eps, nph_ou)\n",
    "\n",
    "# # Print or plot the cooling rates\n",
    "# print(\"Cooling rate with isotropic photon field:\")\n",
    "# print(cooling_rate_bth_isotropic)\n",
    "\n",
    "# print(\"Cooling rate with OUV photon field:\")\n",
    "# print(cooling_rate_bth_ou)\n"
   ]
  },
  {
   "cell_type": "code",
   "execution_count": null,
   "metadata": {},
   "outputs": [],
   "source": []
  },
  {
   "cell_type": "code",
   "execution_count": null,
   "metadata": {},
   "outputs": [],
   "source": []
  },
  {
   "cell_type": "code",
   "execution_count": null,
   "metadata": {},
   "outputs": [],
   "source": []
  },
  {
   "cell_type": "code",
   "execution_count": null,
   "metadata": {},
   "outputs": [],
   "source": []
  },
  {
   "cell_type": "code",
   "execution_count": 29,
   "metadata": {},
   "outputs": [],
   "source": [
    "# def timeacc_fermi(E):\n",
    "#     '''Eq.(2.37) of Medina-Torrejon Thesis'''\n",
    "#     alpha = 0.1\n",
    "#     s = 1/alpha\n",
    "#     E0 = 10**(4)\n",
    "#     t0 = 700\n",
    "#     ## hours\n",
    "#     return s**(-1) * (E0/E)**(-1/s) * t0\n",
    "#     # return (E0/E)**(-1/s) * t0\n",
    "\n",
    "\n",
    "def time_acc_regime3(va, delta_RX):\n",
    "    v_in = 0.05 * va\n",
    "    beta_in = v_in / c\n",
    "    d_ur = 2 * beta_in * ( 3 * beta_in**2 + 3*beta_in + 1 ) / ( 3 * (beta_in + 0.5) * (1 - beta_in**2) )\n",
    "    \n",
    "    return 4 * delta_RX / (c * d_ur)\n",
    "\n",
    "\n",
    "def timeacc_drift(E, B, va):\n",
    "    '''Eq.(7) of Del Valle, de Gouveia Dal Pino & Kowal 2016 e de Gouveia Dal Pino & Kowal 2015'''\n",
    "    v_rec = 0.05 * va\n",
    "    \n",
    "    return E / (qe*B*v_rec)"
   ]
  },
  {
   "cell_type": "code",
   "execution_count": 30,
   "metadata": {},
   "outputs": [
    {
     "data": {
      "text/plain": [
       "1129.4022114212746"
      ]
     },
     "execution_count": 30,
     "metadata": {},
     "output_type": "execute_result"
    }
   ],
   "source": [
    "time_acc_regime3(va, delta_RX)"
   ]
  },
  {
   "cell_type": "code",
   "execution_count": null,
   "metadata": {},
   "outputs": [],
   "source": []
  },
  {
   "cell_type": "code",
   "execution_count": 31,
   "metadata": {},
   "outputs": [
    {
     "data": {
      "image/png": "[encoded data removed]",
      "text/plain": [
       "<Figure size 1000x600 with 1 Axes>"
      ]
     },
     "metadata": {},
     "output_type": "display_data"
    }
   ],
   "source": [
    "## erg\n",
    "\n",
    "plt.figure(figsize=(10, 6))\n",
    "\n",
    "# plt.loglog(Ee,1/tacc_fermi(Ee),'--',label='Acceleration (Fermi)',color='blue')\n",
    "# plt.loglog(Ee,1/tacc_drift(Ee, B_c, va),label='Acceleration (Drift)',color='purple')\n",
    "plt.loglog(Ep,[1/time_acc_regime3(va, delta_RX)]*len(Ep),'--',label='Acceleration (Regime 3)',color='red')\n",
    "plt.loglog(Ep_drift,1/timeacc_drift(Ep_drift, B_c, va),label='Acceleration (Drift)',color='green')\n",
    "# plt.loglog(Ep,tacc_shock(B_c, Ep),label='Acceleration (Shock)',color='r')\n",
    "plt.loglog(Ep,rate_p_p(n_c, Ep),label='P-P',color='magenta')\n",
    "plt.loglog(Ep,cooling_rate,label='P-gamma (X)',color='cyan')\n",
    "plt.loglog(Ep,cooling_rate_OUV,label='P-gamma (OUV)',color='darkblue')\n",
    "# plt.loglog(Ep,cooling_rate_bth_isotropic,label='B-H (X)',color='orange')\n",
    "# plt.loglog(Ep,cooling_rate_bth_ou,label='B-H (OUV)',color='purple')\n",
    "\n",
    "# plt.xlim((Ep.min(),Ep.max()))\n",
    "plt.legend(frameon=False)\n",
    "plt.xlabel('log(E [erg])')\n",
    "plt.ylabel('log($t^{-1}$ [s$^{-1}$])')\n",
    "# plt.ylim((1e-4,1e4))\n",
    "# plt.xticks([1e-2,1e-1,1e0,1e1,1e2,1e3],labels=['-2','-1','0','1','2','3'])\n",
    "plt.savefig('plots/cooling_hadrons_erg.png',dpi=300)\n",
    "\n",
    "plt.show()"
   ]
  },
  {
   "cell_type": "code",
   "execution_count": 32,
   "metadata": {},
   "outputs": [
    {
     "ename": "NameError",
     "evalue": "name 'Ppsyn_tot' is not defined",
     "output_type": "error",
     "traceback": [
      "\u001b[0;31m---------------------------------------------------------------------------\u001b[0m",
      "\u001b[0;31mNameError\u001b[0m                                 Traceback (most recent call last)",
      "Cell \u001b[0;32mIn[32], line 16\u001b[0m\n\u001b[1;32m     11\u001b[0m \u001b[38;5;66;03m# plt.loglog(Ep/eV,tacc_p_rec(Ep, l_x, B_c, rho),'--',label='Acceleration (Reconnection)',color='k')\u001b[39;00m\n\u001b[1;32m     12\u001b[0m \u001b[38;5;66;03m# plt.loglog(Ep/eV,tacc_shock(B_c, Ep),label='Acceleration (Shock)',color='r')\u001b[39;00m\n\u001b[1;32m     15\u001b[0m plt\u001b[38;5;241m.\u001b[39mloglog(Ep\u001b[38;5;241m/\u001b[39meV,rate_synch_p(B_c, Ep),label\u001b[38;5;241m=\u001b[39m\u001b[38;5;124m'\u001b[39m\u001b[38;5;124mSynchrotron-p\u001b[39m\u001b[38;5;124m'\u001b[39m,color\u001b[38;5;241m=\u001b[39m\u001b[38;5;124m'\u001b[39m\u001b[38;5;124mblue\u001b[39m\u001b[38;5;124m'\u001b[39m)\n\u001b[0;32m---> 16\u001b[0m plt\u001b[38;5;241m.\u001b[39mloglog(Ep\u001b[38;5;241m/\u001b[39meV,\u001b[43mPpsyn_tot\u001b[49m(Ep,B_c),label\u001b[38;5;241m=\u001b[39m\u001b[38;5;124m'\u001b[39m\u001b[38;5;124mSynchrotron-p\u001b[39m\u001b[38;5;124m'\u001b[39m,color\u001b[38;5;241m=\u001b[39m\u001b[38;5;124m'\u001b[39m\u001b[38;5;124mgray\u001b[39m\u001b[38;5;124m'\u001b[39m)\n\u001b[1;32m     17\u001b[0m plt\u001b[38;5;241m.\u001b[39mloglog(Ep\u001b[38;5;241m/\u001b[39meV,rate_p_p(n_c, Ep),label\u001b[38;5;241m=\u001b[39m\u001b[38;5;124m'\u001b[39m\u001b[38;5;124mP-P\u001b[39m\u001b[38;5;124m'\u001b[39m,color\u001b[38;5;241m=\u001b[39m\u001b[38;5;124m'\u001b[39m\u001b[38;5;124mmagenta\u001b[39m\u001b[38;5;124m'\u001b[39m)\n\u001b[1;32m     20\u001b[0m plt\u001b[38;5;241m.\u001b[39mloglog(Ep\u001b[38;5;241m/\u001b[39meV,cooling_rate,label\u001b[38;5;241m=\u001b[39m\u001b[38;5;124m'\u001b[39m\u001b[38;5;124mP-gamma (X)\u001b[39m\u001b[38;5;124m'\u001b[39m,color\u001b[38;5;241m=\u001b[39m\u001b[38;5;124m'\u001b[39m\u001b[38;5;124mcyan\u001b[39m\u001b[38;5;124m'\u001b[39m)\n",
      "\u001b[0;31mNameError\u001b[0m: name 'Ppsyn_tot' is not defined"
     ]
    },
    {
     "data": {
      "image/png": "[encoded data removed]",
      "text/plain": [
       "<Figure size 1000x600 with 1 Axes>"
      ]
     },
     "metadata": {},
     "output_type": "display_data"
    }
   ],
   "source": [
    "## eV\n",
    "\n",
    "plt.figure(figsize=(10, 6))\n",
    "\n",
    "# plt.loglog(Ee/erg,1/tacc_fermi(Ee),'--',label='Acceleration (Fermi)',color='blue')\n",
    "# plt.loglog(Ee/erg,1/tacc_drift(Ee, B_c, va),label='Acceleration (Drift)',color='purple')\n",
    "plt.loglog(Ep/eV,[1/time_acc_regime3(va, delta_RX)]*len(Ep),'--',label='Acceleration (Regime 3)',color='red')\n",
    "plt.loglog(Ep_drift/eV,1/timeacc_drift(Ep_drift, B_c, va),label='Acceleration (Drift)',color='green')\n",
    "\n",
    "\n",
    "# plt.loglog(Ep/eV,tacc_p_rec(Ep, l_x, B_c, rho),'--',label='Acceleration (Reconnection)',color='k')\n",
    "# plt.loglog(Ep/eV,tacc_shock(B_c, Ep),label='Acceleration (Shock)',color='r')\n",
    "\n",
    "\n",
    "plt.loglog(Ep/eV,rate_synch_p(B_c, Ep),label='Synchrotron-p',color='blue')\n",
    "plt.loglog(Ep/eV,Ppsyn_tot(Ep,B_c),label='Synchrotron-p',color='gray')\n",
    "plt.loglog(Ep/eV,rate_p_p(n_c, Ep),label='P-P',color='magenta')\n",
    "\n",
    "\n",
    "plt.loglog(Ep/eV,cooling_rate,label='P-gamma (X)',color='cyan')\n",
    "plt.loglog(Ep/eV,cooling_rate_OUV,label='P-gamma (OUV)',color='darkblue')\n",
    "\n",
    "\n",
    "# plt.loglog(Ep/eV,cooling_rate_bth_isotropic,label='B-H (X)',color='orange')\n",
    "# plt.loglog(Ep/eV,cooling_rate_bth_ou,label='B-H (OUV)',color='purple')\n",
    "\n",
    "plt.xlim(1e11,1e20)\n",
    "plt.ylim(1e-7,1e4)\n",
    "\n",
    "plt.legend(frameon=False,loc='upper right')\n",
    "plt.xlabel('log(E [eV])')\n",
    "plt.ylabel('log($t^{-1}$ [s$^{-1}$])')\n",
    "# plt.xticks([1e9,1e10,1e11,1e12,1e13,1e14,1e15],labels=['9','10','11','12','13','14','15'])\n",
    "\n",
    "plt.savefig('plots/cooling_hadrons_eV.png',dpi=300)\n",
    "\n",
    "plt.show()"
   ]
  },
  {
   "cell_type": "code",
   "execution_count": null,
   "metadata": {},
   "outputs": [],
   "source": []
  },
  {
   "cell_type": "code",
   "execution_count": null,
   "metadata": {},
   "outputs": [],
   "source": [
    "## Leptons\n",
    "\n",
    "\n",
    "## erg\n",
    "\n",
    "plt.figure(figsize=(10, 6))\n",
    "# plt.loglog(Ee,tacc_e_rec(Ee, l_x, B_c, rho),'--',label='Acceleration (Reconnection)',color='k')\n",
    "plt.loglog(Ee,[1/time_acc_regime3(va, delta_RX)]*len(Ee),'--',label='Acceleration (Regime 3)',color='red')\n",
    "plt.loglog(Ee_drift,1/timeacc_drift(Ee_drift, B_c, va),label='Acceleration (Drift)',color='green')\n",
    "# plt.loglog(Ee,tacc_shock(B_c, Ee),label='Acceleration (Shock)',color='r')\n",
    "\n",
    "plt.loglog(Ee,rate_synch_e(B_c, Ee),label='Synchrotron-e',color='blue')\n",
    "plt.loglog(Ee,rate_bremss_e(n_c, 1, Ee),label='Bremsstrahlung-e',color='purple')\n",
    "\n",
    "# plt.xlim((Ee.min(),Ee.max()))\n",
    "plt.legend(frameon=False)\n",
    "plt.xlabel('log(E [erg])')\n",
    "plt.ylabel('log($t^{-1}$ [s$^{-1}$])')\n",
    "# plt.ylim((1e-4,1e4))\n",
    "# plt.xticks([1e-2,1e-1,1e0,1e1,1e2,1e3],labels=['-2','-1','0','1','2','3'])\n",
    "plt.savefig('plots/cooling_leptons_erg.png',dpi=300)\n",
    "\n",
    "plt.show()"
   ]
  },
  {
   "cell_type": "code",
   "execution_count": null,
   "metadata": {},
   "outputs": [],
   "source": [
    "###### eV\n",
    "\n",
    "plt.figure(figsize=(10, 6))\n",
    "\n",
    "# plt.loglog(Ee/eV,tacc_e_rec(Ee, l_x, B_c, rho),'--',label='Acceleration (Reconnection)',color='k')\n",
    "plt.loglog(Ee/eV,[1/time_acc_regime3(va, delta_RX)]*len(Ee),'--',label='Acceleration (Regime 3)',color='red')\n",
    "plt.loglog(Ee_drift/eV,1/timeacc_drift(Ee_drift, B_c, va),label='Acceleration (Drift)',color='green')\n",
    "# plt.loglog(Ee/eV,tacc_shock(B_c, Ee),label='Acceleration (Shock)',color='r')\n",
    "\n",
    "\n",
    "plt.loglog(Ee/eV,rate_synch_e(B_c, Ee),label='Synchrotron-e',color='blue')\n",
    "plt.loglog(Ee/eV,rate_bremss_e(n_c, 1, Ee),label='Bremsstrahlung-e',color='purple')\n",
    "\n",
    "# plt.xlim((1e9,Ee.max()/eV))\n",
    "plt.legend(frameon=False)\n",
    "plt.xlabel('log(E [eV])')\n",
    "plt.ylabel('log($t^{-1}$ [s$^{-1}$])')\n",
    "# plt.ylim((1e-11,1e9))\n",
    "# plt.xticks([1e9,1e10,1e11,1e12,1e13,1e14,1e15],labels=['9','10','11','12','13','14','15'])\n",
    "\n",
    "plt.savefig('plots/cooling_leptons_eV.png',dpi=300)\n",
    "\n",
    "plt.show()"
   ]
  },
  {
   "cell_type": "code",
   "execution_count": null,
   "metadata": {},
   "outputs": [],
   "source": []
  },
  {
   "cell_type": "code",
   "execution_count": null,
   "metadata": {},
   "outputs": [],
   "source": []
  },
  {
   "cell_type": "code",
   "execution_count": null,
   "metadata": {},
   "outputs": [],
   "source": []
  },
  {
   "cell_type": "markdown",
   "metadata": {},
   "source": [
    "Maria:\n",
    "\n",
    "\n",
    "Porém sempre usei o método de Simpson, com os limites de integração como funções, usando duas grades de energia. O método de quadratura pode ser uma boa opção, talvez mais fácil de aplicar para este caso. Pode ser um desafio numérico dependendo da experiência em programação, mas com paciência consegue e serve para aprender a debugar.  Se ela usa o python pode usar as rotinas prontas, se ela usa fortran pode usar rotinas prontas e testadas também, há para todos os gostos. Não precisa escrever o algoritmo.\n",
    "\n",
    "\n",
    "Uma dica importante é usar uma variável logarítmica (na base 10), nas integrais que envolvem energias. Isto geralmente resolve os problemas numéricos (se for um problema numérico mesmo). \n",
    "\n",
    "\n",
    "Mas dependendo do problema, talvez não precise fazer as duas integrações. Existem expressões já integradas para os casos: campo de radiación térmico de densidad de energı́a w_ph con una energı́a media por fóton <hkT> ou no caso campo de radiación con una distribución en energı́as del tipo lei de potências (acho que pode achá las aqui Mannheim, K. & Schlickeiser, R. 1994, Astron. Astroph., 286, 983, se a Luana não acha pode me escrever). "
   ]
  },
  {
   "cell_type": "code",
   "execution_count": null,
   "metadata": {},
   "outputs": [],
   "source": [
    "## integral usando o método de Simpson"
   ]
  },
  {
   "cell_type": "code",
   "execution_count": null,
   "metadata": {},
   "outputs": [],
   "source": []
  },
  {
   "cell_type": "code",
   "execution_count": null,
   "metadata": {},
   "outputs": [],
   "source": []
  },
  {
   "cell_type": "code",
   "execution_count": null,
   "metadata": {},
   "outputs": [],
   "source": []
  },
  {
   "cell_type": "code",
   "execution_count": null,
   "metadata": {},
   "outputs": [],
   "source": []
  },
  {
   "cell_type": "code",
   "execution_count": null,
   "metadata": {},
   "outputs": [],
   "source": []
  },
  {
   "cell_type": "markdown",
   "metadata": {},
   "source": [
    "Juan:\n",
    "\n",
    "Para calcular o tempo de esfriamento devido à interação próton-fóton e para a maioria das integrações em processos não térmicos, o método que eu uso basicamente consiste em fazer uma soma de retângulos. Ou seja, discretizo o intervalo de energia de interesse em uma grade com muitos pontos, com Delta [log10(E/eV)]=0.05 (note a escala logarítmica), avalio as funções dentro das integrais nesses pontos e faço a soma.\n",
    "\n",
    "\n",
    "Vocês poderiam, alternativamente, usar o método dos trapézios. Eu não usei métodos mais sofisticados porque fazem os cálculos demorarem e, segundo me lembro, não trazem melhora significativa nos cálculos, pois as funções se espalham em domínios energéticos de várias ordens de magnitude (por exemplo, campos de fótons alvos dentro de intervalos de[1e−3 eV, 1e3 eV]).\n",
    "\n",
    "\n",
    "Vocês poderiam tentar uma integração mais elaborada se quiserem (mas, pelo amor de deus, usem escala logarítmica na energia e não escala linear!).\n",
    "\n",
    "\n",
    "Vejam em anexo um código em Python que calcula o tempo de esfriamento devido à criação de píons por interação próton-fóton (eh a segunda função desse script), como um approach muito simples (ver referências dentro das funções). Um dos argumentos da função precisa introduzir o campo alvo de fótons do ambiente (sua energia e seu número de partículas por unidade de volume, por unidade de energia, tudo em cgs).\n",
    "\n",
    "\n",
    "Acho que o Augusto perguntou a mesma coisa há uns meses atrás e também passei para ele o mesmo script."
   ]
  },
  {
   "cell_type": "code",
   "execution_count": null,
   "metadata": {},
   "outputs": [],
   "source": []
  },
  {
   "cell_type": "code",
   "execution_count": null,
   "metadata": {},
   "outputs": [],
   "source": []
  }
 ],
 "metadata": {
  "colab": {
   "authorship_tag": "ABX9TyN9KJEHAD5gGX46qYP3X8RW",
   "provenance": []
  },
  "kernelspec": {
   "display_name": "Python 3 (ipykernel)",
   "language": "python",
   "name": "python3"
  },
  "language_info": {
   "codemirror_mode": {
    "name": "ipython",
    "version": 3
   },
   "file_extension": ".py",
   "mimetype": "text/x-python",
   "name": "python",
   "nbconvert_exporter": "python",
   "pygments_lexer": "ipython3",
   "version": "3.9.7"
  }
 },
 "nbformat": 4,
 "nbformat_minor": 4
}
