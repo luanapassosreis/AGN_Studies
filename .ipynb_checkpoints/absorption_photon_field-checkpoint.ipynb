{
 "cells": [
  {
   "cell_type": "code",
   "execution_count": 1,
   "metadata": {
    "executionInfo": {
     "elapsed": 11,
     "status": "ok",
     "timestamp": 1710338892483,
     "user": {
      "displayName": "Luana Passos Reis",
      "userId": "08333614157017936952"
     },
     "user_tz": 180
    },
    "id": "QLJGPIN5_-j1"
   },
   "outputs": [],
   "source": [
    "from astro_constants import *\n",
    "from source_parameters import *\n",
    "from rates import *"
   ]
  },
  {
   "cell_type": "code",
   "execution_count": 2,
   "metadata": {
    "colab": {
     "base_uri": "https://localhost:8080/"
    },
    "executionInfo": {
     "elapsed": 11,
     "status": "ok",
     "timestamp": 1710338893043,
     "user": {
      "displayName": "Luana Passos Reis",
      "userId": "08333614157017936952"
     },
     "user_tz": 180
    },
    "id": "iZQWRi7RmOZy",
    "outputId": "48395bbb-7a43-4c6b-d808-0c5a24f11cfe"
   },
   "outputs": [],
   "source": [
    "import numpy as np\n",
    "import pandas as pd\n",
    "import seaborn as sns\n",
    "import matplotlib.pyplot as plt\n",
    "from scipy.integrate import quad\n",
    "from astropy import units as u\n",
    "from astropy import constants as const\n",
    "from scipy.stats import chisquare\n",
    "from scipy.optimize import curve_fit"
   ]
  },
  {
   "cell_type": "code",
   "execution_count": null,
   "metadata": {
    "executionInfo": {
     "elapsed": 10,
     "status": "ok",
     "timestamp": 1710338893043,
     "user": {
      "displayName": "Luana Passos Reis",
      "userId": "08333614157017936952"
     },
     "user_tz": 180
    },
    "id": "n9jXT_kumVVM"
   },
   "outputs": [],
   "source": []
  },
  {
   "cell_type": "code",
   "execution_count": null,
   "metadata": {},
   "outputs": [],
   "source": []
  },
  {
   "cell_type": "code",
   "execution_count": null,
   "metadata": {},
   "outputs": [],
   "source": []
  }
 ],
 "metadata": {
  "colab": {
   "provenance": []
  },
  "kernelspec": {
   "display_name": "Python 3 (ipykernel)",
   "language": "python",
   "name": "python3"
  },
  "language_info": {
   "codemirror_mode": {
    "name": "ipython",
    "version": 3
   },
   "file_extension": ".py",
   "mimetype": "text/x-python",
   "name": "python",
   "nbconvert_exporter": "python",
   "pygments_lexer": "ipython3",
   "version": "3.9.7"
  }
 },
 "nbformat": 4,
 "nbformat_minor": 4
}
