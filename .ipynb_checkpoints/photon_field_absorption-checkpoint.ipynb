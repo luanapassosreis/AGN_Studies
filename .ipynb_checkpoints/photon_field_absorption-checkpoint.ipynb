{
 "cells": [
  {
   "cell_type": "code",
   "execution_count": 1,
   "metadata": {
    "executionInfo": {
     "elapsed": 2953,
     "status": "ok",
     "timestamp": 1710338892482,
     "user": {
      "displayName": "Luana Passos Reis",
      "userId": "08333614157017936952"
     },
     "user_tz": 180
    },
    "id": "72psxK3g_qlD"
   },
   "outputs": [],
   "source": [
    "%run __init__.py"
   ]
  },
  {
   "cell_type": "code",
   "execution_count": 2,
   "metadata": {
    "executionInfo": {
     "elapsed": 11,
     "status": "ok",
     "timestamp": 1710338892483,
     "user": {
      "displayName": "Luana Passos Reis",
      "userId": "08333614157017936952"
     },
     "user_tz": 180
    },
    "id": "QLJGPIN5_-j1"
   },
   "outputs": [],
   "source": [
    "def mag_rec_power(Gamma, r_X, l, l_X, q, mdot, m):\n",
    "    '''\n",
    "    Magnetic recconection power released by turbulent fast reconnection in the surrounds of the BH.\n",
    "    Equivalent to Equation (15) of Kadowaki, de Gouveia Dal Pino & Singh 2015.\n",
    "    '''\n",
    "    wdot_B = 1.66e35 * Gamma**(-1/2) * r_X**(-5/8) * l**(-1/4) * l_X * q**(-2) * mdot**(3/4) * m\n",
    "    return wdot_B"
   ]
  },
  {
   "cell_type": "code",
   "execution_count": 3,
   "metadata": {
    "executionInfo": {
     "elapsed": 10,
     "status": "ok",
     "timestamp": 1710338892483,
     "user": {
      "displayName": "Luana Passos Reis",
      "userId": "08333614157017936952"
     },
     "user_tz": 180
    },
    "id": "OJkz5ADJe9Xf"
   },
   "outputs": [],
   "source": [
    "## Parameters from Table (similar to Khiali 2016)\n",
    "\n",
    "M = 2e7 * u.M_sun"
   ]
  },
  {
   "cell_type": "code",
   "execution_count": 4,
   "metadata": {
    "executionInfo": {
     "elapsed": 11,
     "status": "ok",
     "timestamp": 1710338892484,
     "user": {
      "displayName": "Luana Passos Reis",
      "userId": "08333614157017936952"
     },
     "user_tz": 180
    },
    "id": "esZ07xHWfIo5"
   },
   "outputs": [],
   "source": [
    "## Fixed Constants\n",
    "\n",
    "Mdot_Edd = 1.45e18 * M * u.M_sun**(-1) *u.g *u.s**(-1)\n",
    "R_sch = 2.96e5 * M * u.M_sun**(-1) * u.cm\n",
    "c = 3e10 * u.cm * u.s**(-1)"
   ]
  },
  {
   "cell_type": "code",
   "execution_count": 5,
   "metadata": {
    "executionInfo": {
     "elapsed": 10,
     "status": "ok",
     "timestamp": 1710338892484,
     "user": {
      "displayName": "Luana Passos Reis",
      "userId": "08333614157017936952"
     },
     "user_tz": 180
    },
    "id": "M-sLWl9IBQQL"
   },
   "outputs": [],
   "source": [
    "## Estimated Parameters by Murase 2022, Blanco et al. 2023 & Kadowaki et al. 2015\n",
    "\n",
    "v_A0 = c  # Khiali 2015 page 38\n",
    "\n",
    "## escala da coroa da zona de reconexão\n",
    "L = 10 * R_sch  # KGS15 tabela da param\n",
    "L_X = L # simplificação inicial - depois vemos no espaço paramétrico\n",
    "# L_X = 5 * R_sch  # KGS15 tabela da param\n",
    "\n",
    "R_X = 6 * R_sch\n",
    "\n",
    "mdot = 0.7 # xi\n",
    "\n",
    "## Parameters\n",
    "\n",
    "Gamma = 1 / np.sqrt(2)\n",
    "r_X = R_X / R_sch\n",
    "l = L / R_sch\n",
    "l_X = L_X / R_sch\n",
    "# mdot = Mdot / Mdot_Edd\n",
    "m = M / u.M_sun"
   ]
  },
  {
   "cell_type": "code",
   "execution_count": 6,
   "metadata": {
    "executionInfo": {
     "elapsed": 10,
     "status": "ok",
     "timestamp": 1710338892484,
     "user": {
      "displayName": "Luana Passos Reis",
      "userId": "08333614157017936952"
     },
     "user_tz": 180
    },
    "id": "jV0pXsfrhRPp"
   },
   "outputs": [],
   "source": [
    "q = ( 1 - ( 3 * R_sch / R_X)**(1/2) )**(1/4) # KGS15 page 4"
   ]
  },
  {
   "cell_type": "code",
   "execution_count": 7,
   "metadata": {
    "executionInfo": {
     "elapsed": 9,
     "status": "ok",
     "timestamp": 1710338892484,
     "user": {
      "displayName": "Luana Passos Reis",
      "userId": "08333614157017936952"
     },
     "user_tz": 180
    },
    "id": "Ps6T1o3fgOS7"
   },
   "outputs": [],
   "source": [
    "## KGS15 page 4\n",
    "\n",
    "# Gamma = (1 + (v_A0 / c )**2 )**(-1/2)\n",
    "# v_A0 = 9.78e10 * Gamma**(-1/4) * r_X**(-17/16) * l**(3/8) * q * mdot**(3/8)"
   ]
  },
  {
   "cell_type": "code",
   "execution_count": null,
   "metadata": {
    "executionInfo": {
     "elapsed": 9,
     "status": "ok",
     "timestamp": 1710338892484,
     "user": {
      "displayName": "Luana Passos Reis",
      "userId": "08333614157017936952"
     },
     "user_tz": 180
    },
    "id": "P9eM9F5-lz9Z"
   },
   "outputs": [],
   "source": []
  },
  {
   "cell_type": "code",
   "execution_count": 8,
   "metadata": {
    "colab": {
     "base_uri": "https://localhost:8080/",
     "height": 37
    },
    "executionInfo": {
     "elapsed": 10,
     "status": "ok",
     "timestamp": 1710338892485,
     "user": {
      "displayName": "Luana Passos Reis",
      "userId": "08333614157017936952"
     },
     "user_tz": 180
    },
    "id": "1DSFZaNKC0oo",
    "outputId": "9ccb7099-1e66-4b14-f10a-0e5929e27a00"
   },
   "outputs": [
    {
     "data": {
      "text/latex": [
       "$1.0245188 \\times 10^{43} \\; \\mathrm{}$"
      ],
      "text/plain": [
       "<Quantity 1.02451878e+43>"
      ]
     },
     "execution_count": 8,
     "metadata": {},
     "output_type": "execute_result"
    }
   ],
   "source": [
    "wdot_B = mag_rec_power(Gamma, r_X, l, l_X, q, mdot, m)\n",
    "\n",
    "wdot_B # erg s-1"
   ]
  },
  {
   "cell_type": "code",
   "execution_count": null,
   "metadata": {
    "executionInfo": {
     "elapsed": 9,
     "status": "ok",
     "timestamp": 1710338892485,
     "user": {
      "displayName": "Luana Passos Reis",
      "userId": "08333614157017936952"
     },
     "user_tz": 180
    },
    "id": "AcC87Xyabksp"
   },
   "outputs": [],
   "source": []
  },
  {
   "cell_type": "code",
   "execution_count": 9,
   "metadata": {
    "executionInfo": {
     "elapsed": 9,
     "status": "ok",
     "timestamp": 1710338892485,
     "user": {
      "displayName": "Luana Passos Reis",
      "userId": "08333614157017936952"
     },
     "user_tz": 180
    },
    "id": "88-J94ZJkWgI"
   },
   "outputs": [],
   "source": [
    "B_c = 9.96e8 * r_X**(-1.25) * mdot**(0.5) * m**(-0.5) #G"
   ]
  },
  {
   "cell_type": "code",
   "execution_count": 10,
   "metadata": {
    "colab": {
     "base_uri": "https://localhost:8080/",
     "height": 37
    },
    "executionInfo": {
     "elapsed": 564,
     "status": "ok",
     "timestamp": 1710338893041,
     "user": {
      "displayName": "Luana Passos Reis",
      "userId": "08333614157017936952"
     },
     "user_tz": 180
    },
    "id": "2lUVHU-UkWiU",
    "outputId": "1a129fd7-281d-430e-f151-1605024295a6"
   },
   "outputs": [
    {
     "data": {
      "text/latex": [
       "$19842.861 \\; \\mathrm{}$"
      ],
      "text/plain": [
       "<Quantity 19842.86134157>"
      ]
     },
     "execution_count": 10,
     "metadata": {},
     "output_type": "execute_result"
    }
   ],
   "source": [
    "B_c # G"
   ]
  },
  {
   "cell_type": "code",
   "execution_count": null,
   "metadata": {
    "executionInfo": {
     "elapsed": 15,
     "status": "ok",
     "timestamp": 1710338893041,
     "user": {
      "displayName": "Luana Passos Reis",
      "userId": "08333614157017936952"
     },
     "user_tz": 180
    },
    "id": "Etl0r3yokWls"
   },
   "outputs": [],
   "source": []
  },
  {
   "cell_type": "code",
   "execution_count": 11,
   "metadata": {
    "executionInfo": {
     "elapsed": 15,
     "status": "ok",
     "timestamp": 1710338893041,
     "user": {
      "displayName": "Luana Passos Reis",
      "userId": "08333614157017936952"
     },
     "user_tz": 180
    },
    "id": "krXPAV3DkzW4"
   },
   "outputs": [],
   "source": [
    "n_c = 8.02e18 * r_X**(-0.375) * Gamma**(0.5) * l**(-0.75) * q**(-2) * mdot**(0.25) * m**(-1) # cm-3"
   ]
  },
  {
   "cell_type": "code",
   "execution_count": 12,
   "metadata": {
    "colab": {
     "base_uri": "https://localhost:8080/",
     "height": 37
    },
    "executionInfo": {
     "elapsed": 15,
     "status": "ok",
     "timestamp": 1710338893041,
     "user": {
      "displayName": "Luana Passos Reis",
      "userId": "08333614157017936952"
     },
     "user_tz": 180
    },
    "id": "MKUA1yEvkzYq",
    "outputId": "4b197297-7331-4cc6-f2c7-ce5dff66b917"
   },
   "outputs": [
    {
     "data": {
      "text/latex": [
       "$5.1760684 \\times 10^{10} \\; \\mathrm{}$"
      ],
      "text/plain": [
       "<Quantity 5.1760684e+10>"
      ]
     },
     "execution_count": 12,
     "metadata": {},
     "output_type": "execute_result"
    }
   ],
   "source": [
    "n_c # cm-3"
   ]
  },
  {
   "cell_type": "code",
   "execution_count": null,
   "metadata": {
    "executionInfo": {
     "elapsed": 14,
     "status": "ok",
     "timestamp": 1710338893041,
     "user": {
      "displayName": "Luana Passos Reis",
      "userId": "08333614157017936952"
     },
     "user_tz": 180
    },
    "id": "BSFoQjoIleH0"
   },
   "outputs": [],
   "source": []
  },
  {
   "cell_type": "code",
   "execution_count": 13,
   "metadata": {
    "executionInfo": {
     "elapsed": 13,
     "status": "ok",
     "timestamp": 1710338893041,
     "user": {
      "displayName": "Luana Passos Reis",
      "userId": "08333614157017936952"
     },
     "user_tz": 180
    },
    "id": "RxmANKvRl2nS"
   },
   "outputs": [],
   "source": [
    "T_c = 2.73e9 * Gamma**(1/4) * r_X**(-3/16) * l**(1/8) * q**(-1) * mdot**(1/8) # K"
   ]
  },
  {
   "cell_type": "code",
   "execution_count": 14,
   "metadata": {
    "colab": {
     "base_uri": "https://localhost:8080/",
     "height": 37
    },
    "executionInfo": {
     "elapsed": 14,
     "status": "ok",
     "timestamp": 1710338893042,
     "user": {
      "displayName": "Luana Passos Reis",
      "userId": "08333614157017936952"
     },
     "user_tz": 180
    },
    "id": "dqkR7qf1mLw4",
    "outputId": "78776d78-49c5-4ec9-e73d-36f2bff7f1ad"
   },
   "outputs": [
    {
     "data": {
      "text/latex": [
       "$3.1016334 \\times 10^{9} \\; \\mathrm{}$"
      ],
      "text/plain": [
       "<Quantity 3.10163339e+09>"
      ]
     },
     "execution_count": 14,
     "metadata": {},
     "output_type": "execute_result"
    }
   ],
   "source": [
    "T_c # K"
   ]
  },
  {
   "cell_type": "code",
   "execution_count": null,
   "metadata": {
    "executionInfo": {
     "elapsed": 13,
     "status": "ok",
     "timestamp": 1710338893042,
     "user": {
      "displayName": "Luana Passos Reis",
      "userId": "08333614157017936952"
     },
     "user_tz": 180
    },
    "id": "VqhpeXcomNHb"
   },
   "outputs": [],
   "source": []
  },
  {
   "cell_type": "code",
   "execution_count": 15,
   "metadata": {
    "executionInfo": {
     "elapsed": 13,
     "status": "ok",
     "timestamp": 1710338893042,
     "user": {
      "displayName": "Luana Passos Reis",
      "userId": "08333614157017936952"
     },
     "user_tz": 180
    },
    "id": "SUpIoEjmnQ-m"
   },
   "outputs": [],
   "source": [
    "delta_RX = 11.6 * Gamma**(-5/4) * r_X**(31/16) * l**(-5/8) * l_X * q**(-3) * mdot**(-5/8) * m # cm"
   ]
  },
  {
   "cell_type": "code",
   "execution_count": 16,
   "metadata": {
    "colab": {
     "base_uri": "https://localhost:8080/",
     "height": 37
    },
    "executionInfo": {
     "elapsed": 12,
     "status": "ok",
     "timestamp": 1710338893042,
     "user": {
      "displayName": "Luana Passos Reis",
      "userId": "08333614157017936952"
     },
     "user_tz": 180
    },
    "id": "CHJieyZbnRAr",
    "outputId": "fc85808d-2f9a-489f-8213-09d27a4ba62e"
   },
   "outputs": [
    {
     "data": {
      "text/latex": [
       "$8.5719873 \\times 10^{10} \\; \\mathrm{}$"
      ],
      "text/plain": [
       "<Quantity 8.57198727e+10>"
      ]
     },
     "execution_count": 16,
     "metadata": {},
     "output_type": "execute_result"
    }
   ],
   "source": [
    "delta_RX # cm"
   ]
  },
  {
   "cell_type": "code",
   "execution_count": null,
   "metadata": {
    "executionInfo": {
     "elapsed": 12,
     "status": "ok",
     "timestamp": 1710338893042,
     "user": {
      "displayName": "Luana Passos Reis",
      "userId": "08333614157017936952"
     },
     "user_tz": 180
    },
    "id": "gus00VA9nRD0"
   },
   "outputs": [],
   "source": []
  },
  {
   "cell_type": "code",
   "execution_count": 17,
   "metadata": {
    "executionInfo": {
     "elapsed": 12,
     "status": "ok",
     "timestamp": 1710338893042,
     "user": {
      "displayName": "Luana Passos Reis",
      "userId": "08333614157017936952"
     },
     "user_tz": 180
    },
    "id": "lKySDJMMsEXz"
   },
   "outputs": [],
   "source": [
    "delt_RX2 = 2.34e4 * Gamma**(-0.31) * r_X**(0.48) * l**(-0.15) * l_X * q**(-0.75) * mdot**(-0.15) * m # cm"
   ]
  },
  {
   "cell_type": "code",
   "execution_count": 18,
   "metadata": {
    "colab": {
     "base_uri": "https://localhost:8080/",
     "height": 37
    },
    "executionInfo": {
     "elapsed": 11,
     "status": "ok",
     "timestamp": 1710338893042,
     "user": {
      "displayName": "Luana Passos Reis",
      "userId": "08333614157017936952"
     },
     "user_tz": 180
    },
    "id": "sssSu402sg21",
    "outputId": "6130e3cf-2d54-4def-f6a7-2d021ca22744"
   },
   "outputs": [
    {
     "data": {
      "text/latex": [
       "$1.1578316 \\times 10^{13} \\; \\mathrm{}$"
      ],
      "text/plain": [
       "<Quantity 1.1578316e+13>"
      ]
     },
     "execution_count": 18,
     "metadata": {},
     "output_type": "execute_result"
    }
   ],
   "source": [
    "delt_RX2 # cm - errado"
   ]
  },
  {
   "cell_type": "code",
   "execution_count": null,
   "metadata": {
    "executionInfo": {
     "elapsed": 11,
     "status": "ok",
     "timestamp": 1710338893042,
     "user": {
      "displayName": "Luana Passos Reis",
      "userId": "08333614157017936952"
     },
     "user_tz": 180
    },
    "id": "LD46vmR2sEZz"
   },
   "outputs": [],
   "source": []
  },
  {
   "cell_type": "code",
   "execution_count": 19,
   "metadata": {
    "colab": {
     "base_uri": "https://localhost:8080/"
    },
    "executionInfo": {
     "elapsed": 11,
     "status": "ok",
     "timestamp": 1710338893043,
     "user": {
      "displayName": "Luana Passos Reis",
      "userId": "08333614157017936952"
     },
     "user_tz": 180
    },
    "id": "iZQWRi7RmOZy",
    "outputId": "48395bbb-7a43-4c6b-d808-0c5a24f11cfe"
   },
   "outputs": [
    {
     "name": "stdout",
     "output_type": "stream",
     "text": [
      "\n",
      "Reconnection Power:\n",
      " wdot_B = 1.0245E+43 erg s-1\n",
      "\n",
      "Coronal Magnetic Field:\n",
      " B_c = 1.9843E+04 G\n",
      "\n",
      "Coronal Particle Number Density:\n",
      " n_c = 5.1761E+10 cm-3\n",
      "\n",
      "Coronal Temperature:\n",
      " T_c = 3.1016E+09 K\n",
      "\n",
      "Width of the current sheet:\n",
      " delta_RX = 8.5720E+10 cm or delt_RX2 = 1.1578E+13 cm\n"
     ]
    }
   ],
   "source": [
    "print(f'\\nReconnection Power:\\n wdot_B = {wdot_B:.4E} erg s-1')\n",
    "print(f'\\nCoronal Magnetic Field:\\n B_c = {B_c:.4E} G')\n",
    "print(f'\\nCoronal Particle Number Density:\\n n_c = {n_c:.4E} cm-3')\n",
    "print(f'\\nCoronal Temperature:\\n T_c = {T_c:.4E} K')\n",
    "print(f'\\nWidth of the current sheet:\\n delta_RX = {delta_RX:.4E} cm or delt_RX2 = {delt_RX2:.4E} cm')"
   ]
  },
  {
   "cell_type": "code",
   "execution_count": null,
   "metadata": {
    "executionInfo": {
     "elapsed": 10,
     "status": "ok",
     "timestamp": 1710338893043,
     "user": {
      "displayName": "Luana Passos Reis",
      "userId": "08333614157017936952"
     },
     "user_tz": 180
    },
    "id": "n9jXT_kumVVM"
   },
   "outputs": [],
   "source": []
  },
  {
   "cell_type": "code",
   "execution_count": null,
   "metadata": {},
   "outputs": [],
   "source": []
  },
  {
   "cell_type": "code",
   "execution_count": null,
   "metadata": {},
   "outputs": [],
   "source": []
  }
 ],
 "metadata": {
  "colab": {
   "provenance": []
  },
  "kernelspec": {
   "display_name": "Python 3 (ipykernel)",
   "language": "python",
   "name": "python3"
  },
  "language_info": {
   "codemirror_mode": {
    "name": "ipython",
    "version": 3
   },
   "file_extension": ".py",
   "mimetype": "text/x-python",
   "name": "python",
   "nbconvert_exporter": "python",
   "pygments_lexer": "ipython3",
   "version": "3.9.7"
  }
 },
 "nbformat": 4,
 "nbformat_minor": 4
}
