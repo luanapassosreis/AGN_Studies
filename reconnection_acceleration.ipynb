{
 "cells": [
  {
   "cell_type": "markdown",
   "id": "cfb8c3b8-caeb-4ace-a08c-0dde719dfae0",
   "metadata": {},
   "source": [
    "This notebook was created for the study of a galaxy Seyfert Type II."
   ]
  },
  {
   "cell_type": "code",
   "execution_count": 1,
   "id": "bad6bf48-6a0d-4db1-ab21-87eb2e142992",
   "metadata": {},
   "outputs": [],
   "source": [
    "## Imports\n",
    "\n",
    "import numpy as np\n",
    "import pandas as pd\n",
    "import seaborn as sns\n",
    "import matplotlib.pyplot as plt\n",
    "from scipy.integrate import quad\n",
    "\n",
    "from astropy import units as u\n",
    "from astropy import constants as const"
   ]
  },
  {
   "cell_type": "markdown",
   "id": "706cf604-a2ea-4f3d-8fef-b9159ab4cc99",
   "metadata": {},
   "source": [
    "Defining our source"
   ]
  },
  {
   "cell_type": "code",
   "execution_count": 2,
   "id": "a201b8f5-06d1-4052-94e3-98bbb1e52398",
   "metadata": {},
   "outputs": [],
   "source": [
    "m = 2e7 # M / M_sun\n",
    "\n",
    "mdot = 0.7 # Mdot / Mdot_Edd\n",
    "\n",
    "l = 10    # L / R_sch\n",
    "l_x = 5   # L_x * R_sch  = 1 p simplificação inicial - depois vemos no espaço paramétrico\n",
    "r_x = 6   # R_x / R_sch"
   ]
  },
  {
   "cell_type": "code",
   "execution_count": 3,
   "id": "f80d0526-3699-4d22-ab11-1e904288df8c",
   "metadata": {},
   "outputs": [],
   "source": [
    "## Fixed Constants\n",
    "\n",
    "Mdot_Edd = 1.45e18 * m # [g s-1]\n",
    "R_sch = 2.96e5 * m # [cm]\n",
    "\n",
    "# c = 3e10 * u.cm * u.s**(-1)\n",
    "\n",
    "c = 2.9979e10 # [cm/s]\n",
    "m_e = 9.1093e-28 # [g]\n",
    "m_p = 1.6726e-24 # [g]\n",
    "sigma_T = 6.6524e-25 # [cm2]\n",
    "e = 4.8032e-10 # [statcoul]\n",
    "\n",
    "alpha_f = 1/137 # fine structure constant [dim.]\n",
    "r_0 = 2.8179e-13 # electron classical radius [cm]"
   ]
  },
  {
   "cell_type": "code",
   "execution_count": 4,
   "id": "3277ee60-ec49-4ac7-aab3-278a7ead6da5",
   "metadata": {},
   "outputs": [],
   "source": [
    "Gamma = 1 / np.sqrt(2)\n",
    "\n",
    "# q = ( 1 - ( 3 * R_sch / R_X)**(1/2) )**(1/4) # KGS15 page 4\n",
    "q = ( 1 - ( 3 * r_x**(-1) )**(1/2) )**(1/4) # KGS15 page 4\n",
    "\n",
    "v_A0 = c  # Khiali 2015 page 38"
   ]
  },
  {
   "cell_type": "code",
   "execution_count": null,
   "id": "7d0d7145-348b-4034-b30f-770556bad2c5",
   "metadata": {},
   "outputs": [],
   "source": []
  },
  {
   "cell_type": "code",
   "execution_count": 5,
   "id": "276c6cb8-ccc6-4d46-ba98-b0c1c28ea34a",
   "metadata": {},
   "outputs": [],
   "source": [
    "# c = (const.c).to('cm s-1')\n",
    "# m_e = (const.m_e).to('g')\n",
    "# m_p = (const.m_p).to('g')\n",
    "# sigma_T = (const.sigma_T).to('cm2')\n",
    "# e = (const.e).value / (3.33564e-10) * u.statcoulomb\n",
    "\n",
    "# alpha_f = 1/137 # fine structure constant [dim.]\n",
    "# r_0 = 2.8179e-13 * u.cm # electron classical radius [cm]"
   ]
  },
  {
   "cell_type": "code",
   "execution_count": null,
   "id": "78565af9-9d57-4a7b-acae-8ff4b1fd1b61",
   "metadata": {},
   "outputs": [],
   "source": []
  },
  {
   "cell_type": "code",
   "execution_count": 6,
   "id": "2bc58381-7ea9-4381-b8ef-7dad56470918",
   "metadata": {},
   "outputs": [],
   "source": [
    "## Parameters from Table (similar to Khiali 2016)\n",
    "\n",
    "# M = 2e7 * u.M_sun"
   ]
  },
  {
   "cell_type": "code",
   "execution_count": null,
   "id": "b092a2fe-3f9b-490c-a94d-e16430dbe8ee",
   "metadata": {},
   "outputs": [],
   "source": []
  },
  {
   "cell_type": "code",
   "execution_count": null,
   "id": "2554a9c5-e649-409a-b2fa-5f2df92c69c7",
   "metadata": {},
   "outputs": [],
   "source": []
  },
  {
   "cell_type": "code",
   "execution_count": 7,
   "id": "4e0975ae-e156-4a7e-8d02-c25813055dc3",
   "metadata": {},
   "outputs": [],
   "source": [
    "def mag_rec_power(Gamma, r_X, l, l_X, q, mdot, m):\n",
    "    '''\n",
    "    Magnetic recconection power released by turbulent fast reconnection in the surrounds of the BH.\n",
    "    Equivalent to Equation (15) of Kadowaki, de Gouveia Dal Pino & Singh 2015.\n",
    "    '''\n",
    "    wdot_B = 1.66e35 * Gamma**(-1/2) * r_X**(-5/8) * l**(-1/4) * l_X * q**(-2) * mdot**(3/4) * m\n",
    "    return wdot_B"
   ]
  },
  {
   "cell_type": "code",
   "execution_count": 8,
   "id": "55bbddde-deeb-4b11-8ff1-f46b54b5bfdf",
   "metadata": {},
   "outputs": [],
   "source": [
    "## Estimated Parameters by Murase 2022, Blanco et al. 2023 & Kadowaki et al. 2015\n",
    "\n",
    "# v_A0 = c  # Khiali 2015 page 38\n",
    "\n",
    "## escala da coroa da zona de reconexão\n",
    "# L = 10 * R_sch  # KGS15 tabela da param\n",
    "# L_X = L # simplificação inicial - depois vemos no espaço paramétrico\n",
    "# L_X = 5 * R_sch  # KGS15 tabela da param\n",
    "\n",
    "# R_X = 6 * R_sch\n",
    "\n",
    "# mdot = 0.7 # xi\n",
    "\n",
    "## Parameters\n",
    "\n",
    "# Gamma = 1 / np.sqrt(2)\n",
    "# r_X = R_X / R_sch\n",
    "# l = L / R_sch\n",
    "# l_X = L_X / R_sch\n",
    "# mdot = Mdot / Mdot_Edd\n",
    "# m = M / u.M_sun\n",
    "\n",
    "# q = ( 1 - ( 3 * R_sch / R_X)**(1/2) )**(1/4) # KGS15 page 4"
   ]
  },
  {
   "cell_type": "code",
   "execution_count": 9,
   "id": "c7f00092-4086-433d-8920-85b85bcea965",
   "metadata": {},
   "outputs": [],
   "source": [
    "## KGS15 page 4\n",
    "\n",
    "# Gamma = (1 + (v_A0 / c )**2 )**(-1/2)\n",
    "# v_A0 = 9.78e10 * Gamma**(-1/4) * r_X**(-17/16) * l**(3/8) * q * mdot**(3/8)"
   ]
  },
  {
   "cell_type": "code",
   "execution_count": null,
   "id": "0b92b066-bfce-4697-9160-f4b2895a88ab",
   "metadata": {},
   "outputs": [],
   "source": []
  },
  {
   "cell_type": "code",
   "execution_count": null,
   "id": "8a2aeb02-986c-4265-876e-5e2feab471f5",
   "metadata": {},
   "outputs": [],
   "source": []
  },
  {
   "cell_type": "code",
   "execution_count": 10,
   "id": "e6fb28c3-d7c2-4c19-b3c3-fc364df73387",
   "metadata": {},
   "outputs": [
    {
     "data": {
      "text/plain": [
       "5.1225938888640925e+42"
      ]
     },
     "execution_count": 10,
     "metadata": {},
     "output_type": "execute_result"
    }
   ],
   "source": [
    "wdot_B = mag_rec_power(Gamma, r_x, l, l_x, q, mdot, m)\n",
    "\n",
    "wdot_B # erg s-1"
   ]
  },
  {
   "cell_type": "code",
   "execution_count": 11,
   "id": "afb6d5a9-d0c4-4ab4-a2cc-7d40fef7e9e6",
   "metadata": {},
   "outputs": [
    {
     "data": {
      "text/plain": [
       "19842.861341570104"
      ]
     },
     "execution_count": 11,
     "metadata": {},
     "output_type": "execute_result"
    }
   ],
   "source": [
    "B_c = 9.96e8 * r_x**(-1.25) * mdot**(0.5) * m**(-0.5) #G\n",
    "\n",
    "B_c # G"
   ]
  },
  {
   "cell_type": "code",
   "execution_count": 12,
   "id": "7714ced0-3a30-49e5-9308-944d3ef249fa",
   "metadata": {},
   "outputs": [
    {
     "data": {
      "text/plain": [
       "51760683957.688774"
      ]
     },
     "execution_count": 12,
     "metadata": {},
     "output_type": "execute_result"
    }
   ],
   "source": [
    "n_c = 8.02e18 * r_x**(-0.375) * Gamma**(0.5) * l**(-0.75) * q**(-2) * mdot**(0.25) * m**(-1) # cm-3\n",
    "\n",
    "n_c # cm-3"
   ]
  },
  {
   "cell_type": "code",
   "execution_count": 13,
   "id": "3260fb18-5b36-45b4-8516-f3b412030c57",
   "metadata": {},
   "outputs": [
    {
     "data": {
      "text/plain": [
       "3101633394.265899"
      ]
     },
     "execution_count": 13,
     "metadata": {},
     "output_type": "execute_result"
    }
   ],
   "source": [
    "T_c = 2.73e9 * Gamma**(1/4) * r_x**(-3/16) * l**(1/8) * q**(-1) * mdot**(1/8) # K\n",
    "\n",
    "T_c # K"
   ]
  },
  {
   "cell_type": "code",
   "execution_count": 14,
   "id": "4424084f-9fe5-4161-bdc1-724ecc55bb04",
   "metadata": {},
   "outputs": [
    {
     "data": {
      "text/plain": [
       "42859936325.82682"
      ]
     },
     "execution_count": 14,
     "metadata": {},
     "output_type": "execute_result"
    }
   ],
   "source": [
    "delta_RX = 11.6 * Gamma**(-5/4) * r_x**(31/16) * l**(-5/8) * l_x * q**(-3) * mdot**(-5/8) * m # cm\n",
    "\n",
    "delta_RX # cm"
   ]
  },
  {
   "cell_type": "code",
   "execution_count": 15,
   "id": "79224344-3a32-40da-8829-96f68a1fda01",
   "metadata": {},
   "outputs": [
    {
     "data": {
      "text/plain": [
       "5789158017973.296"
      ]
     },
     "execution_count": 15,
     "metadata": {},
     "output_type": "execute_result"
    }
   ],
   "source": [
    "delt_RX2 = 2.34e4 * Gamma**(-0.31) * r_x**(0.48) * l**(-0.15) * l_x * q**(-0.75) * mdot**(-0.15) * m # cm\n",
    "\n",
    "delt_RX2 # cm - errado"
   ]
  },
  {
   "cell_type": "code",
   "execution_count": 16,
   "id": "0c4c5eae-3477-4e89-880a-9cfd44648346",
   "metadata": {},
   "outputs": [
    {
     "name": "stdout",
     "output_type": "stream",
     "text": [
      "\n",
      "Reconnection Power:\n",
      " wdot_B = 5.1226E+42 erg s-1\n",
      "\n",
      "Coronal Magnetic Field:\n",
      " B_c = 1.9843E+04 G\n",
      "\n",
      "Coronal Particle Number Density:\n",
      " n_c = 5.1761E+10 cm-3\n",
      "\n",
      "Coronal Temperature:\n",
      " T_c = 3.1016E+09 K\n",
      "\n",
      "Width of the current sheet:\n",
      " delta_RX = 4.2860E+10 cm or delt_RX2 = 5.7892E+12 cm\n"
     ]
    }
   ],
   "source": [
    "print(f'\\nReconnection Power:\\n wdot_B = {wdot_B:.4E} erg s-1')\n",
    "print(f'\\nCoronal Magnetic Field:\\n B_c = {B_c:.4E} G')\n",
    "print(f'\\nCoronal Particle Number Density:\\n n_c = {n_c:.4E} cm-3')\n",
    "print(f'\\nCoronal Temperature:\\n T_c = {T_c:.4E} K')\n",
    "print(f'\\nWidth of the current sheet:\\n delta_RX = {delta_RX:.4E} cm or delt_RX2 = {delt_RX2:.4E} cm')"
   ]
  },
  {
   "cell_type": "code",
   "execution_count": null,
   "id": "04be6c37-9150-416b-aa50-df4b5cce4393",
   "metadata": {},
   "outputs": [],
   "source": []
  },
  {
   "cell_type": "code",
   "execution_count": 17,
   "id": "9dfcd381-1ad5-42ce-874c-20fa896e27d8",
   "metadata": {},
   "outputs": [],
   "source": [
    "## Source parameters\n",
    "\n",
    "# erg = 1.602177e-12 # Convert eV to erg\n",
    "\n",
    "# B = 1.9843e+04 # magnetic field [G]\n",
    "# Ee = np.linspace(1e8, 1e14)*erg # Electron energy [erg]\n",
    "# va0 = c # Alfvén Speed [cm/s]\n",
    "# rho = B*B/(va0*va0*4*np.pi) # density [cm^-3]\n",
    "\n",
    "# M = 2e7 # MBH [M⊙]\n",
    "# P = 3 * 24 * 60 * 60 # Period in [s]\n",
    "# R_b = P*c # Blob radius [cm]\n",
    "# n = 5.1761e+10 # particle density [cm^-3]"
   ]
  },
  {
   "cell_type": "code",
   "execution_count": 18,
   "id": "5cfa0973-1bfb-4dbf-98c8-535ead9317b4",
   "metadata": {},
   "outputs": [],
   "source": [
    "erg = 1.602177e-12 # Convert eV to erg\n",
    "\n",
    "B = B_c\n",
    "n = n_c\n",
    "Ee = np.linspace(1e8, 1e14)*erg # Electron energy [erg]\n",
    "va0 = c # Alfvén Speed [cm/s]\n",
    "rho = B*B/(va0*va0*4*np.pi) # density [cm^-3]"
   ]
  },
  {
   "cell_type": "code",
   "execution_count": 19,
   "id": "7c77f12d-1f39-4faa-a733-52fa6043afb8",
   "metadata": {},
   "outputs": [
    {
     "data": {
      "text/plain": [
       "1.602177"
      ]
     },
     "execution_count": 19,
     "metadata": {},
     "output_type": "execute_result"
    }
   ],
   "source": [
    "TeV = 1*1e12*erg\n",
    "\n",
    "TeV"
   ]
  },
  {
   "cell_type": "code",
   "execution_count": 20,
   "id": "21fb6c5d-5f77-4217-abeb-34a4e41042df",
   "metadata": {},
   "outputs": [
    {
     "data": {
      "text/plain": [
       "1.602177e-06"
      ]
     },
     "execution_count": 20,
     "metadata": {},
     "output_type": "execute_result"
    }
   ],
   "source": [
    "MeV = 1 * 1e6 * erg\n",
    "\n",
    "MeV"
   ]
  },
  {
   "cell_type": "code",
   "execution_count": 21,
   "id": "9b26e435-0faf-49cc-8690-0ab27c45255a",
   "metadata": {},
   "outputs": [],
   "source": [
    "## Functions\n",
    "\n",
    "## acceleration by reconnection and shock\n",
    "\n",
    "\n",
    "# s * (E_0 / E)**(1/s) * t_0**(-1)\n",
    "## proton ou eletron ? E0 é proton\n",
    "## delta_RX é a length do acceleration region?\n",
    "\n",
    "def tacc_rec(E,lacc,B,rho):\n",
    "    \"\"\"Implements Eq. (7) of Khiali et al. (2015)\"\"\"\n",
    "    va0 = B / np.sqrt(4 * np.pi * rho)\n",
    "    Gamma = 1 / np.sqrt(2)\n",
    "    va = va0*Gamma\n",
    "    t0 = lacc/va # Alfvén time [s]\n",
    "    E0 = m_e*c*c # * 6.241509e11 # erg to ev\n",
    "\n",
    "    return 1.3e5 * np.sqrt(m_p/m_e) * ((E/E0)**(-0.1)) * 1/t0\n",
    "    \n",
    "\n",
    "def tacc_shock(B,E):\n",
    "    \"\"\"Implements Eq. (10) of Romero et al. (2010a)\"\"\"\n",
    "    eta = 0.1 # Efficiency of the acceleration [adim]\n",
    "\n",
    "    return eta*e*c*B/E\n",
    "\n",
    "\n",
    "## radiative losses (leptonic and hadronic)\n",
    "\n",
    "def tloss_syn(B,E,m):\n",
    "    \"\"\"Implements Eq. (12) of Romero et al. (2010a)\"\"\"\n",
    "    \n",
    "    return (4/3)*((m_e/m)**3)*sigma_T*c*B*B/(m_e*c*c*8*np.pi) * (E/(m*c*c))\n",
    "\n",
    "def tloss_bre(n,Z,E):\n",
    "    \"\"\"Implements Eq. (17) of Romero et al. (2010a)\"\"\"\n",
    "    \n",
    "    return 4*n*Z*Z*r_0*r_0*alpha_f*c*(np.log(2*E/(m_e*c*c))-1/3)\n",
    "\n",
    "\n",
    "def tloss_pp(n,E):\n",
    "    \"\"\"Implements Eq. (19) of Khiali et al. (2015)\"\"\"\n",
    "    L = np.log(E/ (1*1e12*erg) ) # 1 TeV = 1 * 1e12 * erg per eV\n",
    "    E_th = 280 *1e6*erg # [MeV] 1 MeV = 1 * 1e6 * erg per eV - Proton threshold kinetic energy for neutral pion production\n",
    "    sigma_pp = (34.3 + 1.88*L + 0.25*L**2) * (1 - (E_th/E)**4 )**2 # [mb] millibarn\n",
    "    k_pp = 0.5 # Total inelasticity of the process\n",
    "    \n",
    "    return n*c*sigma_pp*k_pp\n",
    "\n",
    "\n",
    "## for photomeson production (p-gamma)\n",
    "\n",
    "def sigma_pgamma(epsilon_r):\n",
    "    \"\"\"cross-section\"\"\"\n",
    "    if 300e6 * erg <= epsilon_r <= 500e6 * erg:\n",
    "        return 340e-30  # 340 microbarn in cm^2\n",
    "    elif epsilon_r > 500e6 * erg:\n",
    "        return 120e-30  # 120 microbarn in cm^2\n",
    "    else:\n",
    "        return 0\n",
    "    \n",
    "def K_pgamma(epsilon_r):\n",
    "    \"\"\"inelasticity of the interaction\"\"\"\n",
    "    if 300e6 * erg <= epsilon_r <= 500e6 * erg:\n",
    "        return 0.2\n",
    "    elif epsilon_r > 500e6 * erg:\n",
    "        return 0.6\n",
    "    else:\n",
    "        return 0\n",
    "    \n",
    "def n_ph(E_ph):\n",
    "    \"\"\"isotropic photon field density\n",
    "    Eq. (4) from Mbarek et al. 2023\"\"\"\n",
    "    r_c = 10 * R_sch\n",
    "    epsilon_o = 7e3 * erg # [keV] 1 keV = 1e3 * erg to eV\n",
    "    U_x = l_x / (4 * np.pi * c * r_c**2)\n",
    "    \n",
    "    if E_ph < 20e3 * erg:  # 20 keV in erg\n",
    "        return U_x * epsilon_o**(-2)\n",
    "    elif 20e3 * erg <= E_ph <= 200e3 * erg:  # 200 keV in erg\n",
    "        return U_x * E_ph**(-2)\n",
    "    else:\n",
    "        return 0\n",
    "\n",
    "def tloss_pgamma(n,E):\n",
    "    E_th = 145 *1e6*erg # [MeV] 1 MeV = 1 * 1e6 * erg per eV - Photomeson production threshold for photon energies\n",
    "    gamma_p = E / (m_e*c*c)\n",
    "    \n",
    "    def integrand_Eph(E_ph):\n",
    "        # epsilon_r: photon energy in the rest frame of the proton\n",
    "        integrand_epsr = np.vectorize(lambda epsilon_r: sigma_pgamma(epsilon_r) * K_pgamma(epsilon_r) * epsilon_r)\n",
    "        \n",
    "        # def integrand_epsr(epsilon_r):\n",
    "            # return sigma_pgamma(epsilon_r) * K_pgamma(epsilon_r) * epsilon_r\n",
    "        \n",
    "        lower_epsr = E_th\n",
    "        upper_epsr = 2 * E_ph * gamma_p\n",
    "        \n",
    "        epsilon_r = np.linspace(lower_epsr, upper_epsr, 1000)  # Adjust the number of points as needed\n",
    "        integral_epsr = np.trapz(integrand_epsr(epsilon_r), epsilon_r)\n",
    "        \n",
    "        # integral_epsr, _ = quad(integrand_epsr, lower_epsr, upper_epsr)\n",
    "        return (n_ph(E_ph) / E_ph**2) * integral_epsr\n",
    "    \n",
    "    lower_Eph = E_th / (2 * gamma_p)\n",
    "    \n",
    "    integral_Eph, _ = quad(integrand_Eph, lower_Eph, np.inf)\n",
    "    \n",
    "    return c / (2 * gamma_p**2) * integral_Eph"
   ]
  },
  {
   "cell_type": "code",
   "execution_count": null,
   "id": "9d9c23a9-60ff-462a-8b57-375c338adc3e",
   "metadata": {},
   "outputs": [],
   "source": []
  },
  {
   "cell_type": "code",
   "execution_count": 26,
   "id": "a6ae162b-4377-4169-9ff6-c1ee537d6e19",
   "metadata": {},
   "outputs": [
    {
     "data": {
      "image/png": "[encoded data removed]",
      "text/plain": [
       "<Figure size 720x432 with 1 Axes>"
      ]
     },
     "metadata": {
      "needs_background": "light"
     },
     "output_type": "display_data"
    }
   ],
   "source": [
    "## erg\n",
    "\n",
    "plt.figure(figsize=(10, 6))\n",
    "plt.loglog(Ee,tacc_rec(Ee,l_x,B,rho),'--',label='Acceleration (Reconnection)',color='k')\n",
    "plt.loglog(Ee,tacc_shock(B,Ee),label='Acceleration (Shock)',color='r')\n",
    "plt.loglog(Ee,tloss_syn(Ee,B,m_e),label='Synchrotron',color='blue')\n",
    "plt.loglog(Ee,tloss_bre(n,1,Ee),label='Bremsstrahlung',color='green')\n",
    "plt.loglog(Ee,tloss_pp(n,Ee),label='pp',color='magenta')\n",
    "# plt.loglog(Ee,tloss_pgamma(n,Ee),label='p-gamma',color='cyan')\n",
    "\n",
    "plt.xlim((Ee.min(),Ee.max()))\n",
    "plt.legend(frameon=False)\n",
    "plt.xlabel('log(E [erg])')\n",
    "plt.ylabel('log(1/t [s$^{-1}$])')\n",
    "# plt.ylim((1e-4,1e4))\n",
    "plt.xticks([1e-3,1e-2,1e-1,1e0,1e1,1e2],labels=['-3','-2','-1','0','1','2'])\n",
    "plt.savefig('plots/cooling_leptons_erg.png',dpi=300)\n",
    "\n",
    "plt.show()"
   ]
  },
  {
   "cell_type": "code",
   "execution_count": 27,
   "id": "5470d7a9-d30b-46a5-9f7e-1afb611d5f16",
   "metadata": {},
   "outputs": [
    {
     "data": {
      "image/png": "[encoded data removed]",
      "text/plain": [
       "<Figure size 720x432 with 1 Axes>"
      ]
     },
     "metadata": {
      "needs_background": "light"
     },
     "output_type": "display_data"
    }
   ],
   "source": [
    "## eV\n",
    "\n",
    "plt.figure(figsize=(10, 6))\n",
    "\n",
    "plt.loglog(Ee/erg,tacc_rec(Ee,l_x,B,rho),'--',label='Acceleration (Reconnection)',color='k')\n",
    "plt.loglog(Ee/erg,tacc_shock(B,Ee),label='Acceleration (Shock)',color='r')\n",
    "plt.loglog(Ee/erg,tloss_syn(Ee,B,m_e),label='Synchrotron',color='blue')\n",
    "plt.loglog(Ee/erg,tloss_bre(n,1,Ee),label='Bremsstrahlung',color='green')\n",
    "plt.loglog(Ee/erg,tloss_pp(n,Ee),label='pp',color='magenta')\n",
    "# plt.loglog(Ee/erg,tloss_pgamma(n,Ee),label='p-gamma',color='cyan')\n",
    "\n",
    "plt.xlim((Ee.min()/erg,Ee.max()/erg))\n",
    "plt.legend(frameon=False,loc='upper right')\n",
    "plt.xlabel('log(E [eV])')\n",
    "plt.ylabel('log(1/t [s$^{-1}$])')\n",
    "# plt.ylim((1e-11,1e9))\n",
    "plt.xticks([1e8,1e9,1e10,1e11,1e12,1e13,1e14],labels=['8','9','10','11','12','13','14'])\n",
    "\n",
    "plt.tight_layout()\n",
    "plt.savefig('plots/cooling_leptons_eV.png',dpi=300)\n",
    "\n",
    "plt.show()"
   ]
  },
  {
   "cell_type": "code",
   "execution_count": null,
   "id": "be0da35c-bd02-4e34-94d5-7098ef219c3f",
   "metadata": {},
   "outputs": [],
   "source": []
  },
  {
   "cell_type": "code",
   "execution_count": null,
   "id": "3e048fa4-23f3-4170-a437-93703af5aacc",
   "metadata": {},
   "outputs": [],
   "source": []
  },
  {
   "cell_type": "code",
   "execution_count": null,
   "id": "a86ddb69-5a3b-4000-82b6-209690f04546",
   "metadata": {},
   "outputs": [],
   "source": []
  }
 ],
 "metadata": {
  "kernelspec": {
   "display_name": "Python 3 (ipykernel)",
   "language": "python",
   "name": "python3"
  },
  "language_info": {
   "codemirror_mode": {
    "name": "ipython",
    "version": 3
   },
   "file_extension": ".py",
   "mimetype": "text/x-python",
   "name": "python",
   "nbconvert_exporter": "python",
   "pygments_lexer": "ipython3",
   "version": "3.9.7"
  }
 },
 "nbformat": 4,
 "nbformat_minor": 5
}
