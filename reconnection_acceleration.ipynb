{
 "cells": [
  {
   "cell_type": "markdown",
   "id": "cfb8c3b8-caeb-4ace-a08c-0dde719dfae0",
   "metadata": {},
   "source": [
    "This notebook was created for the study of a galaxy Seyfert Type II."
   ]
  },
  {
   "cell_type": "code",
   "execution_count": 1,
   "id": "bad6bf48-6a0d-4db1-ab21-87eb2e142992",
   "metadata": {},
   "outputs": [],
   "source": [
    "%run __init__.py"
   ]
  },
  {
   "cell_type": "markdown",
   "id": "706cf604-a2ea-4f3d-8fef-b9159ab4cc99",
   "metadata": {},
   "source": [
    "Defining our source"
   ]
  },
  {
   "cell_type": "code",
   "execution_count": 2,
   "id": "a201b8f5-06d1-4052-94e3-98bbb1e52398",
   "metadata": {},
   "outputs": [
    {
     "name": "stdout",
     "output_type": "stream",
     "text": [
      "\n",
      "Reconnection Power:\n",
      " wdot_B = 5.1226E+42 erg s-1\n",
      "\n",
      "Coronal Magnetic Field:\n",
      " B_c = 1.9843E+04 G\n",
      "\n",
      "Coronal Particle Number Density:\n",
      " n_c = 5.1761E+10 cm-3\n",
      "\n",
      "Coronal Temperature:\n",
      " T_c = 3.1016E+09 K\n",
      "\n",
      "Width of the current sheet:\n",
      " delta_RX = 4.2860E+10 cm\n"
     ]
    }
   ],
   "source": [
    "# Import the class\n",
    "from __init__ import BHPhysics\n",
    "\n",
    "# Initialize the BHPhysics class\n",
    "bh_physics = BHPhysics(Gamma=1/np.sqrt(2), r_x=6, l=10, l_x=5, q=(1 - (3 / 6)**(1/2))**(1/4), mdot=0.7, m=2e7)\n",
    "\n",
    "# Calculate parameters\n",
    "wdot_B = bh_physics.mag_rec_power()\n",
    "B_c = bh_physics.coronal_mag_field()\n",
    "n_c = bh_physics.coronal_density()\n",
    "T_c = bh_physics.coronal_temperature()\n",
    "delta_RX = bh_physics.width_current_sheet()\n",
    "\n",
    "# Print results\n",
    "print(f'\\nReconnection Power:\\n wdot_B = {wdot_B:.4E} erg s-1')\n",
    "print(f'\\nCoronal Magnetic Field:\\n B_c = {B_c:.4E} G')\n",
    "print(f'\\nCoronal Particle Number Density:\\n n_c = {n_c:.4E} cm-3')\n",
    "print(f'\\nCoronal Temperature:\\n T_c = {T_c:.4E} K')\n",
    "print(f'\\nWidth of the current sheet:\\n delta_RX = {delta_RX:.4E} cm')"
   ]
  },
  {
   "cell_type": "code",
   "execution_count": null,
   "id": "f80d0526-3699-4d22-ab11-1e904288df8c",
   "metadata": {},
   "outputs": [],
   "source": []
  },
  {
   "cell_type": "code",
   "execution_count": null,
   "id": "3277ee60-ec49-4ac7-aab3-278a7ead6da5",
   "metadata": {},
   "outputs": [],
   "source": []
  },
  {
   "cell_type": "code",
   "execution_count": 3,
   "id": "276c6cb8-ccc6-4d46-ba98-b0c1c28ea34a",
   "metadata": {},
   "outputs": [],
   "source": [
    "# c = (const.c).to('cm s-1')\n",
    "# m_e = (const.m_e).to('g')\n",
    "# m_p = (const.m_p).to('g')\n",
    "# sigma_T = (const.sigma_T).to('cm2')\n",
    "# e = (const.e).value / (3.33564e-10) * u.statcoulomb\n",
    "\n",
    "# alpha_f = 1/137 # fine structure constant [dim.]\n",
    "# r_0 = 2.8179e-13 * u.cm # electron classical radius [cm]"
   ]
  },
  {
   "cell_type": "code",
   "execution_count": null,
   "id": "2554a9c5-e649-409a-b2fa-5f2df92c69c7",
   "metadata": {},
   "outputs": [],
   "source": []
  },
  {
   "cell_type": "code",
   "execution_count": 4,
   "id": "4e0975ae-e156-4a7e-8d02-c25813055dc3",
   "metadata": {},
   "outputs": [],
   "source": [
    "# def mag_rec_power(Gamma, r_X, l, l_X, q, mdot, m):\n",
    "#     ''' Magnetic recconection power released by turbulent fast reconnection in the surrounds of the BH.\n",
    "#     Eq. (15) of Kadowaki, de Gouveia Dal Pino & Singh 2015 (KGS15).'''\n",
    "#     # [erg s-1]\n",
    "    \n",
    "#     return 1.66e35 * Gamma**(-1/2) * r_X**(-5/8) * l**(-1/4) * l_X * q**(-2) * mdot**(3/4) * m\n",
    "\n",
    "# def coronal_mag_field(r_x, mdot, m):\n",
    "#     '''Inner disk magnetic field intensity.\n",
    "#     Eq.(2) of KGS15.'''\n",
    "#     # [G]\n",
    "    \n",
    "#     return 9.96e8 * r_x**(-5/4) * mdot**(1/2) * m**(-1/2)\n",
    "\n",
    "# def coronal_density(Gamma, r_x, l,  q, mdot, m):\n",
    "#     '''Eq.(7) of KGS15.'''\n",
    "#     # [cm-3]\n",
    "    \n",
    "#     return 8.02e18 * Gamma**(1/2) * r_x**(-3/8) * l**(-3/4) * q**(-2) * mdot**(1/4) * m**(-1)\n",
    "\n",
    "# def coronal_temperature(Gamma, r_x, l, q, mdot):\n",
    "#     '''Eq.(6) of KGS15.'''\n",
    "#     # [K]\n",
    "    \n",
    "#     return 2.73e9 * Gamma**(1/4) * r_x**(-3/16) * l**(1/8) * q**(-1) * mdot**(1/8)\n",
    "\n",
    "# def width_current_sheet(Gamma, r_x, l, l_x, q, mdot, m):\n",
    "#     '''Eq.(14) from ERRATUM of KGS15.'''\n",
    "#     # [cm]\n",
    "    \n",
    "#     return 11.6 * Gamma**(-5/4) * r_x**(31/16) * l**(-5/8) * l_x * q**(-3) * mdot**(-5/8) * m"
   ]
  },
  {
   "cell_type": "code",
   "execution_count": 5,
   "id": "e6fb28c3-d7c2-4c19-b3c3-fc364df73387",
   "metadata": {},
   "outputs": [],
   "source": [
    "# wdot_B = mag_rec_power(Gamma, r_x, l, l_x, q, mdot, m) # erg s-1\n",
    "# B_c = coronal_mag_field(r_x, mdot, m) # G\n",
    "# n_c = coronal_density(Gamma, r_x, l,  q, mdot, m) # cm-3\n",
    "# T_c = coronal_temperature(Gamma, r_x, l, q, mdot) # K\n",
    "# delta_RX = width_current_sheet(Gamma, r_x, l, l_x, q, mdot, m) # cm"
   ]
  },
  {
   "cell_type": "code",
   "execution_count": 6,
   "id": "0c4c5eae-3477-4e89-880a-9cfd44648346",
   "metadata": {},
   "outputs": [],
   "source": [
    "# print(f'\\nReconnection Power:\\n wdot_B = {wdot_B:.4E} erg s-1')\n",
    "# print(f'\\nCoronal Magnetic Field:\\n B_c = {B_c:.4E} G')\n",
    "# print(f'\\nCoronal Particle Number Density:\\n n_c = {n_c:.4E} cm-3')\n",
    "# print(f'\\nCoronal Temperature:\\n T_c = {T_c:.4E} K')\n",
    "# print(f'\\nWidth of the current sheet:\\n delta_RX = {delta_RX:.4E} cm')"
   ]
  },
  {
   "cell_type": "code",
   "execution_count": null,
   "id": "04be6c37-9150-416b-aa50-df4b5cce4393",
   "metadata": {},
   "outputs": [],
   "source": []
  },
  {
   "cell_type": "code",
   "execution_count": 7,
   "id": "5cfa0973-1bfb-4dbf-98c8-535ead9317b4",
   "metadata": {},
   "outputs": [],
   "source": [
    "erg = 1.602177e-12 # [1 eV = 1.6022e-12 erg]\n",
    "\n",
    "Ep = np.linspace(1e9, 1e16)*erg # Energy range [erg]\n",
    "\n",
    "rho = n_c * m_p # [g cm-3] fluid density"
   ]
  },
  {
   "cell_type": "code",
   "execution_count": 8,
   "id": "9d9c23a9-60ff-462a-8b57-375c338adc3e",
   "metadata": {},
   "outputs": [],
   "source": [
    "E_norm = Ep / (m_p*c**2)"
   ]
  },
  {
   "cell_type": "code",
   "execution_count": 9,
   "id": "e92ff5e3-9eaf-42a2-af72-f4d60860bbb1",
   "metadata": {},
   "outputs": [],
   "source": [
    "# E_norm"
   ]
  },
  {
   "cell_type": "code",
   "execution_count": 10,
   "id": "32522813-35cb-4c87-b567-2f839724a905",
   "metadata": {},
   "outputs": [
    {
     "data": {
      "text/plain": [
       "0.44871560804816396"
      ]
     },
     "execution_count": 10,
     "metadata": {},
     "output_type": "execute_result"
    }
   ],
   "source": [
    "va0 = B_c / np.sqrt(4 * np.pi * rho)\n",
    "\n",
    "va = va0 * Gamma\n",
    "\n",
    "va/c"
   ]
  },
  {
   "cell_type": "code",
   "execution_count": null,
   "id": "6e65c8ac-2df9-436f-920c-2884a349cc87",
   "metadata": {},
   "outputs": [],
   "source": []
  },
  {
   "cell_type": "code",
   "execution_count": null,
   "id": "9b26e435-0faf-49cc-8690-0ab27c45255a",
   "metadata": {},
   "outputs": [],
   "source": []
  },
  {
   "cell_type": "code",
   "execution_count": null,
   "id": "b0ba2141-b4d6-4a00-8510-b5328ee2693a",
   "metadata": {},
   "outputs": [],
   "source": []
  },
  {
   "cell_type": "code",
   "execution_count": null,
   "id": "c6f1f764-918b-4b4b-9343-379f315daca2",
   "metadata": {},
   "outputs": [],
   "source": []
  },
  {
   "cell_type": "code",
   "execution_count": 11,
   "id": "ae6d83fa-4048-47cd-9034-d7a3e6af4cb6",
   "metadata": {},
   "outputs": [],
   "source": [
    "r_c = 10 * R_s  # [cm] coronal size\n",
    "L_x = 7 * 10**43 # [erg s-1]\n",
    "epsilon_0 = 7e3 * erg # [erg] 7 keV = 7e3 * erg to eV compton hump energy\n",
    "\n",
    "U_x = L_x / (4 * np.pi * c * r_c**2)"
   ]
  },
  {
   "cell_type": "code",
   "execution_count": 12,
   "id": "763934ad-7402-46a2-be91-23571139f398",
   "metadata": {},
   "outputs": [],
   "source": [
    "n_x = U_x * ( epsilon_0**(-2) * (20e3 * erg - 1e3 * erg) + ( -(200e3*erg)**(-1) + (20e3*erg)**(-1) ) )"
   ]
  },
  {
   "cell_type": "code",
   "execution_count": 13,
   "id": "d6a0faa6-cc54-40b4-90ac-8d970b8c7994",
   "metadata": {},
   "outputs": [
    {
     "name": "stdout",
     "output_type": "stream",
     "text": [
      "\n",
      "Photon field Energy Density for X-rays = 1.43205E+13 cm-3\n"
     ]
    }
   ],
   "source": [
    "print(f'\\nPhoton field Energy Density for X-rays = {n_x:.5E} cm-3')"
   ]
  },
  {
   "cell_type": "code",
   "execution_count": null,
   "id": "98a48ae8-ade8-45d2-b995-57b56ea6be22",
   "metadata": {},
   "outputs": [],
   "source": []
  },
  {
   "cell_type": "code",
   "execution_count": 14,
   "id": "59426048-e456-40d7-94eb-6006b67da52d",
   "metadata": {},
   "outputs": [],
   "source": [
    "def timeacc_fermi(E):\n",
    "    '''Eq.(2.37) of Medina-Torrejon Thesis'''\n",
    "    alpha = 0.1\n",
    "    s = 1/alpha\n",
    "    E0 = 10**(4)\n",
    "    t0 = 700\n",
    "    ## hours\n",
    "    # return s**(-1) * (E0/E)**(-1/s) * t0\n",
    "    return (E0/E)**(-1/s) * t0\n",
    "\n",
    "\n",
    "def timeacc_drift(E, B, va):\n",
    "    '''Eq.(7) of Del Valle, de Gouveia Dal Pino & Kowal 2016 e de Gouveia Dal Pino & Kowal 2015'''\n",
    "    v_rec = 0.05 * va\n",
    "    \n",
    "    return E / (e*B*v_rec)"
   ]
  },
  {
   "cell_type": "code",
   "execution_count": null,
   "id": "bf9ba815-bbda-4dd2-9038-9e3c91646437",
   "metadata": {},
   "outputs": [],
   "source": []
  },
  {
   "cell_type": "code",
   "execution_count": null,
   "id": "f07ca759-2a77-44f4-bb8d-773d4516ee9a",
   "metadata": {},
   "outputs": [],
   "source": []
  },
  {
   "cell_type": "markdown",
   "id": "b2ef943e-4870-4ad7-b585-4192a691b525",
   "metadata": {},
   "source": [
    "Hadrons"
   ]
  },
  {
   "cell_type": "code",
   "execution_count": 15,
   "id": "0e61f4fb-a68b-406b-bca7-09fa59c13f75",
   "metadata": {},
   "outputs": [
    {
     "data": {
      "image/png": "[encoded data removed]",
      "text/plain": [
       "<Figure size 1000x600 with 1 Axes>"
      ]
     },
     "metadata": {},
     "output_type": "display_data"
    }
   ],
   "source": [
    "## erg\n",
    "\n",
    "plt.figure(figsize=(10, 6))\n",
    "\n",
    "plt.loglog(E_norm,timeacc_fermi(E_norm),'--',label='Acceleration (Fermi)',color='blue')\n",
    "plt.loglog(E_norm,timeacc_drift(E_norm, B_c, va),label='Acceleration (Drift)',color='purple')\n",
    "\n",
    "plt.xlim((E_norm.min(),E_norm.max()))\n",
    "plt.legend(frameon=False)\n",
    "plt.xlabel('E / $m_p$ $c^2$')\n",
    "plt.ylabel('t [hour]')\n",
    "# plt.ylim((1e-4,1e4))\n",
    "# plt.xticks([1e-2,1e-1,1e0,1e1,1e2,1e3],labels=['-2','-1','0','1','2','3'])\n",
    "# plt.savefig('plots/cooling_hadrons_erg.png',dpi=300)\n",
    "\n",
    "plt.show()"
   ]
  },
  {
   "cell_type": "code",
   "execution_count": 16,
   "id": "3b442a71-6bd5-420d-9690-07bd1bde82d1",
   "metadata": {},
   "outputs": [],
   "source": [
    "# ## eV\n",
    "\n",
    "# plt.figure(figsize=(10, 6))\n",
    "\n",
    "# plt.loglog(E_norm/erg,timeacc_fermi(E_norm),'--',label='Acceleration (Fermi)',color='blue')\n",
    "# plt.loglog(E_norm/erg,timeacc_drift(E_norm, B_c, va),label='Acceleration (Drift)',color='purple')\n",
    "\n",
    "# plt.xlim((E_norm.min()/erg,E_norm.max()/erg))\n",
    "# plt.legend(frameon=False)\n",
    "# plt.xlabel(f'E / $m_p$ $c^2$')\n",
    "# plt.ylabel(f't [hour]')\n",
    "# # plt.ylim((1e-11,1e9))\n",
    "# # plt.xticks([1e9,1e10,1e11,1e12,1e13,1e14,1e15],labels=['9','10','11','12','13','14','15'])\n",
    "\n",
    "# # plt.savefig('plots/cooling_hadrons_eV.png',dpi=300)\n",
    "\n",
    "# plt.show()"
   ]
  },
  {
   "cell_type": "code",
   "execution_count": null,
   "id": "dd79a5c6-46a6-4997-9d4a-798d26512ebd",
   "metadata": {},
   "outputs": [],
   "source": []
  },
  {
   "cell_type": "code",
   "execution_count": null,
   "id": "9f41e67c-40a8-4e5d-bed1-f23044917044",
   "metadata": {},
   "outputs": [],
   "source": []
  },
  {
   "cell_type": "code",
   "execution_count": null,
   "id": "d8973c8c-27c6-4df3-be86-aa1436a5440c",
   "metadata": {},
   "outputs": [],
   "source": []
  }
 ],
 "metadata": {
  "kernelspec": {
   "display_name": "Python 3 (ipykernel)",
   "language": "python",
   "name": "python3"
  },
  "language_info": {
   "codemirror_mode": {
    "name": "ipython",
    "version": 3
   },
   "file_extension": ".py",
   "mimetype": "text/x-python",
   "name": "python",
   "nbconvert_exporter": "python",
   "pygments_lexer": "ipython3",
   "version": "3.9.7"
  }
 },
 "nbformat": 4,
 "nbformat_minor": 5
}
