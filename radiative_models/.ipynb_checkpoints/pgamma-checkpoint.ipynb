{
 "cells": [
  {
   "cell_type": "code",
   "execution_count": null,
   "id": "4ebc2593-8d11-45f1-a1a7-803a90789fd2",
   "metadata": {},
   "outputs": [],
   "source": [
    "from astro_constants import *\n",
    "from source_info import *"
   ]
  },
  {
   "cell_type": "code",
   "execution_count": null,
   "id": "0b91738b-21a0-42fd-9358-1001a70e7070",
   "metadata": {},
   "outputs": [],
   "source": [
    "import numpy as np\n",
    "import pandas as pd\n",
    "import seaborn as sns\n",
    "import matplotlib.pyplot as plt\n",
    "from scipy.integrate import quad\n",
    "from astropy import units as u\n",
    "from astropy import constants as const\n",
    "from scipy.stats import chisquare\n",
    "from scipy.optimize import curve_fit"
   ]
  },
  {
   "cell_type": "code",
   "execution_count": null,
   "id": "081495fe-dff6-4a61-ad28-baa1a4497d1b",
   "metadata": {},
   "outputs": [],
   "source": []
  },
  {
   "cell_type": "code",
   "execution_count": null,
   "id": "fb31317e-a826-4049-a213-a89ef77aef88",
   "metadata": {},
   "outputs": [],
   "source": []
  },
  {
   "cell_type": "code",
   "execution_count": null,
   "id": "d886d3c7-7836-45fa-9d47-0a5e93e2a398",
   "metadata": {},
   "outputs": [],
   "source": []
  }
 ],
 "metadata": {
  "kernelspec": {
   "display_name": "Python 3 (ipykernel)",
   "language": "python",
   "name": "python3"
  },
  "language_info": {
   "codemirror_mode": {
    "name": "ipython",
    "version": 3
   },
   "file_extension": ".py",
   "mimetype": "text/x-python",
   "name": "python",
   "nbconvert_exporter": "python",
   "pygments_lexer": "ipython3",
   "version": "3.9.7"
  }
 },
 "nbformat": 4,
 "nbformat_minor": 5
}
