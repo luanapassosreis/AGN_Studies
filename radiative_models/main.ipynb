{
 "cells": [
  {
   "cell_type": "markdown",
   "id": "182fbdbf-ebd5-404a-b943-2dd57c10a7f8",
   "metadata": {},
   "source": [
    "Main Examples to try to plot.\n",
    "\n",
    "Welcome to Naima: https://naima.readthedocs.io/en/latest/\n",
    "\n",
    "Radiative Models: https://naima.readthedocs.io/en/latest/api-models.html#naima.models.PionDecay\n",
    "\n",
    "Sherpa: https://naima.readthedocs.io/en/latest/sherpa.html\n",
    "\n",
    "Likelihood Model Fitting: https://naima.readthedocs.io/en/latest/mcmc.html"
   ]
  }
 ],
 "metadata": {
  "kernelspec": {
   "display_name": "Python 3 (ipykernel)",
   "language": "python",
   "name": "python3"
  },
  "language_info": {
   "codemirror_mode": {
    "name": "ipython",
    "version": 3
   },
   "file_extension": ".py",
   "mimetype": "text/x-python",
   "name": "python",
   "nbconvert_exporter": "python",
   "pygments_lexer": "ipython3",
   "version": "3.9.7"
  }
 },
 "nbformat": 4,
 "nbformat_minor": 5
}
