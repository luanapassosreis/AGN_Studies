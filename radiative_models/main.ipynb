{
 "cells": [
  {
   "cell_type": "markdown",
   "id": "182fbdbf-ebd5-404a-b943-2dd57c10a7f8",
   "metadata": {},
   "source": [
    "Main Examples to try to plot.\n",
    "\n",
    "Welcome to Naima: https://naima.readthedocs.io/en/latest/\n",
    "\n",
    "Radiative Models: https://naima.readthedocs.io/en/latest/api-models.html#naima.models.PionDecay\n",
    "\n",
    "Sherpa: https://naima.readthedocs.io/en/latest/sherpa.html\n",
    "\n",
    "Likelihood Model Fitting: https://naima.readthedocs.io/en/latest/mcmc.html"
   ]
  },
  {
   "cell_type": "code",
   "execution_count": null,
   "id": "6e984f6a-216a-4fe2-9779-d74ee46dcdee",
   "metadata": {},
   "outputs": [],
   "source": []
  },
  {
   "cell_type": "code",
   "execution_count": null,
   "id": "ecf8711c-0321-401a-93e5-90fe960de791",
   "metadata": {},
   "outputs": [],
   "source": []
  },
  {
   "cell_type": "code",
   "execution_count": null,
   "id": "a57012a7-f89e-464b-b769-0cd4c318b103",
   "metadata": {},
   "outputs": [],
   "source": []
  },
  {
   "cell_type": "code",
   "execution_count": null,
   "id": "30cceb67-f3a0-463d-a1e1-2494ecf75d7b",
   "metadata": {},
   "outputs": [],
   "source": []
  },
  {
   "cell_type": "code",
   "execution_count": null,
   "id": "1e929d1d-0b2b-4e5a-b2ed-25a3d128a796",
   "metadata": {},
   "outputs": [],
   "source": []
  }
 ],
 "metadata": {
  "kernelspec": {
   "display_name": "Python 3 (ipykernel)",
   "language": "python",
   "name": "python3"
  },
  "language_info": {
   "codemirror_mode": {
    "name": "ipython",
    "version": 3
   },
   "file_extension": ".py",
   "mimetype": "text/x-python",
   "name": "python",
   "nbconvert_exporter": "python",
   "pygments_lexer": "ipython3",
   "version": "3.9.7"
  }
 },
 "nbformat": 4,
 "nbformat_minor": 5
}
